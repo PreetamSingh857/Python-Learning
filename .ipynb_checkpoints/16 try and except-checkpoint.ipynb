{
 "cells": [
  {
   "cell_type": "code",
   "execution_count": 7,
   "id": "b63d43f1-8c53-4614-8e14-37194c53a17e",
   "metadata": {},
   "outputs": [
    {
     "name": "stdout",
     "output_type": "stream",
     "text": [
      "hi\n",
      "change the denominator from zero\n",
      "The end\n"
     ]
    }
   ],
   "source": [
    "try:\n",
    "    print('hi')\n",
    "    print(5/0)\n",
    "    print(\"welcome\")\n",
    "except ZeroDivisionError:\n",
    "    print(\"change the denominator from zero\")\n",
    "else:\n",
    "    print('user')\n",
    "finally:\n",
    "    print('The end')"
   ]
  },
  {
   "cell_type": "code",
   "execution_count": 16,
   "id": "7a0510e3-016c-4bdb-a2f2-c6cb20f1cfed",
   "metadata": {},
   "outputs": [
    {
     "name": "stdout",
     "output_type": "stream",
     "text": [
      "hi\n",
      "5\n",
      "welcome\n",
      "user\n",
      "The end\n"
     ]
    }
   ],
   "source": [
    "try:\n",
    "    print('hi')\n",
    "    print(5)\n",
    "    print(\"welcome\")\n",
    "except SyntaxError:\n",
    "    print(\"change the denominator from zero\")\n",
    "except :\n",
    "    print(\"ERROR\")\n",
    "else:\n",
    "    print('user')\n",
    "finally:\n",
    "    print('The end')"
   ]
  },
  {
   "cell_type": "code",
   "execution_count": null,
   "id": "8b174810-da19-4f0d-98dd-3b27794abe8e",
   "metadata": {},
   "outputs": [],
   "source": []
  },
  {
   "cell_type": "code",
   "execution_count": null,
   "id": "a42ac57e-eb47-4129-99eb-43220ef3f832",
   "metadata": {},
   "outputs": [],
   "source": []
  }
 ],
 "metadata": {
  "kernelspec": {
   "display_name": "Python 3 (ipykernel)",
   "language": "python",
   "name": "python3"
  },
  "language_info": {
   "codemirror_mode": {
    "name": "ipython",
    "version": 3
   },
   "file_extension": ".py",
   "mimetype": "text/x-python",
   "name": "python",
   "nbconvert_exporter": "python",
   "pygments_lexer": "ipython3",
   "version": "3.13.5"
  }
 },
 "nbformat": 4,
 "nbformat_minor": 5
}
