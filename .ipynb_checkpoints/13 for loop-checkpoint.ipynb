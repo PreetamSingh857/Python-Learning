{
 "cells": [
  {
   "cell_type": "code",
   "execution_count": 1,
   "id": "aee904c1-3cca-420b-9b63-d70b5a868a4f",
   "metadata": {},
   "outputs": [
    {
     "name": "stdout",
     "output_type": "stream",
     "text": [
      "o\n",
      "i\n",
      "a\n",
      "j\n",
      "o\n",
      "i\n",
      "s\n"
     ]
    }
   ],
   "source": [
    "name = 'oiajois'\n",
    "for alphabet in name:\n",
    "    print(alphabet)"
   ]
  },
  {
   "cell_type": "code",
   "execution_count": 2,
   "id": "43b3dea8-7830-4c10-9885-2e5698ed7d11",
   "metadata": {},
   "outputs": [
    {
     "name": "stdout",
     "output_type": "stream",
     "text": [
      "tamatr\n",
      "pyaz\n",
      "aloo\n"
     ]
    }
   ],
   "source": [
    "parchi = ['tamatr', 'pyaz', 'aloo']\n",
    "for sabzi in parchi:\n",
    "    print(sabzi)"
   ]
  },
  {
   "cell_type": "code",
   "execution_count": 3,
   "id": "5ffb35bc-0ef8-43af-afdc-c3603bff84cb",
   "metadata": {},
   "outputs": [
    {
     "name": "stdout",
     "output_type": "stream",
     "text": [
      "1\n",
      "2\n",
      "5\n",
      "6\n",
      "7\n"
     ]
    }
   ],
   "source": [
    "s = {1,5,2,6,7}\n",
    "for i in s:\n",
    "    print(i)"
   ]
  },
  {
   "cell_type": "code",
   "execution_count": 6,
   "id": "4e8ae2ae-fa14-4ead-a12b-49dad6926163",
   "metadata": {},
   "outputs": [
    {
     "name": "stdout",
     "output_type": "stream",
     "text": [
      "4\n",
      "6\n",
      "8\n"
     ]
    }
   ],
   "source": [
    "for i in range(4, 10, 2):\n",
    "    print(i)"
   ]
  },
  {
   "cell_type": "code",
   "execution_count": 7,
   "id": "20fda967-55ea-4c2b-ad57-f1e5fcf930ed",
   "metadata": {},
   "outputs": [
    {
     "name": "stdout",
     "output_type": "stream",
     "text": [
      "0 s\n",
      "1 j\n",
      "2 d\n",
      "3 f\n",
      "4 i\n",
      "5 o\n"
     ]
    }
   ],
   "source": [
    "name = 'sjdfio'\n",
    "for i in range(len(name)):\n",
    "    print(i, name[i])"
   ]
  },
  {
   "cell_type": "code",
   "execution_count": null,
   "id": "cded4fa0-21f5-4fd6-8329-00fb36c02372",
   "metadata": {},
   "outputs": [],
   "source": []
  }
 ],
 "metadata": {
  "kernelspec": {
   "display_name": "Python 3 (ipykernel)",
   "language": "python",
   "name": "python3"
  },
  "language_info": {
   "codemirror_mode": {
    "name": "ipython",
    "version": 3
   },
   "file_extension": ".py",
   "mimetype": "text/x-python",
   "name": "python",
   "nbconvert_exporter": "python",
   "pygments_lexer": "ipython3",
   "version": "3.13.5"
  }
 },
 "nbformat": 4,
 "nbformat_minor": 5
}
