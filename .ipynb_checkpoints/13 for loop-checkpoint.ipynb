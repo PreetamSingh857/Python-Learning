{
 "cells": [
  {
   "cell_type": "code",
   "execution_count": 1,
   "id": "aee904c1-3cca-420b-9b63-d70b5a868a4f",
   "metadata": {},
   "outputs": [
    {
     "name": "stdout",
     "output_type": "stream",
     "text": [
      "o\n",
      "i\n",
      "a\n",
      "j\n",
      "o\n",
      "i\n",
      "s\n"
     ]
    }
   ],
   "source": [
    "name = 'oiajois'\n",
    "for alphabet in name:\n",
    "    print(alphabet)"
   ]
  },
  {
   "cell_type": "code",
   "execution_count": 2,
   "id": "43b3dea8-7830-4c10-9885-2e5698ed7d11",
   "metadata": {},
   "outputs": [
    {
     "name": "stdout",
     "output_type": "stream",
     "text": [
      "tamatr\n",
      "pyaz\n",
      "aloo\n"
     ]
    }
   ],
   "source": [
    "parchi = ['tamatr', 'pyaz', 'aloo']\n",
    "for sabzi in parchi:\n",
    "    print(sabzi)"
   ]
  },
  {
   "cell_type": "code",
   "execution_count": 3,
   "id": "5ffb35bc-0ef8-43af-afdc-c3603bff84cb",
   "metadata": {},
   "outputs": [
    {
     "name": "stdout",
     "output_type": "stream",
     "text": [
      "1\n",
      "2\n",
      "5\n",
      "6\n",
      "7\n"
     ]
    }
   ],
   "source": [
    "s = {1,5,2,6,7}\n",
    "for i in s:\n",
    "    print(i)"
   ]
  },
  {
   "cell_type": "code",
   "execution_count": 6,
   "id": "4e8ae2ae-fa14-4ead-a12b-49dad6926163",
   "metadata": {},
   "outputs": [
    {
     "name": "stdout",
     "output_type": "stream",
     "text": [
      "4\n",
      "6\n",
      "8\n"
     ]
    }
   ],
   "source": [
    "for i in range(4, 10, 2):\n",
    "    print(i)"
   ]
  },
  {
   "cell_type": "code",
   "execution_count": 7,
   "id": "20fda967-55ea-4c2b-ad57-f1e5fcf930ed",
   "metadata": {},
   "outputs": [
    {
     "name": "stdout",
     "output_type": "stream",
     "text": [
      "0 s\n",
      "1 j\n",
      "2 d\n",
      "3 f\n",
      "4 i\n",
      "5 o\n"
     ]
    }
   ],
   "source": [
    "name = 'sjdfio'\n",
    "for i in range(len(name)):\n",
    "    print(i, name[i])"
   ]
  },
  {
   "cell_type": "code",
   "execution_count": 1,
   "id": "cded4fa0-21f5-4fd6-8329-00fb36c02372",
   "metadata": {},
   "outputs": [],
   "source": [
    "import random"
   ]
  },
  {
   "cell_type": "code",
   "execution_count": 4,
   "id": "3bba3a5d-4551-4f53-aeee-eebbcb17ae26",
   "metadata": {},
   "outputs": [
    {
     "data": {
      "text/plain": [
       "10"
      ]
     },
     "execution_count": 4,
     "metadata": {},
     "output_type": "execute_result"
    }
   ],
   "source": [
    "random.randint(1, 10)"
   ]
  },
  {
   "cell_type": "code",
   "execution_count": 5,
   "id": "65f6e0cd-3d40-462f-8b1c-bd8f37070928",
   "metadata": {},
   "outputs": [],
   "source": [
    "l = []\n",
    "for i in range(15):\n",
    "    num = random.randint(1, 10)\n",
    "    l.append(num)"
   ]
  },
  {
   "cell_type": "code",
   "execution_count": 6,
   "id": "12ee7a73-51dc-43c5-87a3-f3ec7a9efcbc",
   "metadata": {},
   "outputs": [
    {
     "data": {
      "text/plain": [
       "[4, 9, 5, 10, 6, 6, 9, 2, 6, 5, 7, 4, 3, 5, 6]"
      ]
     },
     "execution_count": 6,
     "metadata": {},
     "output_type": "execute_result"
    }
   ],
   "source": [
    "l"
   ]
  },
  {
   "cell_type": "code",
   "execution_count": 7,
   "id": "159a09cc-0070-4313-9a2e-5a70c4bf641a",
   "metadata": {},
   "outputs": [],
   "source": [
    "l = []\n",
    "a = []\n",
    "for i in range(5):\n",
    "    n = random.randint(2,20)\n",
    "    l.append(n)\n",
    "    a.append(n*n)"
   ]
  },
  {
   "cell_type": "code",
   "execution_count": 8,
   "id": "fc47a6e4-9770-4eb9-b1b6-430682033bc8",
   "metadata": {},
   "outputs": [
    {
     "data": {
      "text/plain": [
       "[3, 12, 3, 18, 14]"
      ]
     },
     "execution_count": 8,
     "metadata": {},
     "output_type": "execute_result"
    }
   ],
   "source": [
    "l"
   ]
  },
  {
   "cell_type": "code",
   "execution_count": 9,
   "id": "ea316b3d-70a1-419b-a3a4-d001bf3874e8",
   "metadata": {},
   "outputs": [
    {
     "data": {
      "text/plain": [
       "[9, 144, 9, 324, 196]"
      ]
     },
     "execution_count": 9,
     "metadata": {},
     "output_type": "execute_result"
    }
   ],
   "source": [
    "a"
   ]
  },
  {
   "cell_type": "code",
   "execution_count": 20,
   "id": "665f3209-c492-4535-9a7c-3a916f624377",
   "metadata": {},
   "outputs": [],
   "source": [
    "b = [random.randint(1,10) for i in range(5)]"
   ]
  },
  {
   "cell_type": "code",
   "execution_count": 17,
   "id": "02c325e8-a540-49fc-8519-69f44e672259",
   "metadata": {},
   "outputs": [
    {
     "data": {
      "text/plain": [
       "[4, 4, 3, 9, 7]"
      ]
     },
     "execution_count": 17,
     "metadata": {},
     "output_type": "execute_result"
    }
   ],
   "source": [
    "b"
   ]
  },
  {
   "cell_type": "code",
   "execution_count": 18,
   "id": "bd5f21f4-91d3-474e-877a-ed071ea38165",
   "metadata": {},
   "outputs": [
    {
     "name": "stdout",
     "output_type": "stream",
     "text": [
      "0\n",
      "1\n",
      "2\n",
      "3\n",
      "4\n"
     ]
    }
   ],
   "source": [
    "b = [print(i) for i in range(5)]"
   ]
  },
  {
   "cell_type": "code",
   "execution_count": 21,
   "id": "6319e361-9cfa-427a-acaf-1edee5be6582",
   "metadata": {},
   "outputs": [
    {
     "data": {
      "text/plain": [
       "[10, 2, 7, 2, 9]"
      ]
     },
     "execution_count": 21,
     "metadata": {},
     "output_type": "execute_result"
    }
   ],
   "source": [
    "b"
   ]
  },
  {
   "cell_type": "code",
   "execution_count": 22,
   "id": "1c5876d9-c61d-4567-90b4-e3ffbf81d024",
   "metadata": {},
   "outputs": [],
   "source": [
    "names = [\"A\", \"B\", \"C\"]\n",
    "age = [23, 34, 21]\n",
    "d = {}\n",
    "for i,j in zip (names, age):\n",
    "    d[i] = j"
   ]
  },
  {
   "cell_type": "code",
   "execution_count": 23,
   "id": "99fa3836-fdfe-4ac2-ba45-1e18fddfbb75",
   "metadata": {},
   "outputs": [
    {
     "data": {
      "text/plain": [
       "{'A': 23, 'B': 34, 'C': 21}"
      ]
     },
     "execution_count": 23,
     "metadata": {},
     "output_type": "execute_result"
    }
   ],
   "source": [
    "d"
   ]
  },
  {
   "cell_type": "code",
   "execution_count": 24,
   "id": "b64df443-da11-43de-acfd-a582e0a66a95",
   "metadata": {},
   "outputs": [
    {
     "data": {
      "text/plain": [
       "{'A': 23, 'B': 34, 'C': 21}"
      ]
     },
     "execution_count": 24,
     "metadata": {},
     "output_type": "execute_result"
    }
   ],
   "source": [
    "{i:j for i,j in zip(names, age)}"
   ]
  },
  {
   "cell_type": "code",
   "execution_count": null,
   "id": "b2506c17-499a-4f2c-a154-f00faf815115",
   "metadata": {},
   "outputs": [],
   "source": []
  }
 ],
 "metadata": {
  "kernelspec": {
   "display_name": "Python 3 (ipykernel)",
   "language": "python",
   "name": "python3"
  },
  "language_info": {
   "codemirror_mode": {
    "name": "ipython",
    "version": 3
   },
   "file_extension": ".py",
   "mimetype": "text/x-python",
   "name": "python",
   "nbconvert_exporter": "python",
   "pygments_lexer": "ipython3",
   "version": "3.13.5"
  }
 },
 "nbformat": 4,
 "nbformat_minor": 5
}
