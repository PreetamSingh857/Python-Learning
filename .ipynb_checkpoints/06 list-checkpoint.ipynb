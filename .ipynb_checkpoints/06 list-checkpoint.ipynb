{
 "cells": [
  {
   "cell_type": "markdown",
   "id": "9ab2e9e4-a2e9-4ad3-8bcf-4311154f8710",
   "metadata": {},
   "source": [
    "# List\n",
    "\n",
    "## ordered sequence"
   ]
  },
  {
   "cell_type": "code",
   "execution_count": 1,
   "id": "86530a3e-2d2f-47f6-b39c-ab06c40e430b",
   "metadata": {},
   "outputs": [
    {
     "data": {
      "text/plain": [
       "[4, 5, 5, 1, 2, 5]"
      ]
     },
     "execution_count": 1,
     "metadata": {},
     "output_type": "execute_result"
    }
   ],
   "source": [
    "[4,5,5,1,2,5]"
   ]
  },
  {
   "cell_type": "code",
   "execution_count": 13,
   "id": "bbeee699-6f4b-4ff4-aa3c-8bfa37c699f3",
   "metadata": {},
   "outputs": [],
   "source": [
    "dogs = ['tom', 'kutta', 'doggy']"
   ]
  },
  {
   "cell_type": "code",
   "execution_count": 3,
   "id": "de8910e7-672f-4c6d-9370-10c4c049f796",
   "metadata": {},
   "outputs": [
    {
     "data": {
      "text/plain": [
       "['tom', 'kutta', 'doggy']"
      ]
     },
     "execution_count": 3,
     "metadata": {},
     "output_type": "execute_result"
    }
   ],
   "source": [
    "dogs"
   ]
  },
  {
   "cell_type": "code",
   "execution_count": 4,
   "id": "3154bc8f-0b38-4c93-b843-758d3199ad31",
   "metadata": {},
   "outputs": [],
   "source": [
    "dogs[0] = 'jerry'"
   ]
  },
  {
   "cell_type": "code",
   "execution_count": 5,
   "id": "d3d588c1-9839-42b9-9b8d-f5873d8a5d0d",
   "metadata": {},
   "outputs": [
    {
     "data": {
      "text/plain": [
       "['jerry', 'kutta', 'doggy']"
      ]
     },
     "execution_count": 5,
     "metadata": {},
     "output_type": "execute_result"
    }
   ],
   "source": [
    "dogs"
   ]
  },
  {
   "cell_type": "code",
   "execution_count": 2,
   "id": "768288cb-575e-4d14-b41b-92eb1870b847",
   "metadata": {},
   "outputs": [],
   "source": [
    "l = [4,87,'kdsfm', (4,8,'ikda'), True, ['sfkm', 'oksmf', 4,65]]"
   ]
  },
  {
   "cell_type": "code",
   "execution_count": 3,
   "id": "de8aaa8c-76ae-481f-8f42-3cd4837e9409",
   "metadata": {},
   "outputs": [
    {
     "data": {
      "text/plain": [
       "[4, 87, 'kdsfm', (4, 8, 'ikda'), True, ['sfkm', 'oksmf', 4, 65]]"
      ]
     },
     "execution_count": 3,
     "metadata": {},
     "output_type": "execute_result"
    }
   ],
   "source": [
    "l"
   ]
  },
  {
   "cell_type": "code",
   "execution_count": 4,
   "id": "bb175835-e9f6-4ebd-9c36-5a01f05df86c",
   "metadata": {},
   "outputs": [
    {
     "data": {
      "text/plain": [
       "[4, 87, 'kdsfm', (4, 8, 'ikda'), True, ['sfkm', 'oksmf', 4, 65]]"
      ]
     },
     "execution_count": 4,
     "metadata": {},
     "output_type": "execute_result"
    }
   ],
   "source": [
    "l"
   ]
  },
  {
   "cell_type": "code",
   "execution_count": 5,
   "id": "24828aab-307f-4df7-b316-7d022d8b770f",
   "metadata": {},
   "outputs": [
    {
     "data": {
      "text/plain": [
       "'kdsfm'"
      ]
     },
     "execution_count": 5,
     "metadata": {},
     "output_type": "execute_result"
    }
   ],
   "source": [
    "l[2]"
   ]
  },
  {
   "cell_type": "code",
   "execution_count": 6,
   "id": "e94cce4d-69e6-45fc-89da-5d48f38e43c9",
   "metadata": {},
   "outputs": [
    {
     "data": {
      "text/plain": [
       "'kds'"
      ]
     },
     "execution_count": 6,
     "metadata": {},
     "output_type": "execute_result"
    }
   ],
   "source": [
    "l[2][:3]"
   ]
  },
  {
   "cell_type": "code",
   "execution_count": 7,
   "id": "996e95f6-4472-490c-a33d-304140844eeb",
   "metadata": {},
   "outputs": [
    {
     "data": {
      "text/plain": [
       "(4, 8, 'ikda')"
      ]
     },
     "execution_count": 7,
     "metadata": {},
     "output_type": "execute_result"
    }
   ],
   "source": [
    "l[3]"
   ]
  },
  {
   "cell_type": "code",
   "execution_count": 8,
   "id": "c17d0a61-7a0a-4af1-9b53-ae05c32b86ad",
   "metadata": {},
   "outputs": [
    {
     "data": {
      "text/plain": [
       "4"
      ]
     },
     "execution_count": 8,
     "metadata": {},
     "output_type": "execute_result"
    }
   ],
   "source": [
    "l[3][0]"
   ]
  },
  {
   "cell_type": "code",
   "execution_count": 9,
   "id": "589f4ebf-633f-4811-9732-46c4a9f3e54e",
   "metadata": {},
   "outputs": [
    {
     "data": {
      "text/plain": [
       "['sfkm', 'oksmf', 4, 65]"
      ]
     },
     "execution_count": 9,
     "metadata": {},
     "output_type": "execute_result"
    }
   ],
   "source": [
    "l[5]"
   ]
  },
  {
   "cell_type": "code",
   "execution_count": 10,
   "id": "5267bfa3-1441-4653-88ee-208eefbddcc9",
   "metadata": {},
   "outputs": [
    {
     "data": {
      "text/plain": [
       "'sfkm'"
      ]
     },
     "execution_count": 10,
     "metadata": {},
     "output_type": "execute_result"
    }
   ],
   "source": [
    "l[5][0]"
   ]
  },
  {
   "cell_type": "code",
   "execution_count": 11,
   "id": "5883f3c4-066c-44c7-8cef-f4242556f209",
   "metadata": {},
   "outputs": [
    {
     "data": {
      "text/plain": [
       "'s'"
      ]
     },
     "execution_count": 11,
     "metadata": {},
     "output_type": "execute_result"
    }
   ],
   "source": [
    "l[5][0][0]"
   ]
  },
  {
   "cell_type": "code",
   "execution_count": 14,
   "id": "564038ab-6267-47f3-84c0-4fd21e60e095",
   "metadata": {},
   "outputs": [
    {
     "data": {
      "text/plain": [
       "['tom', 'kutta', 'doggy']"
      ]
     },
     "execution_count": 14,
     "metadata": {},
     "output_type": "execute_result"
    }
   ],
   "source": [
    "dogs"
   ]
  },
  {
   "cell_type": "code",
   "execution_count": 15,
   "id": "093bd99a-36c2-4d7d-b8c2-d6018c2b1f98",
   "metadata": {},
   "outputs": [],
   "source": [
    "dogs.append('tom')"
   ]
  },
  {
   "cell_type": "code",
   "execution_count": 16,
   "id": "ca0fdb42-0898-4fa3-aef9-ba3cae5671d9",
   "metadata": {},
   "outputs": [
    {
     "data": {
      "text/plain": [
       "['tom', 'kutta', 'doggy', 'tom']"
      ]
     },
     "execution_count": 16,
     "metadata": {},
     "output_type": "execute_result"
    }
   ],
   "source": [
    "dogs"
   ]
  },
  {
   "cell_type": "code",
   "execution_count": 17,
   "id": "5d55acff-732a-4dc9-a2a3-4f4ee533839c",
   "metadata": {},
   "outputs": [],
   "source": [
    "s = ['a', 'b', 'c']"
   ]
  },
  {
   "cell_type": "code",
   "execution_count": 18,
   "id": "92754b39-568c-496b-a24f-43d019db9639",
   "metadata": {},
   "outputs": [],
   "source": [
    "g = s"
   ]
  },
  {
   "cell_type": "code",
   "execution_count": 19,
   "id": "202241b5-2ac1-4cf0-9e2f-8b29300c351a",
   "metadata": {},
   "outputs": [
    {
     "data": {
      "text/plain": [
       "['a', 'b', 'c']"
      ]
     },
     "execution_count": 19,
     "metadata": {},
     "output_type": "execute_result"
    }
   ],
   "source": [
    "s"
   ]
  },
  {
   "cell_type": "code",
   "execution_count": 20,
   "id": "0cd0bf54-3cb8-43ab-979c-da967b622b98",
   "metadata": {},
   "outputs": [],
   "source": [
    "s[0] = 'jkskh'"
   ]
  },
  {
   "cell_type": "code",
   "execution_count": 21,
   "id": "6a55987b-7cd4-4d64-9ecf-fba8f89678b0",
   "metadata": {},
   "outputs": [
    {
     "data": {
      "text/plain": [
       "['jkskh', 'b', 'c']"
      ]
     },
     "execution_count": 21,
     "metadata": {},
     "output_type": "execute_result"
    }
   ],
   "source": [
    "s"
   ]
  },
  {
   "cell_type": "code",
   "execution_count": 22,
   "id": "543272a3-1c78-41b8-9ded-4fffea10cf6f",
   "metadata": {},
   "outputs": [
    {
     "data": {
      "text/plain": [
       "['jkskh', 'b', 'c']"
      ]
     },
     "execution_count": 22,
     "metadata": {},
     "output_type": "execute_result"
    }
   ],
   "source": [
    "g"
   ]
  },
  {
   "cell_type": "code",
   "execution_count": 23,
   "id": "345c3aa2-7f5a-4613-97b3-ecc594a3372c",
   "metadata": {},
   "outputs": [],
   "source": [
    "a = [4,5,4]"
   ]
  },
  {
   "cell_type": "code",
   "execution_count": 24,
   "id": "60889645-de52-475c-9996-7722889a82d7",
   "metadata": {},
   "outputs": [],
   "source": [
    "b = a.copy()"
   ]
  },
  {
   "cell_type": "code",
   "execution_count": 25,
   "id": "60e7efed-707f-4bf7-b736-63c669ecc1d9",
   "metadata": {},
   "outputs": [
    {
     "data": {
      "text/plain": [
       "[4, 5, 4]"
      ]
     },
     "execution_count": 25,
     "metadata": {},
     "output_type": "execute_result"
    }
   ],
   "source": [
    "a"
   ]
  },
  {
   "cell_type": "code",
   "execution_count": 26,
   "id": "636bade8-ff02-45a5-81dc-bda437fccbb2",
   "metadata": {},
   "outputs": [
    {
     "data": {
      "text/plain": [
       "[4, 5, 4]"
      ]
     },
     "execution_count": 26,
     "metadata": {},
     "output_type": "execute_result"
    }
   ],
   "source": [
    "b"
   ]
  },
  {
   "cell_type": "code",
   "execution_count": 27,
   "id": "0de072c2-575d-42b7-ada5-6f99448f03b1",
   "metadata": {},
   "outputs": [],
   "source": [
    "b[0] = 654"
   ]
  },
  {
   "cell_type": "code",
   "execution_count": 28,
   "id": "c5f896ef-a4f2-4d7a-bc56-886a3a7f4d46",
   "metadata": {},
   "outputs": [
    {
     "data": {
      "text/plain": [
       "[654, 5, 4]"
      ]
     },
     "execution_count": 28,
     "metadata": {},
     "output_type": "execute_result"
    }
   ],
   "source": [
    "b"
   ]
  },
  {
   "cell_type": "code",
   "execution_count": 29,
   "id": "737cf92c-d8ff-48cc-a119-c3d6d50873c5",
   "metadata": {},
   "outputs": [
    {
     "data": {
      "text/plain": [
       "[4, 5, 4]"
      ]
     },
     "execution_count": 29,
     "metadata": {},
     "output_type": "execute_result"
    }
   ],
   "source": [
    "a"
   ]
  },
  {
   "cell_type": "code",
   "execution_count": 30,
   "id": "942de30c-648d-4dc6-84b1-65943422b0eb",
   "metadata": {},
   "outputs": [
    {
     "data": {
      "text/plain": [
       "['tom', 'kutta', 'doggy', 'tom']"
      ]
     },
     "execution_count": 30,
     "metadata": {},
     "output_type": "execute_result"
    }
   ],
   "source": [
    "dogs"
   ]
  },
  {
   "cell_type": "code",
   "execution_count": 31,
   "id": "faade24b-0a11-4d36-a2fa-ecca12e55669",
   "metadata": {},
   "outputs": [
    {
     "data": {
      "text/plain": [
       "2"
      ]
     },
     "execution_count": 31,
     "metadata": {},
     "output_type": "execute_result"
    }
   ],
   "source": [
    "dogs.count('tom')"
   ]
  },
  {
   "cell_type": "code",
   "execution_count": 32,
   "id": "071325e0-ea23-4654-a7c6-1109599ff8ea",
   "metadata": {},
   "outputs": [
    {
     "data": {
      "text/plain": [
       "0"
      ]
     },
     "execution_count": 32,
     "metadata": {},
     "output_type": "execute_result"
    }
   ],
   "source": [
    "dogs.count('Tom')"
   ]
  },
  {
   "cell_type": "code",
   "execution_count": 33,
   "id": "400f27ef-74a8-4c13-9473-15cf70175089",
   "metadata": {},
   "outputs": [
    {
     "ename": "ValueError",
     "evalue": "'Tom' is not in list",
     "output_type": "error",
     "traceback": [
      "\u001b[1;31m---------------------------------------------------------------------------\u001b[0m",
      "\u001b[1;31mValueError\u001b[0m                                Traceback (most recent call last)",
      "Cell \u001b[1;32mIn[33], line 1\u001b[0m\n\u001b[1;32m----> 1\u001b[0m dogs\u001b[38;5;241m.\u001b[39mindex(\u001b[38;5;124m'\u001b[39m\u001b[38;5;124mTom\u001b[39m\u001b[38;5;124m'\u001b[39m)\n",
      "\u001b[1;31mValueError\u001b[0m: 'Tom' is not in list"
     ]
    }
   ],
   "source": [
    "dogs.index('Tom')"
   ]
  },
  {
   "cell_type": "code",
   "execution_count": 34,
   "id": "d7c7a696-20c9-40fc-8a37-6034f9e8f0e8",
   "metadata": {},
   "outputs": [
    {
     "data": {
      "text/plain": [
       "0"
      ]
     },
     "execution_count": 34,
     "metadata": {},
     "output_type": "execute_result"
    }
   ],
   "source": [
    "dogs.index('tom')"
   ]
  },
  {
   "cell_type": "code",
   "execution_count": 35,
   "id": "071699df-303e-4488-9c63-9f8e4360d1cd",
   "metadata": {},
   "outputs": [],
   "source": [
    "friends = ['a', 'b', 'c']\n",
    "dogs.extend(friends)"
   ]
  },
  {
   "cell_type": "code",
   "execution_count": 36,
   "id": "eb9dc28a-b308-421d-a667-11f25aa50f9e",
   "metadata": {},
   "outputs": [
    {
     "data": {
      "text/plain": [
       "['tom', 'kutta', 'doggy', 'tom', 'a', 'b', 'c']"
      ]
     },
     "execution_count": 36,
     "metadata": {},
     "output_type": "execute_result"
    }
   ],
   "source": [
    "dogs"
   ]
  },
  {
   "cell_type": "code",
   "execution_count": 37,
   "id": "06717a12-1ba2-4155-8594-a5fbd19d05a9",
   "metadata": {},
   "outputs": [],
   "source": [
    "dogs.append(friends)"
   ]
  },
  {
   "cell_type": "code",
   "execution_count": 38,
   "id": "0f8a33ae-0de6-4cd6-8976-121a3206204d",
   "metadata": {},
   "outputs": [
    {
     "data": {
      "text/plain": [
       "['tom', 'kutta', 'doggy', 'tom', 'a', 'b', 'c', ['a', 'b', 'c']]"
      ]
     },
     "execution_count": 38,
     "metadata": {},
     "output_type": "execute_result"
    }
   ],
   "source": [
    "dogs"
   ]
  },
  {
   "cell_type": "code",
   "execution_count": 39,
   "id": "3fcbf666-82f4-4cf8-92f6-14a7bdc194d7",
   "metadata": {},
   "outputs": [
    {
     "data": {
      "text/plain": [
       "['a', 'b', 'c']"
      ]
     },
     "execution_count": 39,
     "metadata": {},
     "output_type": "execute_result"
    }
   ],
   "source": [
    "dogs.pop()"
   ]
  },
  {
   "cell_type": "code",
   "execution_count": 40,
   "id": "7b2ff392-4386-40ff-bc6d-16d7957e75c9",
   "metadata": {},
   "outputs": [
    {
     "data": {
      "text/plain": [
       "['tom', 'kutta', 'doggy', 'tom', 'a', 'b', 'c']"
      ]
     },
     "execution_count": 40,
     "metadata": {},
     "output_type": "execute_result"
    }
   ],
   "source": [
    "dogs"
   ]
  },
  {
   "cell_type": "code",
   "execution_count": 41,
   "id": "f107d415-8471-440f-9368-72be346cee8a",
   "metadata": {},
   "outputs": [
    {
     "name": "stdout",
     "output_type": "stream",
     "text": [
      "Help on built-in function pop:\n",
      "\n",
      "pop(index=-1, /) method of builtins.list instance\n",
      "    Remove and return item at index (default last).\n",
      "\n",
      "    Raises IndexError if list is empty or index is out of range.\n",
      "\n"
     ]
    }
   ],
   "source": [
    "help(dogs.pop)"
   ]
  },
  {
   "cell_type": "code",
   "execution_count": 42,
   "id": "e5ed8bb5-e0f6-4675-b59d-727dd7d0826b",
   "metadata": {},
   "outputs": [
    {
     "data": {
      "text/plain": [
       "'kutta'"
      ]
     },
     "execution_count": 42,
     "metadata": {},
     "output_type": "execute_result"
    }
   ],
   "source": [
    "dogs.pop(1)"
   ]
  },
  {
   "cell_type": "code",
   "execution_count": 43,
   "id": "ff99f3ef-f844-4cde-8e83-4c4ae2525b3f",
   "metadata": {},
   "outputs": [
    {
     "data": {
      "text/plain": [
       "['tom', 'doggy', 'tom', 'a', 'b', 'c']"
      ]
     },
     "execution_count": 43,
     "metadata": {},
     "output_type": "execute_result"
    }
   ],
   "source": [
    "dogs"
   ]
  },
  {
   "cell_type": "code",
   "execution_count": 44,
   "id": "35d9ba9f-b194-4019-97fc-9ef4c49f08e2",
   "metadata": {},
   "outputs": [],
   "source": [
    "dogs.append('kutta')"
   ]
  },
  {
   "cell_type": "code",
   "execution_count": 45,
   "id": "b022ce14-8a29-45aa-94c2-2a534e5e2530",
   "metadata": {},
   "outputs": [
    {
     "data": {
      "text/plain": [
       "'tom'"
      ]
     },
     "execution_count": 45,
     "metadata": {},
     "output_type": "execute_result"
    }
   ],
   "source": [
    "dogs.pop(0)"
   ]
  },
  {
   "cell_type": "code",
   "execution_count": 46,
   "id": "d54c81cb-0198-48ed-8e33-dbd24ba00e87",
   "metadata": {},
   "outputs": [
    {
     "data": {
      "text/plain": [
       "['doggy', 'tom', 'a', 'b', 'c', 'kutta']"
      ]
     },
     "execution_count": 46,
     "metadata": {},
     "output_type": "execute_result"
    }
   ],
   "source": [
    "dogs"
   ]
  },
  {
   "cell_type": "code",
   "execution_count": 47,
   "id": "d6e0bb3d-6169-4ab7-b03f-022b334c08a5",
   "metadata": {},
   "outputs": [],
   "source": [
    "dogs.remove('kutta')"
   ]
  },
  {
   "cell_type": "code",
   "execution_count": 48,
   "id": "ac98e217-64b2-40b6-9a51-0fd72f57a100",
   "metadata": {},
   "outputs": [
    {
     "data": {
      "text/plain": [
       "['doggy', 'tom', 'a', 'b', 'c']"
      ]
     },
     "execution_count": 48,
     "metadata": {},
     "output_type": "execute_result"
    }
   ],
   "source": [
    "dogs"
   ]
  },
  {
   "cell_type": "code",
   "execution_count": 49,
   "id": "e988102b-1b9b-43ec-9e49-c46dc2707a79",
   "metadata": {},
   "outputs": [],
   "source": [
    "dogs.append('kutta')"
   ]
  },
  {
   "cell_type": "code",
   "execution_count": 50,
   "id": "fa6b85aa-9ec4-4d48-a5d7-f1355bbeb8da",
   "metadata": {},
   "outputs": [
    {
     "data": {
      "text/plain": [
       "['doggy', 'tom', 'a', 'b', 'c', 'kutta']"
      ]
     },
     "execution_count": 50,
     "metadata": {},
     "output_type": "execute_result"
    }
   ],
   "source": [
    "dogs"
   ]
  },
  {
   "cell_type": "code",
   "execution_count": 51,
   "id": "8dc3b9be-5ec4-4256-bc13-d8b46796fe12",
   "metadata": {},
   "outputs": [],
   "source": [
    "dogs.sort()"
   ]
  },
  {
   "cell_type": "code",
   "execution_count": 52,
   "id": "b4010f9d-e5e3-41c7-82c6-96e3755df065",
   "metadata": {},
   "outputs": [
    {
     "data": {
      "text/plain": [
       "['a', 'b', 'c', 'doggy', 'kutta', 'tom']"
      ]
     },
     "execution_count": 52,
     "metadata": {},
     "output_type": "execute_result"
    }
   ],
   "source": [
    "dogs"
   ]
  },
  {
   "cell_type": "code",
   "execution_count": 55,
   "id": "4e6bda25-a3f8-4be8-857a-4f882bab6c21",
   "metadata": {},
   "outputs": [],
   "source": [
    "dogs.sort(reverse=True)"
   ]
  },
  {
   "cell_type": "code",
   "execution_count": 56,
   "id": "358133dd-6302-442c-be61-ed550e0675de",
   "metadata": {},
   "outputs": [
    {
     "data": {
      "text/plain": [
       "['tom', 'kutta', 'doggy', 'c', 'b', 'a']"
      ]
     },
     "execution_count": 56,
     "metadata": {},
     "output_type": "execute_result"
    }
   ],
   "source": [
    "dogs"
   ]
  },
  {
   "cell_type": "code",
   "execution_count": 57,
   "id": "5c143775-dbe9-4008-97e7-830f9bc74ddf",
   "metadata": {},
   "outputs": [],
   "source": [
    "dogs.sort()"
   ]
  },
  {
   "cell_type": "code",
   "execution_count": 58,
   "id": "acadd91f-5fa3-4688-975a-6aeab41a8947",
   "metadata": {},
   "outputs": [
    {
     "data": {
      "text/plain": [
       "['a', 'b', 'c', 'doggy', 'kutta', 'tom']"
      ]
     },
     "execution_count": 58,
     "metadata": {},
     "output_type": "execute_result"
    }
   ],
   "source": [
    "dogs"
   ]
  },
  {
   "cell_type": "code",
   "execution_count": 59,
   "id": "e4213543-bd2c-48ab-80f2-aee041ffb8c2",
   "metadata": {},
   "outputs": [],
   "source": [
    "dogs.reverse()"
   ]
  },
  {
   "cell_type": "code",
   "execution_count": 60,
   "id": "5fef8f24-4b91-4806-9984-974cf37f04d0",
   "metadata": {},
   "outputs": [
    {
     "data": {
      "text/plain": [
       "['tom', 'kutta', 'doggy', 'c', 'b', 'a']"
      ]
     },
     "execution_count": 60,
     "metadata": {},
     "output_type": "execute_result"
    }
   ],
   "source": [
    "dogs"
   ]
  },
  {
   "cell_type": "code",
   "execution_count": 61,
   "id": "4eadbf56-bdd9-4383-b2c9-c0ca438923ff",
   "metadata": {},
   "outputs": [],
   "source": [
    "dogs.clear()"
   ]
  },
  {
   "cell_type": "code",
   "execution_count": 62,
   "id": "5ce8e71a-8534-4600-b303-ff7ddf4abeb6",
   "metadata": {},
   "outputs": [
    {
     "data": {
      "text/plain": [
       "[]"
      ]
     },
     "execution_count": 62,
     "metadata": {},
     "output_type": "execute_result"
    }
   ],
   "source": [
    "dogs"
   ]
  },
  {
   "cell_type": "code",
   "execution_count": null,
   "id": "9b276038-6e36-42dc-8cee-d99ada4e824f",
   "metadata": {},
   "outputs": [],
   "source": []
  }
 ],
 "metadata": {
  "kernelspec": {
   "display_name": "Python 3 (ipykernel)",
   "language": "python",
   "name": "python3"
  },
  "language_info": {
   "codemirror_mode": {
    "name": "ipython",
    "version": 3
   },
   "file_extension": ".py",
   "mimetype": "text/x-python",
   "name": "python",
   "nbconvert_exporter": "python",
   "pygments_lexer": "ipython3",
   "version": "3.13.5"
  }
 },
 "nbformat": 4,
 "nbformat_minor": 5
}
