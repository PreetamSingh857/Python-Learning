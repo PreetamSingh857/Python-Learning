{
 "cells": [
  {
   "cell_type": "markdown",
   "id": "020130a2-8f85-4448-88c3-0504cc056b2c",
   "metadata": {},
   "source": [
    "# functions\n",
    "## it store code and it executes the code when called"
   ]
  },
  {
   "cell_type": "code",
   "execution_count": 2,
   "id": "77929f81-5089-4fd8-b000-e671416cda79",
   "metadata": {},
   "outputs": [],
   "source": [
    "# define a fuction\n",
    "\n",
    "def greeting():\n",
    "    print(\"hello ji\")"
   ]
  },
  {
   "cell_type": "code",
   "execution_count": 3,
   "id": "a80619d9-547e-43a0-8147-819891cf08cf",
   "metadata": {},
   "outputs": [
    {
     "name": "stdout",
     "output_type": "stream",
     "text": [
      "hello ji\n"
     ]
    }
   ],
   "source": [
    "# call a function\n",
    "\n",
    "greeting()"
   ]
  },
  {
   "cell_type": "markdown",
   "id": "367918fa-0b21-47d9-aee2-ea270d388d53",
   "metadata": {},
   "source": [
    "# types of functions"
   ]
  },
  {
   "cell_type": "markdown",
   "id": "12387756-a2bb-4db0-81e7-7307044a005a",
   "metadata": {
    "jp-MarkdownHeadingCollapsed": true
   },
   "source": [
    "## built in function"
   ]
  },
  {
   "cell_type": "code",
   "execution_count": 4,
   "id": "430c2ff0-0697-4cd8-80e0-562598cf4048",
   "metadata": {},
   "outputs": [
    {
     "data": {
      "text/plain": [
       "5"
      ]
     },
     "execution_count": 4,
     "metadata": {},
     "output_type": "execute_result"
    }
   ],
   "source": [
    "min([2,3,4])\n",
    "max([4,3,5])"
   ]
  },
  {
   "cell_type": "markdown",
   "id": "f8170d6e-6e0c-4ba5-bf8c-7e1d1bf3358a",
   "metadata": {
    "jp-MarkdownHeadingCollapsed": true
   },
   "source": [
    "## user defined function"
   ]
  },
  {
   "cell_type": "code",
   "execution_count": 5,
   "id": "5bc02fdf-1e24-4300-bf50-34dd41ddb5e8",
   "metadata": {},
   "outputs": [],
   "source": [
    "def greeting():\n",
    "    print(\"hello ji\")\n",
    "    print(8/0)\n",
    "    print(\"rgnmioerr\")"
   ]
  },
  {
   "cell_type": "code",
   "execution_count": 6,
   "id": "6fabda8c-5903-4e4e-b372-c05774d1a116",
   "metadata": {},
   "outputs": [
    {
     "name": "stdout",
     "output_type": "stream",
     "text": [
      "hello ji\n"
     ]
    },
    {
     "ename": "ZeroDivisionError",
     "evalue": "division by zero",
     "output_type": "error",
     "traceback": [
      "\u001b[1;31m---------------------------------------------------------------------------\u001b[0m",
      "\u001b[1;31mZeroDivisionError\u001b[0m                         Traceback (most recent call last)",
      "Cell \u001b[1;32mIn[6], line 1\u001b[0m\n\u001b[1;32m----> 1\u001b[0m greeting()\n",
      "Cell \u001b[1;32mIn[5], line 3\u001b[0m, in \u001b[0;36mgreeting\u001b[1;34m()\u001b[0m\n\u001b[0;32m      1\u001b[0m \u001b[38;5;28;01mdef\u001b[39;00m\u001b[38;5;250m \u001b[39m\u001b[38;5;21mgreeting\u001b[39m():\n\u001b[0;32m      2\u001b[0m     \u001b[38;5;28mprint\u001b[39m(\u001b[38;5;124m\"\u001b[39m\u001b[38;5;124mhello ji\u001b[39m\u001b[38;5;124m\"\u001b[39m)\n\u001b[1;32m----> 3\u001b[0m     \u001b[38;5;28mprint\u001b[39m(\u001b[38;5;241m8\u001b[39m\u001b[38;5;241m/\u001b[39m\u001b[38;5;241m0\u001b[39m)\n\u001b[0;32m      4\u001b[0m     \u001b[38;5;28mprint\u001b[39m(\u001b[38;5;124m\"\u001b[39m\u001b[38;5;124mrgnmioerr\u001b[39m\u001b[38;5;124m\"\u001b[39m)\n",
      "\u001b[1;31mZeroDivisionError\u001b[0m: division by zero"
     ]
    }
   ],
   "source": [
    "greeting()"
   ]
  },
  {
   "cell_type": "markdown",
   "id": "3129f142-c6d2-4518-8e16-2dcf6be57c1c",
   "metadata": {},
   "source": [
    "## types of user defined function\n",
    "\n",
    "### simple"
   ]
  },
  {
   "cell_type": "code",
   "execution_count": 8,
   "id": "53a29c36-80c7-4c69-891d-1557e6da318d",
   "metadata": {},
   "outputs": [],
   "source": [
    "def greetings():\n",
    "    print(\"Greetings to everyone\")"
   ]
  },
  {
   "cell_type": "code",
   "execution_count": 9,
   "id": "1ef3ac2b-6c2c-4cb0-a67d-96850db69b3f",
   "metadata": {},
   "outputs": [
    {
     "name": "stdout",
     "output_type": "stream",
     "text": [
      "Greetings to everyone\n"
     ]
    }
   ],
   "source": [
    "greetings()"
   ]
  },
  {
   "cell_type": "code",
   "execution_count": 11,
   "id": "9a19bc79-5f88-4efc-b7ad-a5bf2f54572c",
   "metadata": {},
   "outputs": [],
   "source": [
    "# input function\n",
    "\n",
    "\n",
    "def greetings(name):\n",
    "    print(\"Greetings to\", name)"
   ]
  },
  {
   "cell_type": "code",
   "execution_count": 12,
   "id": "8d40d213-676d-41d1-aeca-0d62ddcca9d6",
   "metadata": {},
   "outputs": [
    {
     "name": "stdout",
     "output_type": "stream",
     "text": [
      "Greetings to Gary\n"
     ]
    }
   ],
   "source": [
    "greetings(\"Gary\")"
   ]
  },
  {
   "cell_type": "code",
   "execution_count": 13,
   "id": "a5fefca2-918c-4e53-931d-4a4338ce1457",
   "metadata": {},
   "outputs": [],
   "source": [
    "def area(r):\n",
    "    print(3.14*r*r)"
   ]
  },
  {
   "cell_type": "code",
   "execution_count": 14,
   "id": "f7e60919-7c65-4c6a-9d4d-c8d58932dc66",
   "metadata": {},
   "outputs": [
    {
     "name": "stdout",
     "output_type": "stream",
     "text": [
      "78.5\n"
     ]
    }
   ],
   "source": [
    "area(5)"
   ]
  },
  {
   "cell_type": "markdown",
   "id": "edef90a3-c0a8-44b9-ab24-1aff0a5a3d8e",
   "metadata": {},
   "source": [
    "### Scope"
   ]
  },
  {
   "cell_type": "code",
   "execution_count": 25,
   "id": "62c1eda6-21c0-4eb1-ab57-dec7527cdd0f",
   "metadata": {},
   "outputs": [],
   "source": [
    "# global scope\n",
    "name = 'aoidio'\n",
    "job = 'ABC'\n",
    "def greetings():\n",
    "    # local scope\n",
    "    global name \n",
    "    name = 'harry'\n",
    "    print(name, job)"
   ]
  },
  {
   "cell_type": "code",
   "execution_count": 26,
   "id": "1d4c5370-a40d-445e-b55e-30b71cb948ae",
   "metadata": {},
   "outputs": [
    {
     "name": "stdout",
     "output_type": "stream",
     "text": [
      "harry ABC\n"
     ]
    }
   ],
   "source": [
    "greetings()"
   ]
  },
  {
   "cell_type": "code",
   "execution_count": 27,
   "id": "3f708c56-24ee-4d59-8475-097813e71227",
   "metadata": {},
   "outputs": [
    {
     "data": {
      "text/plain": [
       "'harry'"
      ]
     },
     "execution_count": 27,
     "metadata": {},
     "output_type": "execute_result"
    }
   ],
   "source": [
    "name"
   ]
  },
  {
   "cell_type": "code",
   "execution_count": 35,
   "id": "ca2b7595-309a-414a-bc94-7461101db723",
   "metadata": {},
   "outputs": [],
   "source": [
    "# default function\n",
    "\n",
    "def greetings(name = 'ABC'):\n",
    "    print('Hello,', name)"
   ]
  },
  {
   "cell_type": "code",
   "execution_count": 36,
   "id": "f03b14ea-513d-4add-9e5e-068e5e5aa6b5",
   "metadata": {},
   "outputs": [
    {
     "name": "stdout",
     "output_type": "stream",
     "text": [
      "Hello, shukal\n"
     ]
    }
   ],
   "source": [
    "greetings('shukal')"
   ]
  },
  {
   "cell_type": "code",
   "execution_count": 37,
   "id": "ebb8318b-9d3b-4e1a-bc6c-a4938b2ab413",
   "metadata": {},
   "outputs": [
    {
     "name": "stdout",
     "output_type": "stream",
     "text": [
      "Hello, ABC\n"
     ]
    }
   ],
   "source": [
    "greetings()"
   ]
  },
  {
   "cell_type": "code",
   "execution_count": 49,
   "id": "e1ffbd94-d70a-44bf-9e9c-836b0a707c39",
   "metadata": {},
   "outputs": [],
   "source": [
    "# return functions\n",
    "\n",
    "def salaryTax(salary = 20000, rate=0.12):\n",
    "    tax = salary*rate\n",
    "    return tax"
   ]
  },
  {
   "cell_type": "code",
   "execution_count": 50,
   "id": "a23693d4-08c5-4ded-98a8-7aee59b738f6",
   "metadata": {},
   "outputs": [
    {
     "data": {
      "text/plain": [
       "6000.0"
      ]
     },
     "execution_count": 50,
     "metadata": {},
     "output_type": "execute_result"
    }
   ],
   "source": [
    "salaryTax(50000)"
   ]
  },
  {
   "cell_type": "code",
   "execution_count": 55,
   "id": "d2c75aaa-319d-4c73-a27d-0a185b1cbd5a",
   "metadata": {},
   "outputs": [],
   "source": [
    "def cuboid(l,b,h):\n",
    "    \"\"\"\n",
    "     this a function that calculate the volume of the cuboid.\n",
    "     it takes length, breadth and height\n",
    "    \"\"\"\n",
    "    dimensions = f\" l = {l}\\n b = {b}\\n h = {h}\"\n",
    "    print(dimensions)\n",
    "    return l*b*h"
   ]
  },
  {
   "cell_type": "code",
   "execution_count": 56,
   "id": "787c1385-0ace-40a0-9254-99d94b5ed0a1",
   "metadata": {},
   "outputs": [
    {
     "name": "stdout",
     "output_type": "stream",
     "text": [
      " l = 5\n",
      " b = 6\n",
      " h = 10\n"
     ]
    },
    {
     "data": {
      "text/plain": [
       "300"
      ]
     },
     "execution_count": 56,
     "metadata": {},
     "output_type": "execute_result"
    }
   ],
   "source": [
    "cuboid(5,6,10)"
   ]
  },
  {
   "cell_type": "code",
   "execution_count": 57,
   "id": "30cea649-58d7-4ca2-a27a-e66fa19a51cd",
   "metadata": {},
   "outputs": [
    {
     "name": "stdout",
     "output_type": "stream",
     "text": [
      "Help on function cuboid in module __main__:\n",
      "\n",
      "cuboid(l, b, h)\n",
      "    this a function that calculate the volume of the cuboid.\n",
      "    it takes length, breadth and height\n",
      "\n"
     ]
    }
   ],
   "source": [
    "help(cuboid)"
   ]
  },
  {
   "cell_type": "code",
   "execution_count": 58,
   "id": "ca10b6d1-ef31-4f0b-8154-ff2a40a9e7c6",
   "metadata": {},
   "outputs": [
    {
     "name": "stdout",
     "output_type": "stream",
     "text": [
      " l = 30\n",
      " b = 10\n",
      " h = 40\n"
     ]
    },
    {
     "data": {
      "text/plain": [
       "12000"
      ]
     },
     "execution_count": 58,
     "metadata": {},
     "output_type": "execute_result"
    }
   ],
   "source": [
    "cuboid(l=30, h=40, b=10)"
   ]
  },
  {
   "cell_type": "code",
   "execution_count": null,
   "id": "5691eb53-d483-438f-b408-f3437e7b342a",
   "metadata": {},
   "outputs": [],
   "source": []
  }
 ],
 "metadata": {
  "kernelspec": {
   "display_name": "Python 3 (ipykernel)",
   "language": "python",
   "name": "python3"
  },
  "language_info": {
   "codemirror_mode": {
    "name": "ipython",
    "version": 3
   },
   "file_extension": ".py",
   "mimetype": "text/x-python",
   "name": "python",
   "nbconvert_exporter": "python",
   "pygments_lexer": "ipython3",
   "version": "3.13.5"
  }
 },
 "nbformat": 4,
 "nbformat_minor": 5
}
