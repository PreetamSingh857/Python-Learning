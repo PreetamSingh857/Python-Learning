{
 "cells": [
  {
   "cell_type": "code",
   "execution_count": 1,
   "id": "9a1cb6ce-b476-462b-bf0a-de4e019c6403",
   "metadata": {},
   "outputs": [],
   "source": [
    "# dkd"
   ]
  },
  {
   "cell_type": "markdown",
   "id": "ffae42d0-cad5-4016-84e0-02fa3c963ea7",
   "metadata": {
    "jp-MarkdownHeadingCollapsed": true
   },
   "source": [
    "# Numbers"
   ]
  },
  {
   "cell_type": "code",
   "execution_count": 2,
   "id": "a71addc0-184a-4cc1-abf3-d0e7e5e2cef8",
   "metadata": {},
   "outputs": [
    {
     "data": {
      "text/plain": [
       "2.0"
      ]
     },
     "execution_count": 2,
     "metadata": {},
     "output_type": "execute_result"
    }
   ],
   "source": [
    "4/2"
   ]
  },
  {
   "cell_type": "code",
   "execution_count": 3,
   "id": "13ac717f-f2d1-4770-8be4-9a6bca425ad0",
   "metadata": {},
   "outputs": [
    {
     "data": {
      "text/plain": [
       "2.5"
      ]
     },
     "execution_count": 3,
     "metadata": {},
     "output_type": "execute_result"
    }
   ],
   "source": [
    "5/2"
   ]
  },
  {
   "cell_type": "code",
   "execution_count": 4,
   "id": "97a4fdc3-b7fb-4825-8f7a-efc17a5e779e",
   "metadata": {},
   "outputs": [
    {
     "data": {
      "text/plain": [
       "2"
      ]
     },
     "execution_count": 4,
     "metadata": {},
     "output_type": "execute_result"
    }
   ],
   "source": [
    "5//2"
   ]
  },
  {
   "cell_type": "code",
   "execution_count": 5,
   "id": "59074c22-0bf5-4697-9be9-38020f3450ad",
   "metadata": {},
   "outputs": [
    {
     "data": {
      "text/plain": [
       "0"
      ]
     },
     "execution_count": 5,
     "metadata": {},
     "output_type": "execute_result"
    }
   ],
   "source": [
    "4%2"
   ]
  },
  {
   "cell_type": "code",
   "execution_count": 6,
   "id": "b2e0a868-d370-4773-98be-466f2232b8ec",
   "metadata": {},
   "outputs": [
    {
     "data": {
      "text/plain": [
       "3.0"
      ]
     },
     "execution_count": 6,
     "metadata": {},
     "output_type": "execute_result"
    }
   ],
   "source": [
    "9**(1/2)"
   ]
  },
  {
   "cell_type": "code",
   "execution_count": 7,
   "id": "5c36f299-d3aa-46cb-9a6f-27e93824ff32",
   "metadata": {},
   "outputs": [
    {
     "data": {
      "text/plain": [
       "3.0"
      ]
     },
     "execution_count": 7,
     "metadata": {},
     "output_type": "execute_result"
    }
   ],
   "source": [
    "27**(1/3)"
   ]
  },
  {
   "cell_type": "markdown",
   "id": "74c5eb04-0aa5-4b84-9f2d-93f3ca0453c2",
   "metadata": {
    "jp-MarkdownHeadingCollapsed": true
   },
   "source": [
    "# Variable"
   ]
  },
  {
   "cell_type": "code",
   "execution_count": 8,
   "id": "aeea35ec-a19d-4898-8c89-ba44e5778ebf",
   "metadata": {},
   "outputs": [],
   "source": [
    "a = 5"
   ]
  },
  {
   "cell_type": "code",
   "execution_count": 9,
   "id": "5bde6bb2-3d0f-44bc-8077-e4bf800c88f8",
   "metadata": {},
   "outputs": [
    {
     "data": {
      "text/plain": [
       "5"
      ]
     },
     "execution_count": 9,
     "metadata": {},
     "output_type": "execute_result"
    }
   ],
   "source": [
    "a"
   ]
  },
  {
   "cell_type": "code",
   "execution_count": 10,
   "id": "6022dfca-5464-44e7-a8a2-bdcbe788dd23",
   "metadata": {},
   "outputs": [],
   "source": [
    "a = 5.6"
   ]
  },
  {
   "cell_type": "code",
   "execution_count": 11,
   "id": "ee076780-7b56-46a4-a6b4-a032be7b9a4b",
   "metadata": {},
   "outputs": [
    {
     "data": {
      "text/plain": [
       "5.6"
      ]
     },
     "execution_count": 11,
     "metadata": {},
     "output_type": "execute_result"
    }
   ],
   "source": [
    "a"
   ]
  },
  {
   "cell_type": "code",
   "execution_count": 12,
   "id": "e1f9a2d9-b23a-4f62-a115-c78ef60a1545",
   "metadata": {},
   "outputs": [],
   "source": [
    "#\n",
    "# we cannot use number at the beginning of the variable \n",
    "# eg 1person = 5\n",
    "\n",
    "#   we cannot use special symbols like (@ % $ ^ & * ( ) / - ) except underscore ( _ )"
   ]
  },
  {
   "cell_type": "code",
   "execution_count": 13,
   "id": "310647d4-9ebf-4100-81fd-b84ff2dde7a1",
   "metadata": {},
   "outputs": [],
   "source": [
    "roll_no = 1"
   ]
  },
  {
   "cell_type": "code",
   "execution_count": 14,
   "id": "a92ba840-8d59-4b3b-8316-2a85e74465ac",
   "metadata": {},
   "outputs": [
    {
     "data": {
      "text/plain": [
       "1"
      ]
     },
     "execution_count": 14,
     "metadata": {},
     "output_type": "execute_result"
    }
   ],
   "source": [
    "roll_no"
   ]
  },
  {
   "cell_type": "code",
   "execution_count": 15,
   "id": "4d1418a2-64e0-4c4f-a4a7-ef472f1300cc",
   "metadata": {},
   "outputs": [],
   "source": [
    "#  python is case sensitive language"
   ]
  },
  {
   "cell_type": "code",
   "execution_count": 16,
   "id": "d81de9e3-4282-420a-9d4a-6382ac6fca5d",
   "metadata": {},
   "outputs": [],
   "source": [
    "name = 'shubhan'"
   ]
  },
  {
   "cell_type": "code",
   "execution_count": 17,
   "id": "822b4771-415b-4465-b945-13c37e666940",
   "metadata": {},
   "outputs": [],
   "source": [
    "Name = 'Abi'"
   ]
  },
  {
   "cell_type": "code",
   "execution_count": 19,
   "id": "b1f850bb-d4b0-4d69-affa-3a03d51e8005",
   "metadata": {},
   "outputs": [
    {
     "data": {
      "text/plain": [
       "'shubhan'"
      ]
     },
     "execution_count": 19,
     "metadata": {},
     "output_type": "execute_result"
    }
   ],
   "source": [
    "name"
   ]
  },
  {
   "cell_type": "code",
   "execution_count": 20,
   "id": "020acc32-81e3-4db3-ab5c-95a903e3baeb",
   "metadata": {},
   "outputs": [
    {
     "data": {
      "text/plain": [
       "'Abi'"
      ]
     },
     "execution_count": 20,
     "metadata": {},
     "output_type": "execute_result"
    }
   ],
   "source": [
    "Name"
   ]
  },
  {
   "cell_type": "code",
   "execution_count": 21,
   "id": "e272ff9a-2f4c-440b-9ce4-dde92e0f3223",
   "metadata": {},
   "outputs": [],
   "source": [
    "amount =5"
   ]
  },
  {
   "cell_type": "code",
   "execution_count": 22,
   "id": "a0fa098d-0777-4cc9-8d7f-4fe2c839503e",
   "metadata": {},
   "outputs": [
    {
     "data": {
      "text/plain": [
       "5"
      ]
     },
     "execution_count": 22,
     "metadata": {},
     "output_type": "execute_result"
    }
   ],
   "source": [
    "amount"
   ]
  },
  {
   "cell_type": "code",
   "execution_count": 25,
   "id": "39e82f46-c294-40dc-b642-8a8677248ea9",
   "metadata": {},
   "outputs": [],
   "source": [
    "amount = amount +10"
   ]
  },
  {
   "cell_type": "code",
   "execution_count": 26,
   "id": "e80bce08-78c4-41f9-a995-f498d06b581e",
   "metadata": {},
   "outputs": [
    {
     "data": {
      "text/plain": [
       "25"
      ]
     },
     "execution_count": 26,
     "metadata": {},
     "output_type": "execute_result"
    }
   ],
   "source": [
    "amount"
   ]
  },
  {
   "cell_type": "markdown",
   "id": "a218fad5-d4df-4225-b1be-3de53a4ab7e1",
   "metadata": {
    "jp-MarkdownHeadingCollapsed": true
   },
   "source": [
    "## assignment operations"
   ]
  },
  {
   "cell_type": "code",
   "execution_count": 27,
   "id": "3446903f-b5d7-48c7-b95a-ff4f7110ffec",
   "metadata": {},
   "outputs": [],
   "source": [
    "a = 10"
   ]
  },
  {
   "cell_type": "code",
   "execution_count": 30,
   "id": "0d50dbfa-f8df-4ca4-86e1-23450fb20b85",
   "metadata": {},
   "outputs": [],
   "source": [
    "a = a+1"
   ]
  },
  {
   "cell_type": "code",
   "execution_count": 31,
   "id": "b0ba7063-7946-40cd-a437-760523fe12be",
   "metadata": {},
   "outputs": [
    {
     "data": {
      "text/plain": [
       "12"
      ]
     },
     "execution_count": 31,
     "metadata": {},
     "output_type": "execute_result"
    }
   ],
   "source": [
    "a"
   ]
  },
  {
   "cell_type": "code",
   "execution_count": 32,
   "id": "f48c0758-eaef-433e-8ea2-f4961f85a5f4",
   "metadata": {},
   "outputs": [],
   "source": [
    "a += 2"
   ]
  },
  {
   "cell_type": "code",
   "execution_count": 33,
   "id": "3861a2c4-8f0f-4791-8171-863fc5e3547d",
   "metadata": {},
   "outputs": [
    {
     "data": {
      "text/plain": [
       "14"
      ]
     },
     "execution_count": 33,
     "metadata": {},
     "output_type": "execute_result"
    }
   ],
   "source": [
    "a"
   ]
  },
  {
   "cell_type": "code",
   "execution_count": 34,
   "id": "7e8f7cf0-8d9b-4c81-af2a-f61a50d046ac",
   "metadata": {},
   "outputs": [],
   "source": [
    "a-= 2"
   ]
  },
  {
   "cell_type": "code",
   "execution_count": 35,
   "id": "8704c723-0bc9-4e54-81ba-bf530f5f4b35",
   "metadata": {},
   "outputs": [
    {
     "data": {
      "text/plain": [
       "12"
      ]
     },
     "execution_count": 35,
     "metadata": {},
     "output_type": "execute_result"
    }
   ],
   "source": [
    "a"
   ]
  },
  {
   "cell_type": "code",
   "execution_count": 36,
   "id": "69ab7023-229c-450e-974a-2094a11606a0",
   "metadata": {},
   "outputs": [],
   "source": [
    "a *= 2"
   ]
  },
  {
   "cell_type": "code",
   "execution_count": 37,
   "id": "61217887-385d-4232-bcc8-7a542a487375",
   "metadata": {},
   "outputs": [
    {
     "data": {
      "text/plain": [
       "24"
      ]
     },
     "execution_count": 37,
     "metadata": {},
     "output_type": "execute_result"
    }
   ],
   "source": [
    "a"
   ]
  },
  {
   "cell_type": "code",
   "execution_count": 38,
   "id": "4439fc42-d67f-4948-8b9b-314e2d60a058",
   "metadata": {},
   "outputs": [],
   "source": [
    "a /= 2"
   ]
  },
  {
   "cell_type": "code",
   "execution_count": 39,
   "id": "acee78fc-941d-4281-9a1d-c60c6393f3c6",
   "metadata": {},
   "outputs": [
    {
     "data": {
      "text/plain": [
       "12.0"
      ]
     },
     "execution_count": 39,
     "metadata": {},
     "output_type": "execute_result"
    }
   ],
   "source": [
    "a"
   ]
  },
  {
   "cell_type": "code",
   "execution_count": null,
   "id": "2a56648e-af9e-45a7-98c8-d84c5bc71a8e",
   "metadata": {},
   "outputs": [],
   "source": []
  }
 ],
 "metadata": {
  "kernelspec": {
   "display_name": "Python 3 (ipykernel)",
   "language": "python",
   "name": "python3"
  },
  "language_info": {
   "codemirror_mode": {
    "name": "ipython",
    "version": 3
   },
   "file_extension": ".py",
   "mimetype": "text/x-python",
   "name": "python",
   "nbconvert_exporter": "python",
   "pygments_lexer": "ipython3",
   "version": "3.13.5"
  }
 },
 "nbformat": 4,
 "nbformat_minor": 5
}
