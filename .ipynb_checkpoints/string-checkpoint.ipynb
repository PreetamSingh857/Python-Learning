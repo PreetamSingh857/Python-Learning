{
 "cells": [
  {
   "cell_type": "code",
   "execution_count": 1,
   "id": "0b196122-7626-4adb-a3d1-acc7d29b6862",
   "metadata": {},
   "outputs": [
    {
     "data": {
      "text/plain": [
       "'shubham'"
      ]
     },
     "execution_count": 1,
     "metadata": {},
     "output_type": "execute_result"
    }
   ],
   "source": [
    "'shubham'"
   ]
  },
  {
   "cell_type": "code",
   "execution_count": 2,
   "id": "ae6e4d45-577a-4e38-8ce8-3932734a566c",
   "metadata": {},
   "outputs": [
    {
     "data": {
      "text/plain": [
       "'shubham'"
      ]
     },
     "execution_count": 2,
     "metadata": {},
     "output_type": "execute_result"
    }
   ],
   "source": [
    "\"shubham\""
   ]
  },
  {
   "cell_type": "code",
   "execution_count": 3,
   "id": "e739680e-88ec-4310-96e7-d6560f7213f8",
   "metadata": {},
   "outputs": [
    {
     "data": {
      "text/plain": [
       "'shubham'"
      ]
     },
     "execution_count": 3,
     "metadata": {},
     "output_type": "execute_result"
    }
   ],
   "source": [
    "\"\"\"shubham\"\"\""
   ]
  },
  {
   "cell_type": "code",
   "execution_count": 4,
   "id": "e1322828-3489-4998-b5c1-9598d6da6078",
   "metadata": {},
   "outputs": [
    {
     "data": {
      "text/plain": [
       "'\\nkjsgfiusfh\\ndskjfh\\nfkjhfuks\\n'"
      ]
     },
     "execution_count": 4,
     "metadata": {},
     "output_type": "execute_result"
    }
   ],
   "source": [
    "\"\"\"\n",
    "kjsgfiusfh\n",
    "dskjfh\n",
    "fkjhfuks\n",
    "\"\"\""
   ]
  },
  {
   "cell_type": "code",
   "execution_count": 5,
   "id": "7340837e-3b79-4540-a753-0be7f0127854",
   "metadata": {},
   "outputs": [
    {
     "name": "stdout",
     "output_type": "stream",
     "text": [
      "\n",
      "kjsgfiusfh\n",
      "dskjfh\n",
      "fkjhfuks\n",
      "\n"
     ]
    }
   ],
   "source": [
    "print(\"\"\"\n",
    "kjsgfiusfh\n",
    "dskjfh\n",
    "fkjhfuks\n",
    "\"\"\")"
   ]
  },
  {
   "cell_type": "code",
   "execution_count": 6,
   "id": "05356bea-39b1-4b13-a7d2-a7002446cf6b",
   "metadata": {},
   "outputs": [
    {
     "data": {
      "text/plain": [
       "'Shubham'"
      ]
     },
     "execution_count": 6,
     "metadata": {},
     "output_type": "execute_result"
    }
   ],
   "source": [
    "'shubham'.capitalize()"
   ]
  },
  {
   "cell_type": "code",
   "execution_count": 7,
   "id": "5b557719-5e4e-4892-b6d1-fbce6f68b114",
   "metadata": {},
   "outputs": [
    {
     "data": {
      "text/plain": [
       "'Shubham'"
      ]
     },
     "execution_count": 7,
     "metadata": {},
     "output_type": "execute_result"
    }
   ],
   "source": [
    "\"shubham\".capitalize()"
   ]
  },
  {
   "cell_type": "code",
   "execution_count": 1,
   "id": "890e666c-b0a1-428e-acfe-94b5b744f36a",
   "metadata": {},
   "outputs": [
    {
     "data": {
      "text/plain": [
       "2"
      ]
     },
     "execution_count": 1,
     "metadata": {},
     "output_type": "execute_result"
    }
   ],
   "source": [
    "'shubham'.count('h')"
   ]
  },
  {
   "cell_type": "code",
   "execution_count": 2,
   "id": "2706af4b-886e-4a08-a148-97034ebf373d",
   "metadata": {},
   "outputs": [],
   "source": [
    "name = 'shubham'"
   ]
  },
  {
   "cell_type": "code",
   "execution_count": 3,
   "id": "76875c14-4763-4231-a2ca-59788fe07a53",
   "metadata": {},
   "outputs": [
    {
     "data": {
      "text/plain": [
       "0"
      ]
     },
     "execution_count": 3,
     "metadata": {},
     "output_type": "execute_result"
    }
   ],
   "source": [
    "name.find('s')"
   ]
  },
  {
   "cell_type": "code",
   "execution_count": 4,
   "id": "95c295ff-0eed-401e-9252-ad4629289fec",
   "metadata": {},
   "outputs": [
    {
     "data": {
      "text/plain": [
       "1"
      ]
     },
     "execution_count": 4,
     "metadata": {},
     "output_type": "execute_result"
    }
   ],
   "source": [
    "name.find('h')"
   ]
  },
  {
   "cell_type": "code",
   "execution_count": 5,
   "id": "b4fe86ca-e61f-4af6-b707-97c9ff721eec",
   "metadata": {},
   "outputs": [
    {
     "data": {
      "text/plain": [
       "7"
      ]
     },
     "execution_count": 5,
     "metadata": {},
     "output_type": "execute_result"
    }
   ],
   "source": [
    "len(name)"
   ]
  },
  {
   "cell_type": "code",
   "execution_count": 6,
   "id": "d78a56d2-604f-4e6e-8978-87ee5da84c60",
   "metadata": {},
   "outputs": [],
   "source": [
    "firstname = 'shubham'"
   ]
  },
  {
   "cell_type": "code",
   "execution_count": 7,
   "id": "c0b0c652-7dc6-4d06-bb6a-c1f7ecb10a6a",
   "metadata": {},
   "outputs": [],
   "source": [
    "lastname = 'singh'"
   ]
  },
  {
   "cell_type": "code",
   "execution_count": 8,
   "id": "9fe784dc-efd5-41d1-b524-ffda7d85ebd3",
   "metadata": {},
   "outputs": [
    {
     "data": {
      "text/plain": [
       "'shubhamsingh'"
      ]
     },
     "execution_count": 8,
     "metadata": {},
     "output_type": "execute_result"
    }
   ],
   "source": [
    "firstname + lastname"
   ]
  },
  {
   "cell_type": "code",
   "execution_count": 9,
   "id": "52e3c783-ee87-4159-a6fb-0a9aa7af44bb",
   "metadata": {},
   "outputs": [
    {
     "data": {
      "text/plain": [
       "'shubham singh'"
      ]
     },
     "execution_count": 9,
     "metadata": {},
     "output_type": "execute_result"
    }
   ],
   "source": [
    "firstname + ' ' + lastname"
   ]
  },
  {
   "cell_type": "code",
   "execution_count": 10,
   "id": "42041516-47e0-4791-bbe2-3a803840071a",
   "metadata": {},
   "outputs": [
    {
     "data": {
      "text/plain": [
       "'55'"
      ]
     },
     "execution_count": 10,
     "metadata": {},
     "output_type": "execute_result"
    }
   ],
   "source": [
    "'5' + '5'"
   ]
  },
  {
   "cell_type": "code",
   "execution_count": 11,
   "id": "598d1569-e249-4de0-ba68-121eb0a556fa",
   "metadata": {},
   "outputs": [
    {
     "data": {
      "text/plain": [
       "55"
      ]
     },
     "execution_count": 11,
     "metadata": {},
     "output_type": "execute_result"
    }
   ],
   "source": [
    "55"
   ]
  },
  {
   "cell_type": "code",
   "execution_count": 12,
   "id": "115e941a-c573-41d2-bb59-7d18b07752d9",
   "metadata": {},
   "outputs": [
    {
     "data": {
      "text/plain": [
       "str"
      ]
     },
     "execution_count": 12,
     "metadata": {},
     "output_type": "execute_result"
    }
   ],
   "source": [
    "type('55')"
   ]
  },
  {
   "cell_type": "code",
   "execution_count": 13,
   "id": "0f05d322-6323-4fb3-a27a-c845766970a1",
   "metadata": {},
   "outputs": [
    {
     "data": {
      "text/plain": [
       "int"
      ]
     },
     "execution_count": 13,
     "metadata": {},
     "output_type": "execute_result"
    }
   ],
   "source": [
    "type(55)"
   ]
  },
  {
   "cell_type": "code",
   "execution_count": 14,
   "id": "0ef68a8d-8f47-49a4-9686-e068b5d27dc9",
   "metadata": {},
   "outputs": [
    {
     "ename": "TypeError",
     "evalue": "can only concatenate str (not \"int\") to str",
     "output_type": "error",
     "traceback": [
      "\u001b[1;31m---------------------------------------------------------------------------\u001b[0m",
      "\u001b[1;31mTypeError\u001b[0m                                 Traceback (most recent call last)",
      "Cell \u001b[1;32mIn[14], line 1\u001b[0m\n\u001b[1;32m----> 1\u001b[0m \u001b[38;5;124m'\u001b[39m\u001b[38;5;124m3\u001b[39m\u001b[38;5;124m'\u001b[39m \u001b[38;5;241m+\u001b[39m\u001b[38;5;241m3\u001b[39m\n",
      "\u001b[1;31mTypeError\u001b[0m: can only concatenate str (not \"int\") to str"
     ]
    }
   ],
   "source": [
    "'3' +3"
   ]
  },
  {
   "cell_type": "code",
   "execution_count": 15,
   "id": "dd28acc6-943c-4b42-b9b5-6b269199124d",
   "metadata": {},
   "outputs": [
    {
     "ename": "TypeError",
     "evalue": "unsupported operand type(s) for +: 'int' and 'str'",
     "output_type": "error",
     "traceback": [
      "\u001b[1;31m---------------------------------------------------------------------------\u001b[0m",
      "\u001b[1;31mTypeError\u001b[0m                                 Traceback (most recent call last)",
      "Cell \u001b[1;32mIn[15], line 1\u001b[0m\n\u001b[1;32m----> 1\u001b[0m \u001b[38;5;241m3\u001b[39m \u001b[38;5;241m+\u001b[39m \u001b[38;5;124m'\u001b[39m\u001b[38;5;124m3\u001b[39m\u001b[38;5;124m'\u001b[39m\n",
      "\u001b[1;31mTypeError\u001b[0m: unsupported operand type(s) for +: 'int' and 'str'"
     ]
    }
   ],
   "source": [
    "3 + '3'"
   ]
  },
  {
   "cell_type": "code",
   "execution_count": 16,
   "id": "5291888e-c07a-4362-8ba6-7c963d7962fa",
   "metadata": {},
   "outputs": [],
   "source": [
    "name = 'shubham'\n",
    "salary = 40494"
   ]
  },
  {
   "cell_type": "code",
   "execution_count": 17,
   "id": "7f9e2bd7-1754-432f-8038-6eb0036b6dea",
   "metadata": {},
   "outputs": [
    {
     "data": {
      "text/plain": [
       "'hi my mane is shubham'"
      ]
     },
     "execution_count": 17,
     "metadata": {},
     "output_type": "execute_result"
    }
   ],
   "source": [
    "'hi my mane is ' + name"
   ]
  },
  {
   "cell_type": "code",
   "execution_count": 18,
   "id": "bf022e20-292c-4f0f-af56-2a4a7d55bcf4",
   "metadata": {},
   "outputs": [
    {
     "data": {
      "text/plain": [
       "'hi my name is abc and salary is 84693'"
      ]
     },
     "execution_count": 18,
     "metadata": {},
     "output_type": "execute_result"
    }
   ],
   "source": [
    "'hi my name is {} and salary is {}'.format('abc', 84693)"
   ]
  },
  {
   "cell_type": "code",
   "execution_count": 19,
   "id": "51b2c656-c05e-49cc-83ad-02ab506471be",
   "metadata": {},
   "outputs": [
    {
     "ename": "IndexError",
     "evalue": "Replacement index 2 out of range for positional args tuple",
     "output_type": "error",
     "traceback": [
      "\u001b[1;31m---------------------------------------------------------------------------\u001b[0m",
      "\u001b[1;31mIndexError\u001b[0m                                Traceback (most recent call last)",
      "Cell \u001b[1;32mIn[19], line 1\u001b[0m\n\u001b[1;32m----> 1\u001b[0m \u001b[38;5;124m'\u001b[39m\u001b[38;5;124mhi my name is \u001b[39m\u001b[38;5;132;01m{}\u001b[39;00m\u001b[38;5;124m and salary is \u001b[39m\u001b[38;5;132;01m{}\u001b[39;00m\u001b[38;5;124m. i am \u001b[39m\u001b[38;5;132;01m{}\u001b[39;00m\u001b[38;5;124m'\u001b[39m\u001b[38;5;241m.\u001b[39mformat(\u001b[38;5;124m'\u001b[39m\u001b[38;5;124mabc\u001b[39m\u001b[38;5;124m'\u001b[39m, \u001b[38;5;241m84693\u001b[39m)\n",
      "\u001b[1;31mIndexError\u001b[0m: Replacement index 2 out of range for positional args tuple"
     ]
    }
   ],
   "source": [
    "'hi my name is {} and salary is {}. i am {}'.format('abc', 84693)"
   ]
  },
  {
   "cell_type": "code",
   "execution_count": 20,
   "id": "fb55c783-15e9-4c34-a66e-dbf8c7062fa7",
   "metadata": {},
   "outputs": [
    {
     "data": {
      "text/plain": [
       "'hi my name is abc and salary is 84693. i am abc'"
      ]
     },
     "execution_count": 20,
     "metadata": {},
     "output_type": "execute_result"
    }
   ],
   "source": [
    "'hi my name is {0} and salary is {1}. i am {0}'.format('abc', 84693)"
   ]
  },
  {
   "cell_type": "code",
   "execution_count": 21,
   "id": "cf89d19a-00c9-49d3-9dcb-d35f8e8ddac0",
   "metadata": {},
   "outputs": [
    {
     "data": {
      "text/plain": [
       "'hi my name is abc and salary is 84693'"
      ]
     },
     "execution_count": 21,
     "metadata": {},
     "output_type": "execute_result"
    }
   ],
   "source": [
    "'hi my name is {name} and salary is {salary}'.format(name = 'abc',salary =  84693)"
   ]
  },
  {
   "cell_type": "code",
   "execution_count": 22,
   "id": "edabb4e9-19f7-4cc8-a778-a2f4d4e62e3c",
   "metadata": {},
   "outputs": [],
   "source": [
    "name = 'shubham'\n",
    "salary = 40494"
   ]
  },
  {
   "cell_type": "code",
   "execution_count": 23,
   "id": "0601caa9-2bdb-4101-b0ed-635151cff2cc",
   "metadata": {},
   "outputs": [
    {
     "data": {
      "text/plain": [
       "'hi my name is shubham and salary is 40494'"
      ]
     },
     "execution_count": 23,
     "metadata": {},
     "output_type": "execute_result"
    }
   ],
   "source": [
    "f'hi my name is {name} and salary is {salary}'"
   ]
  },
  {
   "cell_type": "code",
   "execution_count": 24,
   "id": "444bf5c3-6fb9-42b9-acc6-72a98d81e045",
   "metadata": {},
   "outputs": [
    {
     "data": {
      "text/plain": [
       "['tom', 'jerry']"
      ]
     },
     "execution_count": 24,
     "metadata": {},
     "output_type": "execute_result"
    }
   ],
   "source": [
    "' tom jerry'.split()"
   ]
  },
  {
   "cell_type": "code",
   "execution_count": 25,
   "id": "56c7f6a8-5c3d-4cb7-b5ed-3d1a62a02671",
   "metadata": {},
   "outputs": [
    {
     "data": {
      "text/plain": [
       "True"
      ]
     },
     "execution_count": 25,
     "metadata": {},
     "output_type": "execute_result"
    }
   ],
   "source": [
    "'shubham'.islower()"
   ]
  },
  {
   "cell_type": "code",
   "execution_count": 26,
   "id": "befd6fab-31ce-4e86-9537-2c4417b3e37d",
   "metadata": {},
   "outputs": [
    {
     "data": {
      "text/plain": [
       "True"
      ]
     },
     "execution_count": 26,
     "metadata": {},
     "output_type": "execute_result"
    }
   ],
   "source": [
    "'SHU'.isupper()"
   ]
  },
  {
   "cell_type": "code",
   "execution_count": 27,
   "id": "6ab8d031-f36b-472d-8ef6-8ca18f37592f",
   "metadata": {},
   "outputs": [
    {
     "data": {
      "text/plain": [
       "False"
      ]
     },
     "execution_count": 27,
     "metadata": {},
     "output_type": "execute_result"
    }
   ],
   "source": [
    "'SHU'.islower()"
   ]
  },
  {
   "cell_type": "code",
   "execution_count": 28,
   "id": "3a59ca65-867d-4cb6-82a0-87e979aa9322",
   "metadata": {},
   "outputs": [
    {
     "data": {
      "text/plain": [
       "True"
      ]
     },
     "execution_count": 28,
     "metadata": {},
     "output_type": "execute_result"
    }
   ],
   "source": [
    "'SHU'.isalpha()"
   ]
  },
  {
   "cell_type": "code",
   "execution_count": 29,
   "id": "678d7907-5e96-485d-a460-b14126162a16",
   "metadata": {},
   "outputs": [
    {
     "data": {
      "text/plain": [
       "False"
      ]
     },
     "execution_count": 29,
     "metadata": {},
     "output_type": "execute_result"
    }
   ],
   "source": [
    "'SHU'.isdigit()"
   ]
  },
  {
   "cell_type": "code",
   "execution_count": 30,
   "id": "d9f2d738-3303-411a-bed4-3af3550c80b3",
   "metadata": {},
   "outputs": [
    {
     "data": {
      "text/plain": [
       "True"
      ]
     },
     "execution_count": 30,
     "metadata": {},
     "output_type": "execute_result"
    }
   ],
   "source": [
    "'SHU34'.isalnum()"
   ]
  },
  {
   "cell_type": "code",
   "execution_count": 32,
   "id": "3ebbfd38-aaab-4df5-abed-bcdfdf83b600",
   "metadata": {},
   "outputs": [
    {
     "data": {
      "text/plain": [
       "False"
      ]
     },
     "execution_count": 32,
     "metadata": {},
     "output_type": "execute_result"
    }
   ],
   "source": [
    "'shubham_singh'.isalpha()"
   ]
  },
  {
   "cell_type": "code",
   "execution_count": 33,
   "id": "f7fcb50a-d1b8-43aa-a575-3e8135224d48",
   "metadata": {},
   "outputs": [
    {
     "data": {
      "text/plain": [
       "'s@ub@am'"
      ]
     },
     "execution_count": 33,
     "metadata": {},
     "output_type": "execute_result"
    }
   ],
   "source": [
    "'shubham'.replace('h', '@')"
   ]
  },
  {
   "cell_type": "code",
   "execution_count": 34,
   "id": "0dd41a07-4a5f-4133-b3da-83dbe1546753",
   "metadata": {},
   "outputs": [
    {
     "data": {
      "text/plain": [
       "'s@ubham'"
      ]
     },
     "execution_count": 34,
     "metadata": {},
     "output_type": "execute_result"
    }
   ],
   "source": [
    "'shubham'.replace('h', '@', 1)"
   ]
  },
  {
   "cell_type": "code",
   "execution_count": 35,
   "id": "1138e295-6610-4984-a0a6-eb2d4108aa96",
   "metadata": {},
   "outputs": [
    {
     "ename": "TypeError",
     "evalue": "replace() takes at least 2 positional arguments (0 given)",
     "output_type": "error",
     "traceback": [
      "\u001b[1;31m---------------------------------------------------------------------------\u001b[0m",
      "\u001b[1;31mTypeError\u001b[0m                                 Traceback (most recent call last)",
      "Cell \u001b[1;32mIn[35], line 1\u001b[0m\n\u001b[1;32m----> 1\u001b[0m help(\u001b[38;5;124m'\u001b[39m\u001b[38;5;124mshubham\u001b[39m\u001b[38;5;124m'\u001b[39m\u001b[38;5;241m.\u001b[39mreplace())\n",
      "\u001b[1;31mTypeError\u001b[0m: replace() takes at least 2 positional arguments (0 given)"
     ]
    }
   ],
   "source": [
    "help('shubham'.replace())"
   ]
  },
  {
   "cell_type": "code",
   "execution_count": 36,
   "id": "83016edf-227e-4a1c-a5c0-d325945596af",
   "metadata": {},
   "outputs": [
    {
     "ename": "_IncompleteInputError",
     "evalue": "incomplete input (3554720357.py, line 1)",
     "output_type": "error",
     "traceback": [
      "\u001b[1;36m  Cell \u001b[1;32mIn[36], line 1\u001b[1;36m\u001b[0m\n\u001b[1;33m    help('shubham'.replace\u001b[0m\n\u001b[1;37m                          ^\u001b[0m\n\u001b[1;31m_IncompleteInputError\u001b[0m\u001b[1;31m:\u001b[0m incomplete input\n"
     ]
    }
   ],
   "source": [
    "help('shubham'.replace"
   ]
  },
  {
   "cell_type": "code",
   "execution_count": 37,
   "id": "a18f54f6-5db0-48a7-93c3-68045741e21c",
   "metadata": {},
   "outputs": [
    {
     "name": "stdout",
     "output_type": "stream",
     "text": [
      "Help on built-in function replace:\n",
      "\n",
      "replace(old, new, /, count=-1) method of builtins.str instance\n",
      "    Return a copy with all occurrences of substring old replaced by new.\n",
      "\n",
      "      count\n",
      "        Maximum number of occurrences to replace.\n",
      "        -1 (the default value) means replace all occurrences.\n",
      "\n",
      "    If the optional argument count is given, only the first count occurrences are\n",
      "    replaced.\n",
      "\n"
     ]
    }
   ],
   "source": [
    "help('shubham'.replace)"
   ]
  },
  {
   "cell_type": "code",
   "execution_count": null,
   "id": "17e961a8-a60a-4cd7-aeaf-4d3b2e02add4",
   "metadata": {},
   "outputs": [],
   "source": []
  }
 ],
 "metadata": {
  "kernelspec": {
   "display_name": "Python 3 (ipykernel)",
   "language": "python",
   "name": "python3"
  },
  "language_info": {
   "codemirror_mode": {
    "name": "ipython",
    "version": 3
   },
   "file_extension": ".py",
   "mimetype": "text/x-python",
   "name": "python",
   "nbconvert_exporter": "python",
   "pygments_lexer": "ipython3",
   "version": "3.13.5"
  }
 },
 "nbformat": 4,
 "nbformat_minor": 5
}
