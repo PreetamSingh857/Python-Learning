{
 "cells": [
  {
   "cell_type": "markdown",
   "id": "aaf1ab1e-afd4-4ed7-a336-7c0915342ed4",
   "metadata": {},
   "source": [
    "# Tuple"
   ]
  },
  {
   "cell_type": "code",
   "execution_count": 1,
   "id": "9b4437fb-54c0-4c0d-88ca-1718de119503",
   "metadata": {},
   "outputs": [],
   "source": [
    "dogs = ('tom', 'kutta', 'doggy')"
   ]
  },
  {
   "cell_type": "code",
   "execution_count": 2,
   "id": "ce65d700-650c-4d51-8306-6ef2342f29ec",
   "metadata": {},
   "outputs": [
    {
     "data": {
      "text/plain": [
       "('tom', 'kutta', 'doggy')"
      ]
     },
     "execution_count": 2,
     "metadata": {},
     "output_type": "execute_result"
    }
   ],
   "source": [
    "dogs"
   ]
  },
  {
   "cell_type": "code",
   "execution_count": 3,
   "id": "4b707ac7-72ac-496e-9451-79efc5fd4f09",
   "metadata": {},
   "outputs": [
    {
     "data": {
      "text/plain": [
       "(2, 5, 6)"
      ]
     },
     "execution_count": 3,
     "metadata": {},
     "output_type": "execute_result"
    }
   ],
   "source": [
    "2,5,6"
   ]
  },
  {
   "cell_type": "code",
   "execution_count": 4,
   "id": "b15275b6-2d9d-47c4-886a-fe916f81a203",
   "metadata": {},
   "outputs": [
    {
     "data": {
      "text/plain": [
       "(('tom', 'kutta', 'doggy'), 4, 6)"
      ]
     },
     "execution_count": 4,
     "metadata": {},
     "output_type": "execute_result"
    }
   ],
   "source": [
    "(('tom', 'kutta', 'doggy'), 4 ,6)"
   ]
  },
  {
   "cell_type": "markdown",
   "id": "66249a0b-1444-4a5b-a9b7-a7489d07f5d0",
   "metadata": {},
   "source": [
    "# Tuple unpacking"
   ]
  },
  {
   "cell_type": "code",
   "execution_count": 5,
   "id": "5b89d220-8862-4dd5-b3c6-58f019f5f3ee",
   "metadata": {},
   "outputs": [],
   "source": [
    "a,b = 2,5"
   ]
  },
  {
   "cell_type": "code",
   "execution_count": 6,
   "id": "9fd7ab41-f52e-4551-886a-6a6535775fb6",
   "metadata": {},
   "outputs": [
    {
     "data": {
      "text/plain": [
       "2"
      ]
     },
     "execution_count": 6,
     "metadata": {},
     "output_type": "execute_result"
    }
   ],
   "source": [
    "a"
   ]
  },
  {
   "cell_type": "code",
   "execution_count": 7,
   "id": "75f08dcb-e4b2-4597-9985-865066c16f27",
   "metadata": {},
   "outputs": [
    {
     "data": {
      "text/plain": [
       "5"
      ]
     },
     "execution_count": 7,
     "metadata": {},
     "output_type": "execute_result"
    }
   ],
   "source": [
    "b"
   ]
  },
  {
   "cell_type": "code",
   "execution_count": 8,
   "id": "533afbbe-58c0-4ee8-bf39-9195d525bec1",
   "metadata": {},
   "outputs": [],
   "source": [
    "a, b= b, a"
   ]
  },
  {
   "cell_type": "code",
   "execution_count": 9,
   "id": "be185052-6050-49fc-8ecb-0d9698ba11c4",
   "metadata": {},
   "outputs": [
    {
     "data": {
      "text/plain": [
       "5"
      ]
     },
     "execution_count": 9,
     "metadata": {},
     "output_type": "execute_result"
    }
   ],
   "source": [
    "a"
   ]
  },
  {
   "cell_type": "code",
   "execution_count": 10,
   "id": "da892632-88c8-4fb3-b9df-53ece27b861a",
   "metadata": {},
   "outputs": [
    {
     "data": {
      "text/plain": [
       "2"
      ]
     },
     "execution_count": 10,
     "metadata": {},
     "output_type": "execute_result"
    }
   ],
   "source": [
    "b"
   ]
  },
  {
   "cell_type": "markdown",
   "id": "c662e58f-53c6-47c0-bc42-5ce22c9423e5",
   "metadata": {},
   "source": [
    "# tuple understanding\n",
    "\n",
    "### tuple are ordered squence"
   ]
  },
  {
   "cell_type": "code",
   "execution_count": 11,
   "id": "d5ccb0e0-95ea-4309-8d4f-f4a65c7c392d",
   "metadata": {},
   "outputs": [
    {
     "data": {
      "text/plain": [
       "('tom', 'kutta', 'doggy')"
      ]
     },
     "execution_count": 11,
     "metadata": {},
     "output_type": "execute_result"
    }
   ],
   "source": [
    "dogs"
   ]
  },
  {
   "cell_type": "code",
   "execution_count": 12,
   "id": "8deba6f1-46b5-4d06-b214-99a018e2ce89",
   "metadata": {},
   "outputs": [
    {
     "data": {
      "text/plain": [
       "'tom'"
      ]
     },
     "execution_count": 12,
     "metadata": {},
     "output_type": "execute_result"
    }
   ],
   "source": [
    "dogs[0]"
   ]
  },
  {
   "cell_type": "code",
   "execution_count": 13,
   "id": "327897d8-a6a6-497e-ba76-7fed8ad0c230",
   "metadata": {},
   "outputs": [
    {
     "data": {
      "text/plain": [
       "'doggy'"
      ]
     },
     "execution_count": 13,
     "metadata": {},
     "output_type": "execute_result"
    }
   ],
   "source": [
    "dogs[2]"
   ]
  },
  {
   "cell_type": "code",
   "execution_count": 14,
   "id": "9b1fbcc8-94cb-4482-90a2-0d5f167608b6",
   "metadata": {},
   "outputs": [
    {
     "data": {
      "text/plain": [
       "('tom', 'kutta', 'doggy')"
      ]
     },
     "execution_count": 14,
     "metadata": {},
     "output_type": "execute_result"
    }
   ],
   "source": [
    "dogs[:]"
   ]
  },
  {
   "cell_type": "code",
   "execution_count": 15,
   "id": "4573f355-8468-40fa-bc8e-e089505239ed",
   "metadata": {},
   "outputs": [
    {
     "data": {
      "text/plain": [
       "('kutta', 'doggy')"
      ]
     },
     "execution_count": 15,
     "metadata": {},
     "output_type": "execute_result"
    }
   ],
   "source": [
    "dogs[1:]"
   ]
  },
  {
   "cell_type": "code",
   "execution_count": 18,
   "id": "e41e5139-3d03-478c-a908-57853c726753",
   "metadata": {},
   "outputs": [
    {
     "data": {
      "text/plain": [
       "'kut'"
      ]
     },
     "execution_count": 18,
     "metadata": {},
     "output_type": "execute_result"
    }
   ],
   "source": [
    "dogs[1][:3]"
   ]
  },
  {
   "cell_type": "code",
   "execution_count": 20,
   "id": "64d0d0f2-a011-4241-afcf-bdf2d9417e36",
   "metadata": {},
   "outputs": [
    {
     "ename": "TypeError",
     "evalue": "'str' object does not support item assignment",
     "output_type": "error",
     "traceback": [
      "\u001b[1;31m---------------------------------------------------------------------------\u001b[0m",
      "\u001b[1;31mTypeError\u001b[0m                                 Traceback (most recent call last)",
      "Cell \u001b[1;32mIn[20], line 1\u001b[0m\n\u001b[1;32m----> 1\u001b[0m dogs[\u001b[38;5;241m1\u001b[39m][\u001b[38;5;241m0\u001b[39m] \u001b[38;5;241m=\u001b[39m \u001b[38;5;124m'\u001b[39m\u001b[38;5;124ms\u001b[39m\u001b[38;5;124m'\u001b[39m\n",
      "\u001b[1;31mTypeError\u001b[0m: 'str' object does not support item assignment"
     ]
    }
   ],
   "source": [
    "dogs[1][0] = 's'"
   ]
  },
  {
   "cell_type": "code",
   "execution_count": 22,
   "id": "32c9537f-ec89-47c6-b41d-d4455b2f68ce",
   "metadata": {},
   "outputs": [
    {
     "ename": "TypeError",
     "evalue": "'str' object does not support item assignment",
     "output_type": "error",
     "traceback": [
      "\u001b[1;31m---------------------------------------------------------------------------\u001b[0m",
      "\u001b[1;31mTypeError\u001b[0m                                 Traceback (most recent call last)",
      "Cell \u001b[1;32mIn[22], line 1\u001b[0m\n\u001b[1;32m----> 1\u001b[0m \u001b[38;5;124m'\u001b[39m\u001b[38;5;124msdjfois\u001b[39m\u001b[38;5;124m'\u001b[39m[\u001b[38;5;241m0\u001b[39m]  \u001b[38;5;241m=\u001b[39m \u001b[38;5;124m'\u001b[39m\u001b[38;5;124mw\u001b[39m\u001b[38;5;124m'\u001b[39m\n",
      "\u001b[1;31mTypeError\u001b[0m: 'str' object does not support item assignment"
     ]
    }
   ],
   "source": [
    "'sdjfois'[0]  = 'w'"
   ]
  },
  {
   "cell_type": "code",
   "execution_count": 23,
   "id": "c397f80e-93ad-44a7-8868-f7869155c3b9",
   "metadata": {},
   "outputs": [],
   "source": [
    "l = [1,2,5]\n",
    "l[0] = 34"
   ]
  },
  {
   "cell_type": "code",
   "execution_count": 24,
   "id": "b84edf84-9b33-4fef-83f9-608ae0cb7d28",
   "metadata": {},
   "outputs": [
    {
     "data": {
      "text/plain": [
       "[34, 2, 5]"
      ]
     },
     "execution_count": 24,
     "metadata": {},
     "output_type": "execute_result"
    }
   ],
   "source": [
    "l"
   ]
  },
  {
   "cell_type": "code",
   "execution_count": 25,
   "id": "2bf20ece-61a3-4d20-afcb-3243199e172e",
   "metadata": {},
   "outputs": [
    {
     "data": {
      "text/plain": [
       "1"
      ]
     },
     "execution_count": 25,
     "metadata": {},
     "output_type": "execute_result"
    }
   ],
   "source": [
    "dogs.count('kutta')"
   ]
  },
  {
   "cell_type": "code",
   "execution_count": 26,
   "id": "9f7f323d-b455-46bf-a50a-ae66678d751f",
   "metadata": {},
   "outputs": [],
   "source": [
    "t = (4,1,2,2,4)"
   ]
  },
  {
   "cell_type": "code",
   "execution_count": 27,
   "id": "02173462-e152-4cc6-8741-d30f59792c78",
   "metadata": {},
   "outputs": [
    {
     "data": {
      "text/plain": [
       "(4, 1, 2, 2, 4)"
      ]
     },
     "execution_count": 27,
     "metadata": {},
     "output_type": "execute_result"
    }
   ],
   "source": [
    "t"
   ]
  },
  {
   "cell_type": "code",
   "execution_count": 28,
   "id": "95a12f5b-8dca-47fa-b809-8e8a8e533a49",
   "metadata": {},
   "outputs": [
    {
     "name": "stdout",
     "output_type": "stream",
     "text": [
      "Help on built-in function index:\n",
      "\n",
      "index(value, start=0, stop=9223372036854775807, /) method of builtins.tuple instance\n",
      "    Return first index of value.\n",
      "\n",
      "    Raises ValueError if the value is not present.\n",
      "\n"
     ]
    }
   ],
   "source": [
    "help(t.index)"
   ]
  },
  {
   "cell_type": "code",
   "execution_count": 29,
   "id": "317d7051-70eb-4ef6-aede-8a1f16f1e0a4",
   "metadata": {},
   "outputs": [
    {
     "data": {
      "text/plain": [
       "4"
      ]
     },
     "execution_count": 29,
     "metadata": {},
     "output_type": "execute_result"
    }
   ],
   "source": [
    "t.index(4,1)"
   ]
  },
  {
   "cell_type": "markdown",
   "id": "1e814a8b-4a39-4744-9e5a-cea446ff0a1a",
   "metadata": {},
   "source": [
    "# indexing slicing"
   ]
  },
  {
   "cell_type": "code",
   "execution_count": 30,
   "id": "f6a74928-f480-484b-a2c4-0b152282da7e",
   "metadata": {},
   "outputs": [],
   "source": [
    "t = t[2:]"
   ]
  },
  {
   "cell_type": "code",
   "execution_count": 31,
   "id": "de27738d-217c-434d-9a9e-097c1c55ffda",
   "metadata": {},
   "outputs": [
    {
     "data": {
      "text/plain": [
       "(2, 2, 4)"
      ]
     },
     "execution_count": 31,
     "metadata": {},
     "output_type": "execute_result"
    }
   ],
   "source": [
    "t"
   ]
  },
  {
   "cell_type": "code",
   "execution_count": 32,
   "id": "b852183d-78ac-4b47-abb5-4854201b19fc",
   "metadata": {},
   "outputs": [
    {
     "data": {
      "text/plain": [
       "(2, 2, 4)"
      ]
     },
     "execution_count": 32,
     "metadata": {},
     "output_type": "execute_result"
    }
   ],
   "source": [
    "t[:3]"
   ]
  },
  {
   "cell_type": "code",
   "execution_count": 33,
   "id": "5994cbbd-6691-4032-992e-f35b08251509",
   "metadata": {},
   "outputs": [
    {
     "data": {
      "text/plain": [
       "(2,)"
      ]
     },
     "execution_count": 33,
     "metadata": {},
     "output_type": "execute_result"
    }
   ],
   "source": [
    "t[1:2]"
   ]
  },
  {
   "cell_type": "code",
   "execution_count": null,
   "id": "df02ee8c-a1f8-4781-9f4e-aae1c225fc30",
   "metadata": {},
   "outputs": [],
   "source": []
  }
 ],
 "metadata": {
  "kernelspec": {
   "display_name": "Python 3 (ipykernel)",
   "language": "python",
   "name": "python3"
  },
  "language_info": {
   "codemirror_mode": {
    "name": "ipython",
    "version": 3
   },
   "file_extension": ".py",
   "mimetype": "text/x-python",
   "name": "python",
   "nbconvert_exporter": "python",
   "pygments_lexer": "ipython3",
   "version": "3.13.5"
  }
 },
 "nbformat": 4,
 "nbformat_minor": 5
}
