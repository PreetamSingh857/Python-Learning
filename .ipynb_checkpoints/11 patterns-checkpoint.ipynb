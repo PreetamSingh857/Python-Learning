{
 "cells": [
  {
   "cell_type": "code",
   "execution_count": 1,
   "id": "1247c90a-e5e0-48bf-ba41-2cbe2aa6b123",
   "metadata": {},
   "outputs": [
    {
     "name": "stdout",
     "output_type": "stream",
     "text": [
      "01234\n",
      "01234\n",
      "01234\n",
      "01234\n",
      "01234\n"
     ]
    }
   ],
   "source": [
    "i =0\n",
    "n = 5\n",
    "while i<n:\n",
    "    j = 0\n",
    "    m = 5\n",
    "    while j<m:\n",
    "        print(j, end=\"\")\n",
    "        j+=1\n",
    "    print()\n",
    "    i+=1"
   ]
  },
  {
   "cell_type": "code",
   "execution_count": 8,
   "id": "aba0336b-1d56-4eb9-9835-d9e2ac4782c1",
   "metadata": {},
   "outputs": [
    {
     "name": "stdout",
     "output_type": "stream",
     "text": [
      "44444\n",
      "3333\n",
      "222\n",
      "11\n",
      "0\n"
     ]
    }
   ],
   "source": [
    "i = 0\n",
    "n = 5\n",
    "while i<n:\n",
    "    j = 0\n",
    "    while j<n-i:\n",
    "        print(n-i-1, end=\"\")\n",
    "        j+=1\n",
    "    print()\n",
    "    i+=1"
   ]
  },
  {
   "cell_type": "code",
   "execution_count": 13,
   "id": "804ba7c7-f063-4da6-b802-afd84abd1ccf",
   "metadata": {},
   "outputs": [
    {
     "name": "stdout",
     "output_type": "stream",
     "text": [
      "*****\n",
      "*///*\n",
      "*///*\n",
      "*///*\n",
      "*****\n"
     ]
    }
   ],
   "source": [
    "i = 0\n",
    "n = 5\n",
    "while i<n:\n",
    "    j = 0\n",
    "    while j<n:\n",
    "        if i == 0 or i==n-1 or j==0 or j==n-1:\n",
    "            print(\"*\", end=\"\")\n",
    "        else:\n",
    "            print(\"/\",end=\"\")\n",
    "        j+=1\n",
    "    print()\n",
    "    i+=1"
   ]
  },
  {
   "cell_type": "code",
   "execution_count": 17,
   "id": "f360cea0-79db-4079-adaa-efdec57afc9e",
   "metadata": {},
   "outputs": [
    {
     "name": "stdout",
     "output_type": "stream",
     "text": [
      "@@@@*****\n",
      "@@@*///*\n",
      "@@*///*\n",
      "@*///*\n",
      "*****\n"
     ]
    }
   ],
   "source": [
    "i = 0\n",
    "n = 5\n",
    "while i<n:\n",
    "    k = 0\n",
    "    while k<n-i-1:\n",
    "        print('@', end=\"\")\n",
    "        k+=1\n",
    "    j = 0\n",
    "    while j<n:\n",
    "        if i == 0 or i==n-1 or j==0 or j==n-1:\n",
    "            print(\"*\", end=\"\")\n",
    "        else:\n",
    "            print(\"/\",end=\"\")\n",
    "        j+=1\n",
    "    print()\n",
    "    i+=1"
   ]
  },
  {
   "cell_type": "code",
   "execution_count": 25,
   "id": "9bba8ad2-272c-4c29-b95f-9dfa2887a8d4",
   "metadata": {},
   "outputs": [
    {
     "name": "stdout",
     "output_type": "stream",
     "text": [
      "     A\n",
      "    AAA\n",
      "   AAAAA\n",
      "  AAAAAAA\n",
      " AAAAAAAAA\n"
     ]
    }
   ],
   "source": [
    "i = 0\n",
    "n = 5\n",
    "while i<n:\n",
    "    j = 0\n",
    "    while j<n-i:\n",
    "        print(' ',end='')\n",
    "        j+=1\n",
    "\n",
    "    k = 0\n",
    "    while k<i*2+1:\n",
    "        print('A', end=\"\")\n",
    "        k+=1\n",
    "    print()\n",
    "    i+=1\n"
   ]
  },
  {
   "cell_type": "code",
   "execution_count": null,
   "id": "0801ede9-f844-4f1d-8386-8af73bdbf304",
   "metadata": {},
   "outputs": [],
   "source": []
  }
 ],
 "metadata": {
  "kernelspec": {
   "display_name": "Python 3 (ipykernel)",
   "language": "python",
   "name": "python3"
  },
  "language_info": {
   "codemirror_mode": {
    "name": "ipython",
    "version": 3
   },
   "file_extension": ".py",
   "mimetype": "text/x-python",
   "name": "python",
   "nbconvert_exporter": "python",
   "pygments_lexer": "ipython3",
   "version": "3.13.5"
  }
 },
 "nbformat": 4,
 "nbformat_minor": 5
}
