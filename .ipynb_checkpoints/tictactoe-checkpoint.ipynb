{
 "cells": [
  {
   "cell_type": "markdown",
   "id": "e9a9bf60-c9d9-48c5-baad-9d8221e36c13",
   "metadata": {},
   "source": [
    "## Display"
   ]
  },
  {
   "cell_type": "code",
   "execution_count": 17,
   "id": "ed20fe7b-bd93-4fab-9b52-ba376a80d6bc",
   "metadata": {},
   "outputs": [],
   "source": [
    "from IPython.display import clear_output"
   ]
  },
  {
   "cell_type": "code",
   "execution_count": 1,
   "id": "2864643d-54e2-49b4-a565-524482f9142e",
   "metadata": {},
   "outputs": [],
   "source": [
    "li = [\" \"]*10"
   ]
  },
  {
   "cell_type": "code",
   "execution_count": 2,
   "id": "07dbb6bf-2355-4339-85c4-6e18761dcaa1",
   "metadata": {},
   "outputs": [
    {
     "data": {
      "text/plain": [
       "[' ', ' ', ' ', ' ', ' ', ' ', ' ', ' ', ' ', ' ']"
      ]
     },
     "execution_count": 2,
     "metadata": {},
     "output_type": "execute_result"
    }
   ],
   "source": [
    "li"
   ]
  },
  {
   "cell_type": "code",
   "execution_count": 3,
   "id": "2ea2717a-5ad6-497e-b4ec-673dec2301cf",
   "metadata": {},
   "outputs": [],
   "source": [
    "li[5] = \"0\""
   ]
  },
  {
   "cell_type": "code",
   "execution_count": 4,
   "id": "dba3fb93-0b25-429c-b9ff-887ab6847a03",
   "metadata": {},
   "outputs": [],
   "source": [
    "def display():\n",
    "    print(li[7],\"|\", li[8],\"|\", li[9])\n",
    "    print(\"-\"*10)\n",
    "    print(li[4],\"|\", li[5],\"|\", li[6])\n",
    "    print(\"-\"*10)\n",
    "    print(li[1],\"|\", li[2],\"|\", li[3])\n",
    "    "
   ]
  },
  {
   "cell_type": "code",
   "execution_count": 5,
   "id": "9e811695-9037-4a25-b67e-6466e2781136",
   "metadata": {},
   "outputs": [],
   "source": [
    "def empty_position():\n",
    "    ans = []\n",
    "    for i in range(1, len(li)):\n",
    "        if li[i] == ' ':\n",
    "            ans.append(i)\n",
    "    return ans"
   ]
  },
  {
   "cell_type": "code",
   "execution_count": 6,
   "id": "a60718b7-1f80-4a16-ac36-6beaa691e9c9",
   "metadata": {},
   "outputs": [],
   "source": [
    "def take_position():\n",
    "    available = empty_position()\n",
    "    position = None\n",
    "    while not position:\n",
    "        try:\n",
    "            position = int(input(f\"Choose among{available}:- \"))\n",
    "        except ValueError:\n",
    "            print('Please provide a number')\n",
    "        else:\n",
    "            if position in available:\n",
    "                return position\n",
    "            else: \n",
    "                print(f\"Please provide a number among {available}\")\n",
    "                position = None"
   ]
  },
  {
   "cell_type": "code",
   "execution_count": 7,
   "id": "edfddc97-06c1-478d-815b-ba9004818547",
   "metadata": {},
   "outputs": [],
   "source": [
    "def put_marker(position, marker):\n",
    "    li[position] = marker"
   ]
  },
  {
   "cell_type": "code",
   "execution_count": 8,
   "id": "824e21e4-01d6-4098-ac21-5272f91fd829",
   "metadata": {},
   "outputs": [],
   "source": [
    "def check_win():\n",
    "    if (li[7]==li[8]==li[9]!=' ') or (li[4]==li[5]==li[6]!=' ') or (li[1]==li[2]==li[3]!=' ') or \\\n",
    "    (li[7]==li[4]==li[1]!=' ') or (li[8]==li[5]==li[2]!=' ') or (li[9]==li[6]==li[3]!=' ') or \\\n",
    "    (li[7]==li[5]==li[3]!=' ') or (li[1]==li[5]==li[9]!=' '):\n",
    "        return True\n",
    "    else:\n",
    "        return False"
   ]
  },
  {
   "cell_type": "code",
   "execution_count": 11,
   "id": "695f75dc-0131-4c51-959c-dae6e5c0c685",
   "metadata": {},
   "outputs": [],
   "source": [
    "def board_full():\n",
    "    if len(empty_position())==0:\n",
    "        return True\n",
    "    else:\n",
    "        return False"
   ]
  },
  {
   "cell_type": "code",
   "execution_count": 12,
   "id": "d0d052eb-97e1-42e9-bb6f-47b4e6d654b6",
   "metadata": {},
   "outputs": [],
   "source": [
    "def change_marker(marker):\n",
    "    if marker == 'O':\n",
    "        return 'X'\n",
    "    else:\n",
    "        return 'O'"
   ]
  },
  {
   "cell_type": "code",
   "execution_count": 18,
   "id": "b4ad7b0d-1ddd-43b2-bad1-7be85bec2c4b",
   "metadata": {},
   "outputs": [
    {
     "name": "stdout",
     "output_type": "stream",
     "text": [
      "O | X | O\n",
      "----------\n",
      "O | X | X\n",
      "----------\n",
      "X | O | O\n",
      "board full, game draw, do you want to play again\n"
     ]
    },
    {
     "name": "stdin",
     "output_type": "stream",
     "text": [
      "Do you want to playagain?(yes or no):-  n\n"
     ]
    }
   ],
   "source": [
    "li = [\" \"]*10\n",
    "game = True\n",
    "marker = 'O'\n",
    "display()\n",
    "while game:\n",
    "    position = take_position()\n",
    "    put_marker(position, marker)\n",
    "    clear_output()\n",
    "    display()\n",
    "    if check_win():\n",
    "        print()\n",
    "        print(f\"----------------** congo {marker} won the game\")\n",
    "        game = False\n",
    "        break\n",
    "    elif board_full():\n",
    "        print(f'board full, game draw, do you want to play again')\n",
    "        playagain = input(\"Do you want to playagain?(yes or no):- \")\n",
    "        if playagain[0].lower() == 'y':\n",
    "            li = [\" \"]*10\n",
    "            display()\n",
    "            game = True\n",
    "        else:\n",
    "            game = False\n",
    "            break\n",
    "    else:\n",
    "        marker = change_marker(marker)"
   ]
  },
  {
   "cell_type": "code",
   "execution_count": null,
   "id": "1a343428-9712-4582-8ad4-048addce47d0",
   "metadata": {},
   "outputs": [],
   "source": []
  }
 ],
 "metadata": {
  "kernelspec": {
   "display_name": "Python 3 (ipykernel)",
   "language": "python",
   "name": "python3"
  },
  "language_info": {
   "codemirror_mode": {
    "name": "ipython",
    "version": 3
   },
   "file_extension": ".py",
   "mimetype": "text/x-python",
   "name": "python",
   "nbconvert_exporter": "python",
   "pygments_lexer": "ipython3",
   "version": "3.13.5"
  }
 },
 "nbformat": 4,
 "nbformat_minor": 5
}
