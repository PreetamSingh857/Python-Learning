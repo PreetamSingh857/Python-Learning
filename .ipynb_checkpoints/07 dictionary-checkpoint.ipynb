{
 "cells": [
  {
   "cell_type": "markdown",
   "id": "0c3ed74e-ce98-4954-92c9-31345dca79c6",
   "metadata": {},
   "source": [
    "# Dictionary"
   ]
  },
  {
   "cell_type": "code",
   "execution_count": 2,
   "id": "e1a19742-e4f5-4b75-93b5-4343cce3c137",
   "metadata": {},
   "outputs": [],
   "source": [
    "d = {\"name\": \"shubh\", \"age\":23, \"education\":\"b.tech\"}"
   ]
  },
  {
   "cell_type": "code",
   "execution_count": 3,
   "id": "3266506d-a429-4918-b78d-a87d5dd0d25b",
   "metadata": {},
   "outputs": [
    {
     "data": {
      "text/plain": [
       "{'name': 'shubh', 'age': 23, 'education': 'b.tech'}"
      ]
     },
     "execution_count": 3,
     "metadata": {},
     "output_type": "execute_result"
    }
   ],
   "source": [
    "d"
   ]
  },
  {
   "cell_type": "code",
   "execution_count": 4,
   "id": "435a9992-7a35-466e-a496-48e95e9aae8d",
   "metadata": {},
   "outputs": [
    {
     "data": {
      "text/plain": [
       "dict_keys(['name', 'age', 'education'])"
      ]
     },
     "execution_count": 4,
     "metadata": {},
     "output_type": "execute_result"
    }
   ],
   "source": [
    "d.keys()"
   ]
  },
  {
   "cell_type": "code",
   "execution_count": 5,
   "id": "76abec87-f90f-41e9-bc4a-254331cd0859",
   "metadata": {},
   "outputs": [
    {
     "data": {
      "text/plain": [
       "3"
      ]
     },
     "execution_count": 5,
     "metadata": {},
     "output_type": "execute_result"
    }
   ],
   "source": [
    "len(d)"
   ]
  },
  {
   "cell_type": "code",
   "execution_count": 6,
   "id": "26789b3a-96c1-45b2-a57f-06c42de27229",
   "metadata": {},
   "outputs": [
    {
     "data": {
      "text/plain": [
       "dict_values(['shubh', 23, 'b.tech'])"
      ]
     },
     "execution_count": 6,
     "metadata": {},
     "output_type": "execute_result"
    }
   ],
   "source": [
    "d.values()"
   ]
  },
  {
   "cell_type": "code",
   "execution_count": 7,
   "id": "124b85db-1b00-4238-9234-55036088ee8e",
   "metadata": {},
   "outputs": [
    {
     "data": {
      "text/plain": [
       "'shubh'"
      ]
     },
     "execution_count": 7,
     "metadata": {},
     "output_type": "execute_result"
    }
   ],
   "source": [
    "d['name']"
   ]
  },
  {
   "cell_type": "code",
   "execution_count": 8,
   "id": "449ee855-2daa-4fa0-abca-7c66362ef8a7",
   "metadata": {},
   "outputs": [
    {
     "data": {
      "text/plain": [
       "23"
      ]
     },
     "execution_count": 8,
     "metadata": {},
     "output_type": "execute_result"
    }
   ],
   "source": [
    "d['age']"
   ]
  },
  {
   "cell_type": "code",
   "execution_count": 9,
   "id": "c54765e8-4bd7-4152-aeb5-17da31e8efd4",
   "metadata": {},
   "outputs": [
    {
     "data": {
      "text/plain": [
       "'b.tech'"
      ]
     },
     "execution_count": 9,
     "metadata": {},
     "output_type": "execute_result"
    }
   ],
   "source": [
    "d['education']"
   ]
  },
  {
   "cell_type": "code",
   "execution_count": 12,
   "id": "5aa85ce0-502f-4725-9c18-f05b48f0c38b",
   "metadata": {},
   "outputs": [
    {
     "data": {
      "text/plain": [
       "{'name': 'shubh', 'age': 23, 'education': 'b.tech'}"
      ]
     },
     "execution_count": 12,
     "metadata": {},
     "output_type": "execute_result"
    }
   ],
   "source": [
    "d"
   ]
  },
  {
   "cell_type": "code",
   "execution_count": 13,
   "id": "f837cf04-8c5f-4a1b-9172-91f6aa3ecd09",
   "metadata": {},
   "outputs": [],
   "source": [
    "a = {'name':'sijfis', 'age': 74, 'salary':42687}"
   ]
  },
  {
   "cell_type": "code",
   "execution_count": 14,
   "id": "f4c94b07-78b6-4233-9dfe-61850741eebd",
   "metadata": {},
   "outputs": [
    {
     "data": {
      "text/plain": [
       "{'name': 'sijfis', 'age': 74, 'salary': 42687}"
      ]
     },
     "execution_count": 14,
     "metadata": {},
     "output_type": "execute_result"
    }
   ],
   "source": [
    "a"
   ]
  },
  {
   "cell_type": "code",
   "execution_count": 15,
   "id": "5aa7778b-b9ff-4a78-a88b-cde068d4899b",
   "metadata": {},
   "outputs": [
    {
     "data": {
      "text/plain": [
       "<function dict.keys()>"
      ]
     },
     "execution_count": 15,
     "metadata": {},
     "output_type": "execute_result"
    }
   ],
   "source": [
    "a.keys"
   ]
  },
  {
   "cell_type": "code",
   "execution_count": 16,
   "id": "3e58ca4e-ea2d-418b-9419-28b6548d2720",
   "metadata": {},
   "outputs": [
    {
     "data": {
      "text/plain": [
       "dict_keys(['name', 'age', 'salary'])"
      ]
     },
     "execution_count": 16,
     "metadata": {},
     "output_type": "execute_result"
    }
   ],
   "source": [
    "a.keys()"
   ]
  },
  {
   "cell_type": "code",
   "execution_count": 17,
   "id": "24e2079a-ed08-4534-adad-d7ae6732fb54",
   "metadata": {},
   "outputs": [
    {
     "data": {
      "text/plain": [
       "dict_values(['sijfis', 74, 42687])"
      ]
     },
     "execution_count": 17,
     "metadata": {},
     "output_type": "execute_result"
    }
   ],
   "source": [
    "a.values()"
   ]
  },
  {
   "cell_type": "code",
   "execution_count": 19,
   "id": "6bc6a1ca-6cf0-4ac0-826c-5798ce3f06e9",
   "metadata": {},
   "outputs": [
    {
     "data": {
      "text/plain": [
       "'sijfis'"
      ]
     },
     "execution_count": 19,
     "metadata": {},
     "output_type": "execute_result"
    }
   ],
   "source": [
    "a['name']"
   ]
  },
  {
   "cell_type": "code",
   "execution_count": 20,
   "id": "cfd62c21-72a6-405c-ae5e-0199aba02bf6",
   "metadata": {},
   "outputs": [
    {
     "data": {
      "text/plain": [
       "42687"
      ]
     },
     "execution_count": 20,
     "metadata": {},
     "output_type": "execute_result"
    }
   ],
   "source": [
    "a['salary']"
   ]
  },
  {
   "cell_type": "code",
   "execution_count": 22,
   "id": "f5ec390a-4475-421e-b04f-5b201df37c4e",
   "metadata": {},
   "outputs": [],
   "source": [
    "a['wife'] = 'aeifkp'"
   ]
  },
  {
   "cell_type": "code",
   "execution_count": 23,
   "id": "3e5de2c6-6c21-4089-a31d-61992c61265c",
   "metadata": {},
   "outputs": [
    {
     "data": {
      "text/plain": [
       "{'name': 'sijfis', 'age': 74, 'salary': 42687, 'wife': 'aeifkp'}"
      ]
     },
     "execution_count": 23,
     "metadata": {},
     "output_type": "execute_result"
    }
   ],
   "source": [
    "a"
   ]
  },
  {
   "cell_type": "code",
   "execution_count": 24,
   "id": "cdbf1225-1db3-43cb-8466-14baf1032f1f",
   "metadata": {},
   "outputs": [],
   "source": [
    "# keys can only have string or int"
   ]
  },
  {
   "cell_type": "code",
   "execution_count": 25,
   "id": "cc778bf9-0e14-4550-b1cf-9ad970cdd715",
   "metadata": {},
   "outputs": [],
   "source": [
    "d = {1:{'name': 'sijfis', 'age': 74}, 2:{'name': 'a', 'age': 14}, 3:{'name': 'third', 'age': 43, 'dogs':['tom', 'jerry', 'harry']}}"
   ]
  },
  {
   "cell_type": "code",
   "execution_count": 26,
   "id": "08dd0527-0293-4c0e-8bd6-221fb494c93a",
   "metadata": {},
   "outputs": [
    {
     "data": {
      "text/plain": [
       "{1: {'name': 'sijfis', 'age': 74},\n",
       " 2: {'name': 'a', 'age': 14},\n",
       " 3: {'name': 'third', 'age': 43, 'dogs': ['tom', 'jerry', 'harry']}}"
      ]
     },
     "execution_count": 26,
     "metadata": {},
     "output_type": "execute_result"
    }
   ],
   "source": [
    "d"
   ]
  },
  {
   "cell_type": "code",
   "execution_count": 27,
   "id": "58e7ed55-cb78-4ae9-92f2-ec7d317f954b",
   "metadata": {},
   "outputs": [
    {
     "data": {
      "text/plain": [
       "{'name': 'sijfis', 'age': 74}"
      ]
     },
     "execution_count": 27,
     "metadata": {},
     "output_type": "execute_result"
    }
   ],
   "source": [
    "d[1]"
   ]
  },
  {
   "cell_type": "code",
   "execution_count": 28,
   "id": "7b0f7c5e-fb9d-41c0-b8ab-9b86ffd024eb",
   "metadata": {},
   "outputs": [
    {
     "data": {
      "text/plain": [
       "74"
      ]
     },
     "execution_count": 28,
     "metadata": {},
     "output_type": "execute_result"
    }
   ],
   "source": [
    "d[1]['age']"
   ]
  },
  {
   "cell_type": "code",
   "execution_count": 29,
   "id": "f26ec24e-412c-4d77-8721-1494e4d08792",
   "metadata": {},
   "outputs": [
    {
     "data": {
      "text/plain": [
       "'sijfis'"
      ]
     },
     "execution_count": 29,
     "metadata": {},
     "output_type": "execute_result"
    }
   ],
   "source": [
    "d[1]['name']"
   ]
  },
  {
   "cell_type": "code",
   "execution_count": 30,
   "id": "72038d15-009b-4e4d-9d37-5ce5d7cec15f",
   "metadata": {},
   "outputs": [],
   "source": [
    "d[1]['name'] = 'Q'"
   ]
  },
  {
   "cell_type": "code",
   "execution_count": 31,
   "id": "a441ed1e-1575-43c5-bb58-8c822805caa9",
   "metadata": {},
   "outputs": [
    {
     "data": {
      "text/plain": [
       "{1: {'name': 'Q', 'age': 74},\n",
       " 2: {'name': 'a', 'age': 14},\n",
       " 3: {'name': 'third', 'age': 43, 'dogs': ['tom', 'jerry', 'harry']}}"
      ]
     },
     "execution_count": 31,
     "metadata": {},
     "output_type": "execute_result"
    }
   ],
   "source": [
    "d"
   ]
  },
  {
   "cell_type": "code",
   "execution_count": 32,
   "id": "3419db05-b2f3-4875-bdc7-738d39562bb6",
   "metadata": {},
   "outputs": [
    {
     "data": {
      "text/plain": [
       "{'name': 'third', 'age': 43, 'dogs': ['tom', 'jerry', 'harry']}"
      ]
     },
     "execution_count": 32,
     "metadata": {},
     "output_type": "execute_result"
    }
   ],
   "source": [
    "d[3]"
   ]
  },
  {
   "cell_type": "code",
   "execution_count": 33,
   "id": "063af8bd-01b6-4320-8749-871c48b95525",
   "metadata": {},
   "outputs": [
    {
     "data": {
      "text/plain": [
       "['tom', 'jerry', 'harry']"
      ]
     },
     "execution_count": 33,
     "metadata": {},
     "output_type": "execute_result"
    }
   ],
   "source": [
    "d[3]['dogs']"
   ]
  },
  {
   "cell_type": "code",
   "execution_count": 34,
   "id": "8b33b280-c77a-4822-b744-c9a8cd0583f0",
   "metadata": {},
   "outputs": [
    {
     "data": {
      "text/plain": [
       "'jerry'"
      ]
     },
     "execution_count": 34,
     "metadata": {},
     "output_type": "execute_result"
    }
   ],
   "source": [
    "d[3]['dogs'][1]"
   ]
  },
  {
   "cell_type": "code",
   "execution_count": 35,
   "id": "bb8545b4-321c-486a-b368-1f623ab24d3d",
   "metadata": {},
   "outputs": [
    {
     "data": {
      "text/plain": [
       "'erry'"
      ]
     },
     "execution_count": 35,
     "metadata": {},
     "output_type": "execute_result"
    }
   ],
   "source": [
    "d[3]['dogs'][1][1:5]"
   ]
  },
  {
   "cell_type": "code",
   "execution_count": 38,
   "id": "5f6d215e-777c-413c-807f-96232bc5ca6e",
   "metadata": {},
   "outputs": [
    {
     "data": {
      "text/plain": [
       "dict_items([(1, {'name': 'Q', 'age': 74}), (2, {'name': 'a', 'age': 14}), (3, {'name': 'third', 'age': 43, 'dogs': ['tom', 'jerry', 'harry']})])"
      ]
     },
     "execution_count": 38,
     "metadata": {},
     "output_type": "execute_result"
    }
   ],
   "source": [
    "d.items()"
   ]
  },
  {
   "cell_type": "code",
   "execution_count": 40,
   "id": "205bff46-56dc-412a-8131-d07668e0084c",
   "metadata": {},
   "outputs": [
    {
     "data": {
      "text/plain": [
       "{1: {'name': 'Q', 'age': 74},\n",
       " 2: {'name': 'a', 'age': 14},\n",
       " 3: {'name': 'third', 'age': 43, 'dogs': ['tom', 'jerry', 'harry']}}"
      ]
     },
     "execution_count": 40,
     "metadata": {},
     "output_type": "execute_result"
    }
   ],
   "source": [
    "d"
   ]
  },
  {
   "cell_type": "code",
   "execution_count": 41,
   "id": "3179699f-96f3-4042-b41a-148137c39c03",
   "metadata": {},
   "outputs": [],
   "source": [
    "a = d.items()"
   ]
  },
  {
   "cell_type": "code",
   "execution_count": 42,
   "id": "55fe1914-023e-45a6-a58d-b861187b7240",
   "metadata": {},
   "outputs": [
    {
     "data": {
      "text/plain": [
       "dict_items([(1, {'name': 'Q', 'age': 74}), (2, {'name': 'a', 'age': 14}), (3, {'name': 'third', 'age': 43, 'dogs': ['tom', 'jerry', 'harry']})])"
      ]
     },
     "execution_count": 42,
     "metadata": {},
     "output_type": "execute_result"
    }
   ],
   "source": [
    "a"
   ]
  },
  {
   "cell_type": "code",
   "execution_count": 43,
   "id": "c070ca67-6243-488c-98a5-b9be84bc4e7b",
   "metadata": {},
   "outputs": [
    {
     "data": {
      "text/plain": [
       "dict_items"
      ]
     },
     "execution_count": 43,
     "metadata": {},
     "output_type": "execute_result"
    }
   ],
   "source": [
    "type(a)"
   ]
  },
  {
   "cell_type": "code",
   "execution_count": 45,
   "id": "8188a3a9-63ec-4850-8b5e-97fc6447fff6",
   "metadata": {},
   "outputs": [
    {
     "data": {
      "text/plain": [
       "{1: {'name': 'Q', 'age': 74},\n",
       " 2: {'name': 'a', 'age': 14},\n",
       " 3: {'name': 'third', 'age': 43, 'dogs': ['tom', 'jerry', 'harry']}}"
      ]
     },
     "execution_count": 45,
     "metadata": {},
     "output_type": "execute_result"
    }
   ],
   "source": [
    "d"
   ]
  },
  {
   "cell_type": "code",
   "execution_count": 46,
   "id": "ff024e35-011c-4925-aaf9-ad3ad389edf7",
   "metadata": {},
   "outputs": [
    {
     "data": {
      "text/plain": [
       "{'name': 'a', 'age': 14}"
      ]
     },
     "execution_count": 46,
     "metadata": {},
     "output_type": "execute_result"
    }
   ],
   "source": [
    "d.pop(2)"
   ]
  },
  {
   "cell_type": "code",
   "execution_count": 47,
   "id": "3dfa5818-aca8-470c-8936-232a199c6388",
   "metadata": {},
   "outputs": [
    {
     "data": {
      "text/plain": [
       "{1: {'name': 'Q', 'age': 74},\n",
       " 3: {'name': 'third', 'age': 43, 'dogs': ['tom', 'jerry', 'harry']}}"
      ]
     },
     "execution_count": 47,
     "metadata": {},
     "output_type": "execute_result"
    }
   ],
   "source": [
    "d"
   ]
  },
  {
   "cell_type": "code",
   "execution_count": 49,
   "id": "381f1a99-e91e-471b-9759-c4a6444c773f",
   "metadata": {},
   "outputs": [],
   "source": [
    "details = {'name':'Abc'}"
   ]
  },
  {
   "cell_type": "code",
   "execution_count": 50,
   "id": "ac8af50f-ce40-4edc-adab-8e0dfa745447",
   "metadata": {},
   "outputs": [],
   "source": [
    "details['age'] = 21"
   ]
  },
  {
   "cell_type": "code",
   "execution_count": 51,
   "id": "a14c5b95-a207-42ff-b6ae-da355a504914",
   "metadata": {},
   "outputs": [],
   "source": [
    "details['course'] = 'mba'\n",
    "details['college'] = 'xy'\n",
    "details['language'] = ['hindi', 'english', 'punjabi']"
   ]
  },
  {
   "cell_type": "code",
   "execution_count": null,
   "id": "57095a30-340e-493f-9368-2560a939c370",
   "metadata": {},
   "outputs": [],
   "source": []
  }
 ],
 "metadata": {
  "kernelspec": {
   "display_name": "Python 3 (ipykernel)",
   "language": "python",
   "name": "python3"
  },
  "language_info": {
   "codemirror_mode": {
    "name": "ipython",
    "version": 3
   },
   "file_extension": ".py",
   "mimetype": "text/x-python",
   "name": "python",
   "nbconvert_exporter": "python",
   "pygments_lexer": "ipython3",
   "version": "3.13.5"
  }
 },
 "nbformat": 4,
 "nbformat_minor": 5
}
