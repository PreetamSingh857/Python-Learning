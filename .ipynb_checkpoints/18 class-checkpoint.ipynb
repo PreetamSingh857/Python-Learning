{
 "cells": [
  {
   "cell_type": "code",
   "execution_count": 1,
   "id": "f1e57674-717f-45ba-a11d-60742b9e1fd9",
   "metadata": {},
   "outputs": [],
   "source": [
    "class Car():\n",
    "    tyre = 4\n",
    "    def move():\n",
    "        print(\"I am moving\")"
   ]
  },
  {
   "cell_type": "code",
   "execution_count": 2,
   "id": "82d9bbc0-3df9-4105-9579-341848312e95",
   "metadata": {},
   "outputs": [
    {
     "data": {
      "text/plain": [
       "4"
      ]
     },
     "execution_count": 2,
     "metadata": {},
     "output_type": "execute_result"
    }
   ],
   "source": [
    "Car.tyre"
   ]
  },
  {
   "cell_type": "code",
   "execution_count": 3,
   "id": "c71305af-8411-440c-a8d8-86cbd19035b7",
   "metadata": {},
   "outputs": [
    {
     "ename": "NameError",
     "evalue": "name 'tyre' is not defined",
     "output_type": "error",
     "traceback": [
      "\u001b[1;31m---------------------------------------------------------------------------\u001b[0m",
      "\u001b[1;31mNameError\u001b[0m                                 Traceback (most recent call last)",
      "Cell \u001b[1;32mIn[3], line 1\u001b[0m\n\u001b[1;32m----> 1\u001b[0m tyre\n",
      "\u001b[1;31mNameError\u001b[0m: name 'tyre' is not defined"
     ]
    }
   ],
   "source": [
    "tyre"
   ]
  },
  {
   "cell_type": "code",
   "execution_count": 4,
   "id": "607d875c-d385-4e58-830d-71370a38539e",
   "metadata": {},
   "outputs": [
    {
     "name": "stdout",
     "output_type": "stream",
     "text": [
      "I am moving\n"
     ]
    }
   ],
   "source": [
    "Car.move()"
   ]
  },
  {
   "cell_type": "code",
   "execution_count": 9,
   "id": "94176c07-62cb-47bb-8a04-49e720622397",
   "metadata": {},
   "outputs": [],
   "source": [
    "class Human():\n",
    "    legs = 2\n",
    "    def eat():\n",
    "        print('I am eating')\n",
    "        print('thank you')"
   ]
  },
  {
   "cell_type": "code",
   "execution_count": 10,
   "id": "545304dd-83ed-4da8-a618-66d4a46f0bb1",
   "metadata": {},
   "outputs": [
    {
     "data": {
      "text/plain": [
       "2"
      ]
     },
     "execution_count": 10,
     "metadata": {},
     "output_type": "execute_result"
    }
   ],
   "source": [
    "Human.legs"
   ]
  },
  {
   "cell_type": "code",
   "execution_count": 11,
   "id": "00812276-7db4-42da-adbb-d18b99be200e",
   "metadata": {},
   "outputs": [
    {
     "name": "stdout",
     "output_type": "stream",
     "text": [
      "I am eating\n",
      "thank you\n"
     ]
    }
   ],
   "source": [
    "Human.eat()"
   ]
  },
  {
   "cell_type": "code",
   "execution_count": 12,
   "id": "cbc1384b-11c0-456e-ac84-98b89fed5bb9",
   "metadata": {},
   "outputs": [],
   "source": [
    "gadhi1 = Car()\n",
    "gadhi2 = Car()"
   ]
  },
  {
   "cell_type": "code",
   "execution_count": 14,
   "id": "9f42f262-fab2-4fbe-b702-4dbb46cf8c05",
   "metadata": {},
   "outputs": [],
   "source": [
    "gadhi1.tyre = 3"
   ]
  },
  {
   "cell_type": "code",
   "execution_count": 15,
   "id": "b14590ec-a3f1-4da7-84ad-6b9d11902fd5",
   "metadata": {},
   "outputs": [
    {
     "data": {
      "text/plain": [
       "3"
      ]
     },
     "execution_count": 15,
     "metadata": {},
     "output_type": "execute_result"
    }
   ],
   "source": [
    "gadhi1.tyre"
   ]
  },
  {
   "cell_type": "code",
   "execution_count": 16,
   "id": "3b8c3fb3-94b0-47e9-9884-dfd4ed026419",
   "metadata": {},
   "outputs": [
    {
     "data": {
      "text/plain": [
       "4"
      ]
     },
     "execution_count": 16,
     "metadata": {},
     "output_type": "execute_result"
    }
   ],
   "source": [
    "gadhi2.tyre"
   ]
  },
  {
   "cell_type": "code",
   "execution_count": 17,
   "id": "fd8ed2f2-d9cd-4376-b5c0-b218496fa37d",
   "metadata": {},
   "outputs": [
    {
     "ename": "TypeError",
     "evalue": "Car.move() takes 0 positional arguments but 1 was given",
     "output_type": "error",
     "traceback": [
      "\u001b[1;31m---------------------------------------------------------------------------\u001b[0m",
      "\u001b[1;31mTypeError\u001b[0m                                 Traceback (most recent call last)",
      "Cell \u001b[1;32mIn[17], line 1\u001b[0m\n\u001b[1;32m----> 1\u001b[0m gadhi1\u001b[38;5;241m.\u001b[39mmove()\n",
      "\u001b[1;31mTypeError\u001b[0m: Car.move() takes 0 positional arguments but 1 was given"
     ]
    }
   ],
   "source": [
    "gadhi1.move()"
   ]
  },
  {
   "cell_type": "code",
   "execution_count": 18,
   "id": "37e781ad-1a93-4e05-8833-684882841456",
   "metadata": {},
   "outputs": [],
   "source": [
    "class Car():\n",
    "    tyre = 4\n",
    "    def move(self):\n",
    "        print(\"I am moving\")"
   ]
  },
  {
   "cell_type": "code",
   "execution_count": 19,
   "id": "bb3cf035-5640-4d9a-aeea-0c7095e48eab",
   "metadata": {},
   "outputs": [],
   "source": [
    "gadhi = Car()"
   ]
  },
  {
   "cell_type": "code",
   "execution_count": 20,
   "id": "0ab6d35a-6802-498f-be22-446b221e076b",
   "metadata": {},
   "outputs": [
    {
     "name": "stdout",
     "output_type": "stream",
     "text": [
      "I am moving\n"
     ]
    }
   ],
   "source": [
    "gadhi.move()"
   ]
  },
  {
   "cell_type": "code",
   "execution_count": 21,
   "id": "386f1a33-7dbc-4c61-9468-00c2f52dd6c0",
   "metadata": {},
   "outputs": [],
   "source": [
    "gadhi.name = \"Alto\""
   ]
  },
  {
   "cell_type": "code",
   "execution_count": 22,
   "id": "d2cc6b52-3a8c-4c5b-bc1d-26ebc98285e0",
   "metadata": {},
   "outputs": [
    {
     "data": {
      "text/plain": [
       "'Alto'"
      ]
     },
     "execution_count": 22,
     "metadata": {},
     "output_type": "execute_result"
    }
   ],
   "source": [
    "gadhi.name"
   ]
  },
  {
   "cell_type": "code",
   "execution_count": 37,
   "id": "65aa1d46-992c-47e2-80c6-4b7baddb97e9",
   "metadata": {},
   "outputs": [],
   "source": [
    "class Car():\n",
    "    tyre = 4\n",
    "    def __init__(self, model, year):\n",
    "        self.name = model\n",
    "        self.year = year\n",
    "    def move(self):\n",
    "        print(self)\n",
    "        print(\"I am moving\")\n",
    "\n",
    "    def information(self):\n",
    "        print(f\"Hi, i am {self.name} and i was made in {self.year}\")"
   ]
  },
  {
   "cell_type": "code",
   "execution_count": 38,
   "id": "1db56106-2dc9-4fe1-b35c-98b8302ebc8b",
   "metadata": {},
   "outputs": [],
   "source": [
    "a = Car('BMW', 1999)"
   ]
  },
  {
   "cell_type": "code",
   "execution_count": 39,
   "id": "1945fb92-9067-47bd-8aa0-68818ae387bf",
   "metadata": {},
   "outputs": [
    {
     "data": {
      "text/plain": [
       "'BMW'"
      ]
     },
     "execution_count": 39,
     "metadata": {},
     "output_type": "execute_result"
    }
   ],
   "source": [
    "a.name"
   ]
  },
  {
   "cell_type": "code",
   "execution_count": 40,
   "id": "77d6ba6f-62ed-4d2f-9138-ec46873221b0",
   "metadata": {},
   "outputs": [
    {
     "name": "stdout",
     "output_type": "stream",
     "text": [
      "<__main__.Car object at 0x0000019667EEEBA0>\n",
      "I am moving\n"
     ]
    }
   ],
   "source": [
    "a.move()"
   ]
  },
  {
   "cell_type": "code",
   "execution_count": 41,
   "id": "a853cf87-fdff-4693-beb8-fc8a7aaa7212",
   "metadata": {},
   "outputs": [
    {
     "name": "stdout",
     "output_type": "stream",
     "text": [
      "Hi, i am BMW and i was made in 1999\n"
     ]
    }
   ],
   "source": [
    "a.information()"
   ]
  },
  {
   "cell_type": "markdown",
   "id": "e9e20c1e-1658-4d8c-8de0-e9e5c11a00dc",
   "metadata": {},
   "source": [
    "## Magic functions"
   ]
  },
  {
   "cell_type": "code",
   "execution_count": 28,
   "id": "90adf703-1b52-4fab-9d28-b198fce2e4d9",
   "metadata": {},
   "outputs": [],
   "source": [
    "class Account():\n",
    "    BANK_NAME = 'SBI'\n",
    "    def __init__(self, name, initialDeposit=0):\n",
    "        self.name = name\n",
    "        self.balance = initialDeposit\n",
    "        print(f\"{name} Welcome to {self.BANK_NAME}\")\n",
    "\n",
    "    def __str__(self):\n",
    "        # mandatory to return a str\n",
    "        # runs when object is printed\n",
    "        a = f\"\"\"\n",
    "            === {self.BANK_NAME} ===\n",
    "            Account holder : {self.name}\n",
    "            Account Balance : {self.balance}\n",
    "        \"\"\"\n",
    "        return a\n",
    "\n",
    "    def __del__(self):\n",
    "        # when memory location is cleared\n",
    "        # runs before object is deleted\n",
    "        print(f\"old deleted :- {self.name}\")"
   ]
  },
  {
   "cell_type": "code",
   "execution_count": 42,
   "id": "2c2ee860-fb6b-40cc-a48c-4f993c45f143",
   "metadata": {},
   "outputs": [
    {
     "name": "stdout",
     "output_type": "stream",
     "text": [
      "Harry Welcome to SBI\n"
     ]
    }
   ],
   "source": [
    "first  = Account(\"Harry\", 33333)"
   ]
  },
  {
   "cell_type": "code",
   "execution_count": 43,
   "id": "f29feb2f-4ff4-44e1-8ea8-dbf52016a4bb",
   "metadata": {},
   "outputs": [
    {
     "name": "stdout",
     "output_type": "stream",
     "text": [
      "John Welcome to SBI\n",
      "old deleted Harry\n"
     ]
    }
   ],
   "source": [
    "second = Account(\"John\", 44444)"
   ]
  },
  {
   "cell_type": "code",
   "execution_count": null,
   "id": "b6f38cf3-1f0b-4297-b483-bfeb5c0a92f0",
   "metadata": {},
   "outputs": [],
   "source": []
  },
  {
   "cell_type": "code",
   "execution_count": null,
   "id": "c0a75244-7d59-489c-b251-e9ab97315621",
   "metadata": {},
   "outputs": [],
   "source": []
  },
  {
   "cell_type": "markdown",
   "id": "31a5a933-9ecb-4de5-b187-c997cea6a401",
   "metadata": {},
   "source": [
    "## Encapsulation"
   ]
  },
  {
   "cell_type": "code",
   "execution_count": 62,
   "id": "b4d5af37-f82b-40bc-8879-49a56b860575",
   "metadata": {},
   "outputs": [],
   "source": [
    "class Account():\n",
    "    BANK_NAME = 'SBI'\n",
    "    def __init__(self, name, initialDeposit=0):\n",
    "        self.name = name\n",
    "        self.__balance = initialDeposit\n",
    "        print(f\"{name} Welcome to {self.BANK_NAME}\")\n",
    "\n",
    "    def __str__(self):\n",
    "        # mandatory to return a str\n",
    "        # runs when object is printed\n",
    "        a = f\"\"\"\n",
    "            === {self.BANK_NAME} ===\n",
    "            Account holder : {self.name}\n",
    "            Account Balance : {self.__balance}\n",
    "        \"\"\"\n",
    "        return a\n",
    "\n",
    "    def __del__(self):\n",
    "        # when memory location is cleared\n",
    "        # runs before object is deleted\n",
    "        print(f\"old deleted :- {self.name}\")\n",
    "\n",
    "    def __transaction(self, amount, t):\n",
    "        print(f' {amount}, was {t}')\n",
    "        print(f'current balance {self.__balance}')\n",
    "        if t=='credited':\n",
    "            print(f'initial balance {self.__balance-amount}')\n",
    "        else:\n",
    "            print(f'initial balance {self.__balance+amount}')\n",
    "        \n",
    "    def credit(self, amount = 0):\n",
    "        self.__balance += amount\n",
    "        self.__transaction(amount, 'credited')\n",
    "        \n",
    "    def debit(self, amount = 0):\n",
    "        if self.__balance >amount:\n",
    "            self.__balance -= amount\n",
    "            self.__transaction(amount, 'debited')\n",
    "        else:\n",
    "            print(\"Insufficient Balance\")"
   ]
  },
  {
   "cell_type": "code",
   "execution_count": 64,
   "id": "b66c7df5-dcb6-45f5-b399-6a517ef1dbbb",
   "metadata": {},
   "outputs": [
    {
     "name": "stdout",
     "output_type": "stream",
     "text": [
      "shubham Welcome to SBI\n",
      "old deleted :- shubham\n"
     ]
    }
   ],
   "source": [
    "first = Account('shubham', 5000)"
   ]
  },
  {
   "cell_type": "code",
   "execution_count": 65,
   "id": "5fbd6932-0fd2-4f8c-97cb-129f0b22b812",
   "metadata": {},
   "outputs": [
    {
     "name": "stdout",
     "output_type": "stream",
     "text": [
      " 3000, was credited\n",
      "current balance 8000\n",
      "initial balance 5000\n"
     ]
    }
   ],
   "source": [
    "first.credit(3000)"
   ]
  },
  {
   "cell_type": "code",
   "execution_count": 66,
   "id": "8d4a9fb4-a955-40b1-9620-55eb305e9ead",
   "metadata": {},
   "outputs": [
    {
     "name": "stdout",
     "output_type": "stream",
     "text": [
      "\n",
      "            === SBI ===\n",
      "            Account holder : shubham\n",
      "            Account Balance : 8000\n",
      "        \n"
     ]
    }
   ],
   "source": [
    "print(first)"
   ]
  },
  {
   "cell_type": "code",
   "execution_count": 67,
   "id": "bd93cdc6-2c19-4a96-9247-234139fb77b7",
   "metadata": {},
   "outputs": [
    {
     "name": "stdout",
     "output_type": "stream",
     "text": [
      " 2000, was debited\n",
      "current balance 6000\n",
      "initial balance 8000\n"
     ]
    }
   ],
   "source": [
    "first.debit(2000)"
   ]
  },
  {
   "cell_type": "code",
   "execution_count": null,
   "id": "5a72f4bc-774e-4bfa-9002-54fca6cdf106",
   "metadata": {},
   "outputs": [],
   "source": []
  }
 ],
 "metadata": {
  "kernelspec": {
   "display_name": "Python 3 (ipykernel)",
   "language": "python",
   "name": "python3"
  },
  "language_info": {
   "codemirror_mode": {
    "name": "ipython",
    "version": 3
   },
   "file_extension": ".py",
   "mimetype": "text/x-python",
   "name": "python",
   "nbconvert_exporter": "python",
   "pygments_lexer": "ipython3",
   "version": "3.13.5"
  }
 },
 "nbformat": 4,
 "nbformat_minor": 5
}
