{
 "cells": [
  {
   "cell_type": "markdown",
   "id": "35092a9e-36bd-42c9-9f62-d36ca7e44c98",
   "metadata": {},
   "source": [
    "# Sets"
   ]
  },
  {
   "cell_type": "code",
   "execution_count": 5,
   "id": "8d10bdba-04db-4939-8f3b-a40056f6534d",
   "metadata": {},
   "outputs": [],
   "source": [
    "a = {1,3,5,3,1}"
   ]
  },
  {
   "cell_type": "code",
   "execution_count": 7,
   "id": "dc2a1db9-78aa-4786-8b4f-18cf8c62c761",
   "metadata": {},
   "outputs": [],
   "source": [
    "b = {3}"
   ]
  },
  {
   "cell_type": "code",
   "execution_count": 8,
   "id": "c0b4306d-1b4f-437d-94f1-de62e3774b35",
   "metadata": {},
   "outputs": [
    {
     "data": {
      "text/plain": [
       "True"
      ]
     },
     "execution_count": 8,
     "metadata": {},
     "output_type": "execute_result"
    }
   ],
   "source": [
    "a.issuperset(b)"
   ]
  },
  {
   "cell_type": "code",
   "execution_count": 9,
   "id": "62667902-67b8-48f1-9833-f4f8214725c1",
   "metadata": {},
   "outputs": [],
   "source": [
    "b = {3,6,7}"
   ]
  },
  {
   "cell_type": "code",
   "execution_count": 10,
   "id": "222e6e70-a4ce-4545-b5d6-7079379e4d33",
   "metadata": {},
   "outputs": [
    {
     "data": {
      "text/plain": [
       "{1, 3, 5, 6, 7}"
      ]
     },
     "execution_count": 10,
     "metadata": {},
     "output_type": "execute_result"
    }
   ],
   "source": [
    "a.union(b)"
   ]
  },
  {
   "cell_type": "code",
   "execution_count": 11,
   "id": "c5045d92-1ac4-46f1-85bb-93964f7e0ea4",
   "metadata": {},
   "outputs": [
    {
     "data": {
      "text/plain": [
       "{3}"
      ]
     },
     "execution_count": 11,
     "metadata": {},
     "output_type": "execute_result"
    }
   ],
   "source": [
    "a.intersection(b)"
   ]
  },
  {
   "cell_type": "code",
   "execution_count": 12,
   "id": "3c380301-f68d-45f3-bf07-04b61fda5f85",
   "metadata": {},
   "outputs": [
    {
     "data": {
      "text/plain": [
       "{1, 5}"
      ]
     },
     "execution_count": 12,
     "metadata": {},
     "output_type": "execute_result"
    }
   ],
   "source": [
    "a.difference(b)"
   ]
  },
  {
   "cell_type": "code",
   "execution_count": 13,
   "id": "b9460e19-61d2-4f51-a398-a2828a5e33ce",
   "metadata": {},
   "outputs": [
    {
     "data": {
      "text/plain": [
       "{6, 7}"
      ]
     },
     "execution_count": 13,
     "metadata": {},
     "output_type": "execute_result"
    }
   ],
   "source": [
    "b.difference(a)"
   ]
  },
  {
   "cell_type": "code",
   "execution_count": null,
   "id": "f56c1835-e379-4115-946a-c98c777c778b",
   "metadata": {},
   "outputs": [],
   "source": []
  }
 ],
 "metadata": {
  "kernelspec": {
   "display_name": "Python 3 (ipykernel)",
   "language": "python",
   "name": "python3"
  },
  "language_info": {
   "codemirror_mode": {
    "name": "ipython",
    "version": 3
   },
   "file_extension": ".py",
   "mimetype": "text/x-python",
   "name": "python",
   "nbconvert_exporter": "python",
   "pygments_lexer": "ipython3",
   "version": "3.13.5"
  }
 },
 "nbformat": 4,
 "nbformat_minor": 5
}
