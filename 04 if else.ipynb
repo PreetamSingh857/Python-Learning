{
 "cells": [
  {
   "cell_type": "markdown",
   "id": "a0f79b07-d79b-4e91-b9f0-2a1ad6e4b328",
   "metadata": {
    "jp-MarkdownHeadingCollapsed": true
   },
   "source": [
    "# Booleans"
   ]
  },
  {
   "cell_type": "code",
   "execution_count": 1,
   "id": "9885dc89-b793-4e62-9c20-a7a1b8f2b209",
   "metadata": {},
   "outputs": [
    {
     "ename": "NameError",
     "evalue": "name 'true' is not defined",
     "output_type": "error",
     "traceback": [
      "\u001b[1;31m---------------------------------------------------------------------------\u001b[0m",
      "\u001b[1;31mNameError\u001b[0m                                 Traceback (most recent call last)",
      "Cell \u001b[1;32mIn[1], line 1\u001b[0m\n\u001b[1;32m----> 1\u001b[0m true\n",
      "\u001b[1;31mNameError\u001b[0m: name 'true' is not defined"
     ]
    }
   ],
   "source": [
    "true"
   ]
  },
  {
   "cell_type": "code",
   "execution_count": 2,
   "id": "8031204f-392e-46f6-a492-d38cf53dbb90",
   "metadata": {},
   "outputs": [
    {
     "data": {
      "text/plain": [
       "True"
      ]
     },
     "execution_count": 2,
     "metadata": {},
     "output_type": "execute_result"
    }
   ],
   "source": [
    "True"
   ]
  },
  {
   "cell_type": "code",
   "execution_count": 3,
   "id": "b9296755-c2b3-4227-9a3e-a9a89f81decc",
   "metadata": {},
   "outputs": [
    {
     "data": {
      "text/plain": [
       "False"
      ]
     },
     "execution_count": 3,
     "metadata": {},
     "output_type": "execute_result"
    }
   ],
   "source": [
    "False"
   ]
  },
  {
   "cell_type": "code",
   "execution_count": 4,
   "id": "ffae70f9-5014-4fe5-9287-53431fa2635a",
   "metadata": {},
   "outputs": [
    {
     "data": {
      "text/plain": [
       "1"
      ]
     },
     "execution_count": 4,
     "metadata": {},
     "output_type": "execute_result"
    }
   ],
   "source": [
    "int(True)"
   ]
  },
  {
   "cell_type": "code",
   "execution_count": 5,
   "id": "612e988d-6de1-4048-a620-a0d09b3c4aee",
   "metadata": {},
   "outputs": [
    {
     "data": {
      "text/plain": [
       "0"
      ]
     },
     "execution_count": 5,
     "metadata": {},
     "output_type": "execute_result"
    }
   ],
   "source": [
    "int(False)"
   ]
  },
  {
   "cell_type": "code",
   "execution_count": 6,
   "id": "af3b4cec-249b-4605-94c6-0d27124c5f2d",
   "metadata": {},
   "outputs": [
    {
     "data": {
      "text/plain": [
       "True"
      ]
     },
     "execution_count": 6,
     "metadata": {},
     "output_type": "execute_result"
    }
   ],
   "source": [
    "bool(3)"
   ]
  },
  {
   "cell_type": "code",
   "execution_count": 7,
   "id": "26be4cfc-299d-46a6-91d5-c906a6c6c2aa",
   "metadata": {},
   "outputs": [
    {
     "data": {
      "text/plain": [
       "False"
      ]
     },
     "execution_count": 7,
     "metadata": {},
     "output_type": "execute_result"
    }
   ],
   "source": [
    "bool(0)"
   ]
  },
  {
   "cell_type": "code",
   "execution_count": 8,
   "id": "35650fc2-80fb-49c3-ac36-98774cb32c54",
   "metadata": {},
   "outputs": [
    {
     "data": {
      "text/plain": [
       "False"
      ]
     },
     "execution_count": 8,
     "metadata": {},
     "output_type": "execute_result"
    }
   ],
   "source": [
    "bool('')"
   ]
  },
  {
   "cell_type": "code",
   "execution_count": 9,
   "id": "18116812-2c88-4576-a9fa-6bbf17d87e5c",
   "metadata": {},
   "outputs": [
    {
     "data": {
      "text/plain": [
       "False"
      ]
     },
     "execution_count": 9,
     "metadata": {},
     "output_type": "execute_result"
    }
   ],
   "source": [
    "bool([])"
   ]
  },
  {
   "cell_type": "code",
   "execution_count": 10,
   "id": "4d83730a-4051-4f88-af20-6a299f7b0d40",
   "metadata": {},
   "outputs": [
    {
     "data": {
      "text/plain": [
       "False"
      ]
     },
     "execution_count": 10,
     "metadata": {},
     "output_type": "execute_result"
    }
   ],
   "source": [
    "bool(())"
   ]
  },
  {
   "cell_type": "code",
   "execution_count": 11,
   "id": "b3910865-1a60-4af6-855b-8cfe33a98e7d",
   "metadata": {},
   "outputs": [
    {
     "data": {
      "text/plain": [
       "False"
      ]
     },
     "execution_count": 11,
     "metadata": {},
     "output_type": "execute_result"
    }
   ],
   "source": [
    "bool({})"
   ]
  },
  {
   "cell_type": "code",
   "execution_count": 16,
   "id": "2a86ed3b-e133-4edf-a486-77c9da10f41d",
   "metadata": {},
   "outputs": [
    {
     "data": {
      "text/plain": [
       "False"
      ]
     },
     "execution_count": 16,
     "metadata": {},
     "output_type": "execute_result"
    }
   ],
   "source": [
    "2>3"
   ]
  },
  {
   "cell_type": "code",
   "execution_count": 17,
   "id": "2f5ebef9-9a06-4bc6-a9c6-05acfe172abe",
   "metadata": {},
   "outputs": [
    {
     "data": {
      "text/plain": [
       "True"
      ]
     },
     "execution_count": 17,
     "metadata": {},
     "output_type": "execute_result"
    }
   ],
   "source": [
    "3>2"
   ]
  },
  {
   "cell_type": "code",
   "execution_count": 18,
   "id": "ecad0b3e-1118-4e9a-98dc-d24c1365e091",
   "metadata": {},
   "outputs": [],
   "source": [
    "age = 4"
   ]
  },
  {
   "cell_type": "code",
   "execution_count": 19,
   "id": "62ed84c1-b55a-410c-b2b7-d3be0af8f4f7",
   "metadata": {},
   "outputs": [
    {
     "data": {
      "text/plain": [
       "True"
      ]
     },
     "execution_count": 19,
     "metadata": {},
     "output_type": "execute_result"
    }
   ],
   "source": [
    "5 == 5"
   ]
  },
  {
   "cell_type": "markdown",
   "id": "66eb6ecb-6211-4915-9687-341b55839b0d",
   "metadata": {
    "jp-MarkdownHeadingCollapsed": true
   },
   "source": [
    "# if elif else"
   ]
  },
  {
   "cell_type": "code",
   "execution_count": 14,
   "id": "3c64e567-8cbc-4774-a130-ca85ec37087a",
   "metadata": {},
   "outputs": [],
   "source": [
    "age = 10"
   ]
  },
  {
   "cell_type": "code",
   "execution_count": 15,
   "id": "cce6fbf5-a8e2-4b0b-9392-f2e9181e9531",
   "metadata": {},
   "outputs": [],
   "source": [
    "if age>18:\n",
    "    print(\"Welcome\")"
   ]
  },
  {
   "cell_type": "code",
   "execution_count": 20,
   "id": "842c8b10-dfd5-412e-8a40-a7e953d46c92",
   "metadata": {},
   "outputs": [
    {
     "data": {
      "text/plain": [
       "False"
      ]
     },
     "execution_count": 20,
     "metadata": {},
     "output_type": "execute_result"
    }
   ],
   "source": [
    "age >12"
   ]
  },
  {
   "cell_type": "code",
   "execution_count": 21,
   "id": "d2003d24-d176-4761-9389-297ab9726382",
   "metadata": {},
   "outputs": [],
   "source": [
    "age = 18"
   ]
  },
  {
   "cell_type": "code",
   "execution_count": 22,
   "id": "397cea9b-a9a6-4a1f-ba77-1ed7bba80f68",
   "metadata": {},
   "outputs": [
    {
     "data": {
      "text/plain": [
       "True"
      ]
     },
     "execution_count": 22,
     "metadata": {},
     "output_type": "execute_result"
    }
   ],
   "source": [
    "age >=18"
   ]
  },
  {
   "cell_type": "code",
   "execution_count": 23,
   "id": "eb334661-8830-420c-8e7c-ee30741275e5",
   "metadata": {},
   "outputs": [
    {
     "data": {
      "text/plain": [
       "False"
      ]
     },
     "execution_count": 23,
     "metadata": {},
     "output_type": "execute_result"
    }
   ],
   "source": [
    "age>18"
   ]
  },
  {
   "cell_type": "code",
   "execution_count": 24,
   "id": "006c420a-0909-4e11-8f1e-9b3912ee1982",
   "metadata": {},
   "outputs": [
    {
     "data": {
      "text/plain": [
       "False"
      ]
     },
     "execution_count": 24,
     "metadata": {},
     "output_type": "execute_result"
    }
   ],
   "source": [
    "age<18"
   ]
  },
  {
   "cell_type": "code",
   "execution_count": 25,
   "id": "e8112dcb-ef5c-4ba6-b5af-585a7546dc6e",
   "metadata": {},
   "outputs": [
    {
     "data": {
      "text/plain": [
       "True"
      ]
     },
     "execution_count": 25,
     "metadata": {},
     "output_type": "execute_result"
    }
   ],
   "source": [
    "age<=18"
   ]
  },
  {
   "cell_type": "code",
   "execution_count": 26,
   "id": "8812c44c-0662-4bcd-8821-c60a2ba091f9",
   "metadata": {},
   "outputs": [
    {
     "data": {
      "text/plain": [
       "False"
      ]
     },
     "execution_count": 26,
     "metadata": {},
     "output_type": "execute_result"
    }
   ],
   "source": [
    "age != 18"
   ]
  },
  {
   "cell_type": "code",
   "execution_count": 27,
   "id": "0556eab5-99f3-40f8-a248-abc33ee75e09",
   "metadata": {},
   "outputs": [
    {
     "data": {
      "text/plain": [
       "True"
      ]
     },
     "execution_count": 27,
     "metadata": {},
     "output_type": "execute_result"
    }
   ],
   "source": [
    "age != 17"
   ]
  },
  {
   "cell_type": "code",
   "execution_count": 28,
   "id": "66271fe5-e8a1-466a-95d5-4acb2e9e5582",
   "metadata": {},
   "outputs": [
    {
     "name": "stdout",
     "output_type": "stream",
     "text": [
      "Welcome\n"
     ]
    }
   ],
   "source": [
    "if True:\n",
    "    print('Welcome')"
   ]
  },
  {
   "cell_type": "code",
   "execution_count": 2,
   "id": "b3abbe12-498e-419e-8660-7052b5c45891",
   "metadata": {},
   "outputs": [],
   "source": [
    "marks = 30"
   ]
  },
  {
   "cell_type": "code",
   "execution_count": 3,
   "id": "26203f37-f6ac-4462-b4a1-781ad554621f",
   "metadata": {},
   "outputs": [
    {
     "name": "stdout",
     "output_type": "stream",
     "text": [
      "Fail\n"
     ]
    }
   ],
   "source": [
    "if marks>=90:\n",
    "    print('A')\n",
    "elif marks>= 75:\n",
    "    print('b')\n",
    "elif marks>= 60:\n",
    "    print('c')\n",
    "elif marks>= 40:\n",
    "    print('d')\n",
    "else:\n",
    "    print('Fail')"
   ]
  },
  {
   "cell_type": "markdown",
   "id": "2e866a11-ea17-46fe-97ae-d08b310ec49e",
   "metadata": {},
   "source": [
    "# Nested if else"
   ]
  },
  {
   "cell_type": "code",
   "execution_count": null,
   "id": "0e6fc342-f648-48fa-b810-6ee92c9f76b6",
   "metadata": {},
   "outputs": [],
   "source": [
    "# positive number or negative"
   ]
  },
  {
   "cell_type": "code",
   "execution_count": 4,
   "id": "142d6245-a9ea-47b1-88dc-732b1de420b9",
   "metadata": {},
   "outputs": [
    {
     "name": "stdout",
     "output_type": "stream",
     "text": [
      "zero\n"
     ]
    }
   ],
   "source": [
    "n = 0\n",
    "if n>0:\n",
    "    print(\"positive\")\n",
    "elif n<0:\n",
    "    print(\"negative\")\n",
    "else:\n",
    "    print(\"zero\")"
   ]
  },
  {
   "cell_type": "code",
   "execution_count": 7,
   "id": "0163c8b3-a3d2-44ec-aaf3-e27db6876103",
   "metadata": {},
   "outputs": [
    {
     "name": "stdout",
     "output_type": "stream",
     "text": [
      "hi\n"
     ]
    }
   ],
   "source": [
    "n =10\n",
    "m=5\n",
    "if m>n:\n",
    "    print(\"hello\")\n",
    "print(\"hi\")"
   ]
  },
  {
   "cell_type": "code",
   "execution_count": 9,
   "id": "c3ee9cf6-7b3d-40a9-8353-ed2636fb913a",
   "metadata": {},
   "outputs": [
    {
     "name": "stdout",
     "output_type": "stream",
     "text": [
      "hi\n",
      "hello\n"
     ]
    }
   ],
   "source": [
    "m = 10\n",
    "n = 20\n",
    "o = 30\n",
    "if o>m:\n",
    "    print(\"hi\")\n",
    "if o>n:\n",
    "    print(\"hello\")"
   ]
  },
  {
   "cell_type": "code",
   "execution_count": 12,
   "id": "d0aeb92a-643c-46aa-980a-206523fa39ed",
   "metadata": {},
   "outputs": [
    {
     "name": "stdout",
     "output_type": "stream",
     "text": [
      "division\n"
     ]
    }
   ],
   "source": [
    "if 20%5==0:\n",
    "    print('division')"
   ]
  },
  {
   "cell_type": "code",
   "execution_count": 14,
   "id": "7f3064fa-d0f8-44c7-8dee-85e397c0485e",
   "metadata": {},
   "outputs": [
    {
     "name": "stdout",
     "output_type": "stream",
     "text": [
      "not divisible by 2\n"
     ]
    }
   ],
   "source": [
    "n=21\n",
    "if n%2==0:\n",
    "    print(\"divisible by 2\")\n",
    "else:\n",
    "    print(\"not divisible by 2\")\n"
   ]
  },
  {
   "cell_type": "code",
   "execution_count": 15,
   "id": "af021835-db6a-457f-af10-629865711ed9",
   "metadata": {},
   "outputs": [
    {
     "name": "stdout",
     "output_type": "stream",
     "text": [
      "divisible by 3 only\n"
     ]
    }
   ],
   "source": [
    "if n%2==0:\n",
    "    if n%3==0:\n",
    "        print('divisible by 2 and 3')\n",
    "    else:\n",
    "        print(\"divisible by 2 only\")\n",
    "elif n%3==0:\n",
    "    print('divisible by 3 only')\n",
    "else:\n",
    "    print(\"not divisible by 2 and 3\")"
   ]
  },
  {
   "cell_type": "code",
   "execution_count": 16,
   "id": "69df67d5-8a8b-46bb-adc3-6897006f082f",
   "metadata": {},
   "outputs": [
    {
     "name": "stdout",
     "output_type": "stream",
     "text": [
      "divisible by 2,3,5\n"
     ]
    }
   ],
   "source": [
    "n=30\n",
    "if n%2==0:\n",
    "    if n%3==0:\n",
    "        if n%5==0:\n",
    "            print('divisible by 2,3,5')\n",
    "        else:\n",
    "            print('divisible by 2 and 3 only')\n",
    "    else:\n",
    "        print('divisible by 2 only')\n",
    "elif n%3==0:\n",
    "    if n%5==0:\n",
    "        print('divisible by 3,5')\n",
    "    else:\n",
    "        print('divisible by 3')\n",
    "elif n%5==0:\n",
    "    print('divisible by 5')\n",
    "else:\n",
    "    print('not divisible by 2,3,5')"
   ]
  },
  {
   "cell_type": "markdown",
   "id": "cd42a927-cc7f-4b16-8739-1f253c89a245",
   "metadata": {},
   "source": [
    "# Logical operations"
   ]
  },
  {
   "cell_type": "markdown",
   "id": "1c0bf479-56bd-4337-a0af-ffb40ed4cabf",
   "metadata": {
    "jp-MarkdownHeadingCollapsed": true
   },
   "source": [
    "## Not"
   ]
  },
  {
   "cell_type": "code",
   "execution_count": 2,
   "id": "0c1c71d5-0bbf-4d8d-a6d2-5a25a21993b3",
   "metadata": {},
   "outputs": [],
   "source": [
    "if  not True:\n",
    "    print(\"hi\")"
   ]
  },
  {
   "cell_type": "code",
   "execution_count": 3,
   "id": "c0423409-bd7a-4605-97ce-551cad2a226d",
   "metadata": {},
   "outputs": [
    {
     "name": "stdout",
     "output_type": "stream",
     "text": [
      "hi\n"
     ]
    }
   ],
   "source": [
    "if not False:\n",
    "    print(\"hi\")"
   ]
  },
  {
   "cell_type": "code",
   "execution_count": 4,
   "id": "ddef3195-e281-48b3-bde4-51267df8a8a6",
   "metadata": {},
   "outputs": [
    {
     "name": "stdout",
     "output_type": "stream",
     "text": [
      "present\n"
     ]
    }
   ],
   "source": [
    "name = 'sdmfos'\n",
    "if name:\n",
    "    print(\"present\")"
   ]
  },
  {
   "cell_type": "code",
   "execution_count": 5,
   "id": "30ba0041-3f50-4431-a8d2-db8444bb680f",
   "metadata": {},
   "outputs": [],
   "source": [
    "name = ''"
   ]
  },
  {
   "cell_type": "code",
   "execution_count": 6,
   "id": "800638c0-0703-4678-b330-1f0fb226c8ae",
   "metadata": {},
   "outputs": [
    {
     "data": {
      "text/plain": [
       "False"
      ]
     },
     "execution_count": 6,
     "metadata": {},
     "output_type": "execute_result"
    }
   ],
   "source": [
    "bool(name)"
   ]
  },
  {
   "cell_type": "code",
   "execution_count": 7,
   "id": "d92f78d0-d7ee-41ab-9a92-645e1779f2c2",
   "metadata": {},
   "outputs": [
    {
     "name": "stdout",
     "output_type": "stream",
     "text": [
      "present sdmfos\n"
     ]
    }
   ],
   "source": [
    "name = 'sdmfos'\n",
    "if name:\n",
    "    print(\"present\", name)"
   ]
  },
  {
   "cell_type": "code",
   "execution_count": 9,
   "id": "f220d72c-c67a-4fa6-ba5f-813071a91d71",
   "metadata": {},
   "outputs": [],
   "source": [
    "first =True"
   ]
  },
  {
   "cell_type": "code",
   "execution_count": 11,
   "id": "bc44e7c2-ebf7-4463-bdf0-ce52ded8c0b6",
   "metadata": {},
   "outputs": [
    {
     "name": "stdout",
     "output_type": "stream",
     "text": [
      "ygsdfydsj\n"
     ]
    }
   ],
   "source": [
    "if first:\n",
    "    print('hi user nice to meet you')\n",
    "    name = input(\"Enter your name\")\n",
    "    first = False\n",
    "else:\n",
    "    print(name)"
   ]
  },
  {
   "cell_type": "code",
   "execution_count": 12,
   "id": "3516c54e-5f74-4826-a819-e68a2353d03b",
   "metadata": {},
   "outputs": [
    {
     "name": "stdout",
     "output_type": "stream",
     "text": [
      "you are out of game\n"
     ]
    }
   ],
   "source": [
    "count =0 \n",
    "if not count:\n",
    "    print('you are out of game')"
   ]
  },
  {
   "cell_type": "markdown",
   "id": "74742307-4f16-48a3-9a66-21371e38ae7c",
   "metadata": {
    "jp-MarkdownHeadingCollapsed": true
   },
   "source": [
    "## And"
   ]
  },
  {
   "cell_type": "code",
   "execution_count": 23,
   "id": "72e84b87-3b66-4c35-bf30-7bb5b04d6f24",
   "metadata": {},
   "outputs": [],
   "source": [
    "attendence = 50"
   ]
  },
  {
   "cell_type": "code",
   "execution_count": 19,
   "id": "fb3ab471-76bd-4262-930f-8b327ca55c9e",
   "metadata": {},
   "outputs": [],
   "source": [
    "marks=50"
   ]
  },
  {
   "cell_type": "code",
   "execution_count": 20,
   "id": "0e7d5f57-c613-4152-a723-974196f322b7",
   "metadata": {},
   "outputs": [],
   "source": [
    "if attendence <75:\n",
    "    print('fail')"
   ]
  },
  {
   "cell_type": "code",
   "execution_count": 21,
   "id": "946350bc-b762-4202-afd4-9d019ffee9ff",
   "metadata": {},
   "outputs": [
    {
     "name": "stdout",
     "output_type": "stream",
     "text": [
      "pass\n"
     ]
    }
   ],
   "source": [
    "if marks>35:\n",
    "    print('pass')"
   ]
  },
  {
   "cell_type": "code",
   "execution_count": 24,
   "id": "da3a73cc-0c56-4097-83ae-ce79a5268dbb",
   "metadata": {},
   "outputs": [
    {
     "name": "stdout",
     "output_type": "stream",
     "text": [
      "fail\n"
     ]
    }
   ],
   "source": [
    "if attendence >75 and marks>35:\n",
    "    print('pass')\n",
    "else :\n",
    "    print('fail')"
   ]
  },
  {
   "cell_type": "code",
   "execution_count": 25,
   "id": "be8e9f6a-cae3-4648-a474-abaa83ffc7a6",
   "metadata": {},
   "outputs": [],
   "source": [
    "ticket = True\n",
    "age = 20"
   ]
  },
  {
   "cell_type": "code",
   "execution_count": 26,
   "id": "1817de46-8db6-4702-ad01-a813d2e6d03e",
   "metadata": {},
   "outputs": [
    {
     "name": "stdout",
     "output_type": "stream",
     "text": [
      "Welcome\n"
     ]
    }
   ],
   "source": [
    "if age>=18 and ticket:\n",
    "    print('Welcome')\n",
    "else:\n",
    "    print('Bye')"
   ]
  },
  {
   "cell_type": "markdown",
   "id": "f2304520-e320-4e75-ba7d-55d7ed5f148f",
   "metadata": {},
   "source": [
    "## Or"
   ]
  },
  {
   "cell_type": "code",
   "execution_count": 27,
   "id": "7ce18a9e-c42f-4464-abe6-b9b94a49303e",
   "metadata": {},
   "outputs": [
    {
     "data": {
      "text/plain": [
       "True"
      ]
     },
     "execution_count": 27,
     "metadata": {},
     "output_type": "execute_result"
    }
   ],
   "source": [
    "True or False"
   ]
  },
  {
   "cell_type": "code",
   "execution_count": 31,
   "id": "70249412-e13e-4e60-a1ff-2b46fe214003",
   "metadata": {},
   "outputs": [],
   "source": [
    "marks = 90\n",
    "donation = 50000"
   ]
  },
  {
   "cell_type": "code",
   "execution_count": 34,
   "id": "788206d0-8008-4c80-9613-9d1c9c3e898a",
   "metadata": {},
   "outputs": [
    {
     "name": "stdout",
     "output_type": "stream",
     "text": [
      "Welcome\n"
     ]
    }
   ],
   "source": [
    "if marks>80 or donation >70000:\n",
    "    print('Welcome')\n",
    "else:\n",
    "    print(\"Sorry\")"
   ]
  },
  {
   "cell_type": "code",
   "execution_count": 47,
   "id": "bc34a8f5-4e1f-4376-a31d-9c20105aa419",
   "metadata": {},
   "outputs": [
    {
     "name": "stdout",
     "output_type": "stream",
     "text": [
      "Welcome\n"
     ]
    }
   ],
   "source": [
    "email = True\n",
    "number =  False\n",
    "password = True\n",
    "if (email or number) and password:\n",
    "    print('Welcome')\n",
    "else:\n",
    "    print(\"Sorry\")"
   ]
  },
  {
   "cell_type": "code",
   "execution_count": 55,
   "id": "23775c6d-db14-4644-a3af-c6cd1f159819",
   "metadata": {},
   "outputs": [],
   "source": [
    "hindi = 96\n",
    "english = 50\n",
    "math = 50\n",
    "sci = 50"
   ]
  },
  {
   "cell_type": "code",
   "execution_count": 56,
   "id": "d0164464-86d0-4406-b5a8-044d6b31f6ae",
   "metadata": {},
   "outputs": [],
   "source": [
    "average = (hindi+math+english+sci)//4"
   ]
  },
  {
   "cell_type": "code",
   "execution_count": 57,
   "id": "cccc8bb2-7a75-4c4b-97d7-c14c8b61ac30",
   "metadata": {},
   "outputs": [
    {
     "name": "stdout",
     "output_type": "stream",
     "text": [
      "pass\n",
      "Distinction\n",
      "Topper\n"
     ]
    }
   ],
   "source": [
    "if (hindi>35) and (english>35) and (math>35) and (sci>35):\n",
    "    print('pass')\n",
    "    if average >= 45 and (hindi>40) and (english>40) and (math>40) and (sci>40):\n",
    "        print('Distinction')\n",
    "    else:\n",
    "        print('#####')\n",
    "\n",
    "    if (hindi>90) or (english>90) or (math>90) or (sci>90):\n",
    "        print(\"Topper\")\n",
    "else:\n",
    "    print('fail')"
   ]
  },
  {
   "cell_type": "code",
   "execution_count": 58,
   "id": "07811390-ab32-4119-9023-e1b88db8e5f0",
   "metadata": {},
   "outputs": [],
   "source": [
    "username = 'isjfio'\n",
    "password = 2665\n"
   ]
  },
  {
   "cell_type": "code",
   "execution_count": 59,
   "id": "fcd3e0ab-fe2b-41b2-9517-98f8acb02870",
   "metadata": {},
   "outputs": [
    {
     "name": "stdout",
     "output_type": "stream",
     "text": [
      "Login\n"
     ]
    }
   ],
   "source": [
    "if username and password:\n",
    "    if username=='isjfio'  or password == 2665:\n",
    "        print(\"Login\")\n",
    "    else:\n",
    "        print(\"try again\")\n",
    "else:\n",
    "    print('incomplete details')"
   ]
  },
  {
   "cell_type": "code",
   "execution_count": 60,
   "id": "f67a6cd7-2a14-42c4-86d5-5fce8bde08bf",
   "metadata": {},
   "outputs": [
    {
     "data": {
      "text/plain": [
       "True"
      ]
     },
     "execution_count": 60,
     "metadata": {},
     "output_type": "execute_result"
    }
   ],
   "source": [
    "'a' in 'yfgta'"
   ]
  },
  {
   "cell_type": "code",
   "execution_count": 61,
   "id": "3b2fa0e2-1d89-4d59-9f62-2c082c39f328",
   "metadata": {},
   "outputs": [],
   "source": [
    "age = 20\n",
    "income = 50000\n",
    "credit_score = 350\n",
    "debts = 5000\n",
    "employment = 'full-time'"
   ]
  },
  {
   "cell_type": "code",
   "execution_count": null,
   "id": "c15acaa6-e413-4c87-b15a-489c09579d88",
   "metadata": {},
   "outputs": [],
   "source": []
  }
 ],
 "metadata": {
  "kernelspec": {
   "display_name": "Python 3 (ipykernel)",
   "language": "python",
   "name": "python3"
  },
  "language_info": {
   "codemirror_mode": {
    "name": "ipython",
    "version": 3
   },
   "file_extension": ".py",
   "mimetype": "text/x-python",
   "name": "python",
   "nbconvert_exporter": "python",
   "pygments_lexer": "ipython3",
   "version": "3.13.5"
  }
 },
 "nbformat": 4,
 "nbformat_minor": 5
}
