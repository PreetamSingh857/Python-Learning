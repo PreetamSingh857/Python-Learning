{
 "cells": [
  {
   "cell_type": "markdown",
   "id": "9d0adfff-bc53-493e-bc94-77d144730764",
   "metadata": {},
   "source": [
    "# Recursion\n",
    "### when we call a function in itself\n",
    "\n",
    "####   a. we call a function in itself\n",
    "####   b. we assume the second call will give a correct output\n",
    "####   c. it must have a terminating condititon"
   ]
  },
  {
   "cell_type": "code",
   "execution_count": 3,
   "id": "085eb8dd-ba03-4a94-be1e-37ce02e25aad",
   "metadata": {},
   "outputs": [],
   "source": [
    "def factorial(n):\n",
    "    print(n)\n",
    "    if n==1:\n",
    "        return 1\n",
    "    return n*factorial(n-1)"
   ]
  },
  {
   "cell_type": "code",
   "execution_count": 4,
   "id": "385107b0-649b-4c50-9103-d4be0383fa61",
   "metadata": {},
   "outputs": [
    {
     "name": "stdout",
     "output_type": "stream",
     "text": [
      "5\n",
      "4\n",
      "3\n",
      "2\n",
      "1\n"
     ]
    },
    {
     "data": {
      "text/plain": [
       "120"
      ]
     },
     "execution_count": 4,
     "metadata": {},
     "output_type": "execute_result"
    }
   ],
   "source": [
    "factorial(5)"
   ]
  },
  {
   "cell_type": "code",
   "execution_count": 9,
   "id": "32746185-a85b-4e28-81d7-8c7b1212db98",
   "metadata": {},
   "outputs": [],
   "source": [
    "l = [2,5,[7,9,8],6]\n",
    "def addlist(l):\n",
    "    print(l)\n",
    "    if type(l) is int:\n",
    "        return l\n",
    "    elif len(l)==0:\n",
    "        return 0\n",
    "    abc = addlist(l[0]) + addlist(l[1:])\n",
    "    return abc"
   ]
  },
  {
   "cell_type": "code",
   "execution_count": 10,
   "id": "d54a9c7b-1a94-47ec-8381-efb1a5921e16",
   "metadata": {},
   "outputs": [
    {
     "name": "stdout",
     "output_type": "stream",
     "text": [
      "[2, 5, [7, 9, 8], 6]\n",
      "2\n",
      "[5, [7, 9, 8], 6]\n",
      "5\n",
      "[[7, 9, 8], 6]\n",
      "[7, 9, 8]\n",
      "7\n",
      "[9, 8]\n",
      "9\n",
      "[8]\n",
      "8\n",
      "[]\n",
      "[6]\n",
      "6\n",
      "[]\n"
     ]
    },
    {
     "data": {
      "text/plain": [
       "37"
      ]
     },
     "execution_count": 10,
     "metadata": {},
     "output_type": "execute_result"
    }
   ],
   "source": [
    "addlist(l)"
   ]
  },
  {
   "cell_type": "code",
   "execution_count": null,
   "id": "21ab43ba-8bf4-425c-aaef-9768bdbe2151",
   "metadata": {},
   "outputs": [],
   "source": []
  }
 ],
 "metadata": {
  "kernelspec": {
   "display_name": "Python 3 (ipykernel)",
   "language": "python",
   "name": "python3"
  },
  "language_info": {
   "codemirror_mode": {
    "name": "ipython",
    "version": 3
   },
   "file_extension": ".py",
   "mimetype": "text/x-python",
   "name": "python",
   "nbconvert_exporter": "python",
   "pygments_lexer": "ipython3",
   "version": "3.13.5"
  }
 },
 "nbformat": 4,
 "nbformat_minor": 5
}
