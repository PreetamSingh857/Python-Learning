{
 "cells": [
  {
   "cell_type": "code",
   "execution_count": 1,
   "id": "48092efa-4ad8-4f69-81ce-bdf4594ee43c",
   "metadata": {},
   "outputs": [
    {
     "name": "stdout",
     "output_type": "stream",
     "text": [
      "s\n",
      "h\n",
      "u\n",
      "b\n",
      "h\n",
      "a\n",
      "m\n"
     ]
    }
   ],
   "source": [
    "name = 'shubham'\n",
    "i =0;\n",
    "n = len(name)\n",
    "while i<n:\n",
    "    print(name[i])\n",
    "    i += 1"
   ]
  },
  {
   "cell_type": "code",
   "execution_count": 2,
   "id": "eebc3d83-8998-4d53-98b8-b276f975aaab",
   "metadata": {},
   "outputs": [],
   "source": [
    "d = {'name': 'abcd', 'age':35, 'education': 'MBA'}"
   ]
  },
  {
   "cell_type": "code",
   "execution_count": 3,
   "id": "57a2f6f7-d4bb-41a7-9f99-5dd5f4e76c51",
   "metadata": {},
   "outputs": [
    {
     "data": {
      "text/plain": [
       "{'name': 'abcd', 'age': 35, 'education': 'MBA'}"
      ]
     },
     "execution_count": 3,
     "metadata": {},
     "output_type": "execute_result"
    }
   ],
   "source": [
    "d"
   ]
  },
  {
   "cell_type": "code",
   "execution_count": 8,
   "id": "eed91330-39b3-479d-ad79-4159107dcd6b",
   "metadata": {},
   "outputs": [],
   "source": [
    "k = list(d.keys())"
   ]
  },
  {
   "cell_type": "code",
   "execution_count": 9,
   "id": "a0ef7222-c2e7-42bf-a939-d4c4ff508ea5",
   "metadata": {},
   "outputs": [
    {
     "data": {
      "text/plain": [
       "list"
      ]
     },
     "execution_count": 9,
     "metadata": {},
     "output_type": "execute_result"
    }
   ],
   "source": [
    "type(k)"
   ]
  },
  {
   "cell_type": "code",
   "execution_count": 10,
   "id": "936def97-05a1-464a-acf4-a863de37206f",
   "metadata": {},
   "outputs": [
    {
     "data": {
      "text/plain": [
       "['name', 'age', 'education']"
      ]
     },
     "execution_count": 10,
     "metadata": {},
     "output_type": "execute_result"
    }
   ],
   "source": [
    "k"
   ]
  },
  {
   "cell_type": "code",
   "execution_count": 12,
   "id": "1ec959c3-d9a9-4584-8bc4-bf8e844accc9",
   "metadata": {},
   "outputs": [
    {
     "name": "stdout",
     "output_type": "stream",
     "text": [
      "abcd\n",
      "35\n",
      "MBA\n"
     ]
    }
   ],
   "source": [
    "i = 0\n",
    "n = len(d)\n",
    "k = list(d.keys())\n",
    "while i<n:\n",
    "    print(d[k[i]])\n",
    "    i+=1"
   ]
  },
  {
   "cell_type": "code",
   "execution_count": 15,
   "id": "5b9d2740-8917-4299-b688-d0388ac2f601",
   "metadata": {},
   "outputs": [
    {
     "name": "stdout",
     "output_type": "stream",
     "text": [
      "5 2\n"
     ]
    }
   ],
   "source": [
    "l = [92,4,6,7,34,2,5]\n",
    "i=0\n",
    "a = 0\n",
    "n =len(l)\n",
    "while i<n:\n",
    "    if l[i]<l[a]:\n",
    "        a = i\n",
    "    i += 1\n",
    "print(a, l[a])"
   ]
  },
  {
   "cell_type": "code",
   "execution_count": 16,
   "id": "cbbbd3bc-fb58-4efc-9834-3cd77d0bfb49",
   "metadata": {},
   "outputs": [],
   "source": [
    "l.sort()"
   ]
  },
  {
   "cell_type": "code",
   "execution_count": 17,
   "id": "500c4020-09c8-4590-b183-6e1b028f5463",
   "metadata": {},
   "outputs": [
    {
     "data": {
      "text/plain": [
       "[2, 4, 5, 6, 7, 34, 92]"
      ]
     },
     "execution_count": 17,
     "metadata": {},
     "output_type": "execute_result"
    }
   ],
   "source": [
    "l"
   ]
  },
  {
   "cell_type": "code",
   "execution_count": 18,
   "id": "2e59b8b2-1b52-46ac-84ac-5b55f8355060",
   "metadata": {},
   "outputs": [
    {
     "data": {
      "text/plain": [
       "6"
      ]
     },
     "execution_count": 18,
     "metadata": {},
     "output_type": "execute_result"
    }
   ],
   "source": [
    "l[len(l)//2]"
   ]
  },
  {
   "cell_type": "code",
   "execution_count": 19,
   "id": "cd6e57d9-4282-4d47-ab92-fe265f7072be",
   "metadata": {},
   "outputs": [
    {
     "name": "stdout",
     "output_type": "stream",
     "text": [
      "27 is not a prime number\n"
     ]
    }
   ],
   "source": [
    "n = 27\n",
    "prime = True\n",
    "i = 2\n",
    "while i<n:\n",
    "    if n%i==0:\n",
    "        prime = False\n",
    "        break\n",
    "    i+=1\n",
    "if prime:\n",
    "    print(f'{n} is a prime number')\n",
    "else:\n",
    "    print(f'{n} is not a prime number')"
   ]
  },
  {
   "cell_type": "code",
   "execution_count": null,
   "id": "e4c18956-17c8-4db4-a865-f6c5008ea2b6",
   "metadata": {},
   "outputs": [],
   "source": []
  }
 ],
 "metadata": {
  "kernelspec": {
   "display_name": "Python 3 (ipykernel)",
   "language": "python",
   "name": "python3"
  },
  "language_info": {
   "codemirror_mode": {
    "name": "ipython",
    "version": 3
   },
   "file_extension": ".py",
   "mimetype": "text/x-python",
   "name": "python",
   "nbconvert_exporter": "python",
   "pygments_lexer": "ipython3",
   "version": "3.13.5"
  }
 },
 "nbformat": 4,
 "nbformat_minor": 5
}
