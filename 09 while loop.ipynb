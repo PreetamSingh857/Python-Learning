{
 "cells": [
  {
   "cell_type": "markdown",
   "id": "f249a7de-532e-468b-9242-b607e6326045",
   "metadata": {},
   "source": [
    "# While loop\n",
    "\n",
    "## repeating a task again and again untill certain criteria is satisfied"
   ]
  },
  {
   "cell_type": "code",
   "execution_count": 2,
   "id": "fc984c5d-85eb-4d3c-bc4d-54567af246bb",
   "metadata": {},
   "outputs": [
    {
     "name": "stdout",
     "output_type": "stream",
     "text": [
      "hi\n",
      "bye\n",
      "the end\n"
     ]
    }
   ],
   "source": [
    "while True:\n",
    "    print('hi')\n",
    "    print('bye')\n",
    "    break\n",
    "    print('hello')\n",
    "\n",
    "print('the end')\n",
    "    "
   ]
  },
  {
   "cell_type": "code",
   "execution_count": 3,
   "id": "a7ef3d5b-af53-491c-965c-e213eb7f4bb0",
   "metadata": {},
   "outputs": [],
   "source": [
    "i = 1"
   ]
  },
  {
   "cell_type": "code",
   "execution_count": 6,
   "id": "b34cb111-90be-40fb-a803-948303636170",
   "metadata": {},
   "outputs": [
    {
     "name": "stdout",
     "output_type": "stream",
     "text": [
      "1\n",
      "2\n",
      "3\n",
      "4\n",
      "5\n"
     ]
    }
   ],
   "source": [
    "i = 1\n",
    "while True:\n",
    "    print(i)\n",
    "    if i==5:\n",
    "        break\n",
    "    i += 1"
   ]
  },
  {
   "cell_type": "code",
   "execution_count": 7,
   "id": "e014ed29-5745-4a7b-89de-d3fdea0b6195",
   "metadata": {},
   "outputs": [
    {
     "name": "stdout",
     "output_type": "stream",
     "text": [
      "0\n",
      "1\n",
      "2\n"
     ]
    }
   ],
   "source": [
    "i = 0\n",
    "while i<3:\n",
    "    print(i)\n",
    "    i+=1"
   ]
  },
  {
   "cell_type": "code",
   "execution_count": 8,
   "id": "28e3ffa2-7ce3-45eb-9225-496766b13da5",
   "metadata": {},
   "outputs": [
    {
     "name": "stdout",
     "output_type": "stream",
     "text": [
      "0\n",
      "1\n",
      "2\n"
     ]
    }
   ],
   "source": [
    "i = 0\n",
    "n = 3\n",
    "while i<n:\n",
    "    print(i)\n",
    "    i+=1"
   ]
  },
  {
   "cell_type": "code",
   "execution_count": 10,
   "id": "a16b7362-0ef1-41f3-b134-ab3838badbf2",
   "metadata": {},
   "outputs": [
    {
     "name": "stdout",
     "output_type": "stream",
     "text": [
      "0\n",
      "2\n",
      "4\n",
      "6\n",
      "8\n"
     ]
    }
   ],
   "source": [
    "i = 0\n",
    "n = 10\n",
    "while i<n:\n",
    "    print(i)\n",
    "    i+=2"
   ]
  },
  {
   "cell_type": "code",
   "execution_count": 11,
   "id": "e2567bc1-f6e0-4ca8-a8d4-a8300c7d3608",
   "metadata": {},
   "outputs": [
    {
     "name": "stdout",
     "output_type": "stream",
     "text": [
      "0\n",
      "4\n",
      "8\n"
     ]
    }
   ],
   "source": [
    "i = 0\n",
    "n = 10\n",
    "while i<n:\n",
    "    print(i)\n",
    "    i+= 4"
   ]
  },
  {
   "cell_type": "code",
   "execution_count": 14,
   "id": "88cddd84-0ed8-4ebd-a34f-e94f40f20ba5",
   "metadata": {},
   "outputs": [
    {
     "name": "stdout",
     "output_type": "stream",
     "text": [
      "7 x 1 = 7\n",
      "7 x 3 = 21\n",
      "7 x 5 = 35\n",
      "7 x 7 = 49\n",
      "7 x 9 = 63\n"
     ]
    }
   ],
   "source": [
    "i = 1\n",
    "n = 11\n",
    "while i<n:\n",
    "    print(7,'x', i,'=', i*7)\n",
    "    i+=2"
   ]
  },
  {
   "cell_type": "code",
   "execution_count": 17,
   "id": "06d6833e-f499-413f-b277-7ae5d88ccbb1",
   "metadata": {},
   "outputs": [
    {
     "name": "stdout",
     "output_type": "stream",
     "text": [
      "21\n"
     ]
    }
   ],
   "source": [
    "i = 0\n",
    "n = 7\n",
    "a = 0\n",
    "while i<n:\n",
    "    a+=i\n",
    "    i+=1\n",
    "\n",
    "print(a)"
   ]
  },
  {
   "cell_type": "code",
   "execution_count": 18,
   "id": "ab8cdc27-ca70-47d9-834f-8e7be64d3cd3",
   "metadata": {},
   "outputs": [
    {
     "name": "stdout",
     "output_type": "stream",
     "text": [
      "3825\n"
     ]
    }
   ],
   "source": [
    "i = 50\n",
    "n = 101\n",
    "a = 0\n",
    "while i<n:\n",
    "    a+=i\n",
    "    i+=1\n",
    "\n",
    "print(a)"
   ]
  },
  {
   "cell_type": "code",
   "execution_count": 19,
   "id": "37ef5943-0f64-4265-8e7e-8872f47cda40",
   "metadata": {},
   "outputs": [
    {
     "name": "stdout",
     "output_type": "stream",
     "text": [
      "i\n",
      "s\n",
      "j\n",
      "f\n",
      "o\n",
      "i\n"
     ]
    }
   ],
   "source": [
    "name = 'isjfoi'\n",
    "i = 0\n",
    "n = len(name)\n",
    "while i<n:\n",
    "    print(name[i])\n",
    "    i+=1"
   ]
  },
  {
   "cell_type": "code",
   "execution_count": 20,
   "id": "d0ea380d-706d-4804-ba83-2eeecfe86f8b",
   "metadata": {},
   "outputs": [
    {
     "name": "stdout",
     "output_type": "stream",
     "text": [
      "84\n"
     ]
    }
   ],
   "source": [
    "l = [2,3,4,5,64,3,3]\n",
    "i = 0\n",
    "n = len(l)\n",
    "total = 0\n",
    "while i<n:\n",
    "    total += l[i]\n",
    "    i+=1\n",
    "print(total)"
   ]
  },
  {
   "cell_type": "code",
   "execution_count": null,
   "id": "8705ce12-3b6b-4837-b07a-f3dadf970696",
   "metadata": {},
   "outputs": [],
   "source": []
  }
 ],
 "metadata": {
  "kernelspec": {
   "display_name": "Python 3 (ipykernel)",
   "language": "python",
   "name": "python3"
  },
  "language_info": {
   "codemirror_mode": {
    "name": "ipython",
    "version": 3
   },
   "file_extension": ".py",
   "mimetype": "text/x-python",
   "name": "python",
   "nbconvert_exporter": "python",
   "pygments_lexer": "ipython3",
   "version": "3.13.5"
  }
 },
 "nbformat": 4,
 "nbformat_minor": 5
}
