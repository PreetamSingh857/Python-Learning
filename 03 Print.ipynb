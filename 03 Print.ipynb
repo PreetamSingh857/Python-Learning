{
 "cells": [
  {
   "cell_type": "code",
   "execution_count": 1,
   "id": "476373b4-b8be-4f1d-80c9-ed2f8d05f61f",
   "metadata": {},
   "outputs": [],
   "source": [
    "a = 5\n",
    "b=6"
   ]
  },
  {
   "cell_type": "code",
   "execution_count": 2,
   "id": "97fdaa30-083d-4c41-9b25-797d64206b85",
   "metadata": {},
   "outputs": [
    {
     "data": {
      "text/plain": [
       "5"
      ]
     },
     "execution_count": 2,
     "metadata": {},
     "output_type": "execute_result"
    }
   ],
   "source": [
    "a"
   ]
  },
  {
   "cell_type": "code",
   "execution_count": 3,
   "id": "a92cd3d3-d2ee-4fcc-82a0-6d4bfb58eaac",
   "metadata": {},
   "outputs": [
    {
     "data": {
      "text/plain": [
       "6"
      ]
     },
     "execution_count": 3,
     "metadata": {},
     "output_type": "execute_result"
    }
   ],
   "source": [
    "b"
   ]
  },
  {
   "cell_type": "code",
   "execution_count": 4,
   "id": "482f1e5a-05c3-45aa-a9d1-eaa34daaedc0",
   "metadata": {},
   "outputs": [
    {
     "name": "stdout",
     "output_type": "stream",
     "text": [
      "5\n"
     ]
    }
   ],
   "source": [
    "print(a)"
   ]
  },
  {
   "cell_type": "code",
   "execution_count": 5,
   "id": "5f7ac272-9e1f-4af4-87c1-cae7f915bf0d",
   "metadata": {},
   "outputs": [
    {
     "name": "stdout",
     "output_type": "stream",
     "text": [
      "4\n"
     ]
    }
   ],
   "source": [
    "c = print(4)"
   ]
  },
  {
   "cell_type": "code",
   "execution_count": 6,
   "id": "4e0da564-9d32-41e0-8f1a-b6c78b65598e",
   "metadata": {},
   "outputs": [],
   "source": [
    "c"
   ]
  },
  {
   "cell_type": "code",
   "execution_count": 7,
   "id": "624ac845-3f8b-4dfb-80db-7cdffebfb2a2",
   "metadata": {},
   "outputs": [
    {
     "name": "stdout",
     "output_type": "stream",
     "text": [
      "None\n"
     ]
    }
   ],
   "source": [
    "print(c)"
   ]
  },
  {
   "cell_type": "code",
   "execution_count": 8,
   "id": "d3999516-51ef-4afa-b291-836be8fe377e",
   "metadata": {},
   "outputs": [
    {
     "data": {
      "text/plain": [
       "NoneType"
      ]
     },
     "execution_count": 8,
     "metadata": {},
     "output_type": "execute_result"
    }
   ],
   "source": [
    "type(c)"
   ]
  },
  {
   "cell_type": "code",
   "execution_count": 10,
   "id": "de1f7662-ec49-4b26-bb8b-f11336503b3f",
   "metadata": {},
   "outputs": [
    {
     "name": "stdin",
     "output_type": "stream",
     "text": [
      " d\n"
     ]
    },
    {
     "data": {
      "text/plain": [
       "'d'"
      ]
     },
     "execution_count": 10,
     "metadata": {},
     "output_type": "execute_result"
    }
   ],
   "source": [
    "input()"
   ]
  },
  {
   "cell_type": "markdown",
   "id": "8d64c52e-d487-4834-ab6b-1534607b7db9",
   "metadata": {
    "jp-MarkdownHeadingCollapsed": true
   },
   "source": [
    "# Imput Statement"
   ]
  },
  {
   "cell_type": "code",
   "execution_count": 11,
   "id": "e2a7b5a1-f0b3-4285-b202-5ac92823177e",
   "metadata": {},
   "outputs": [
    {
     "name": "stdin",
     "output_type": "stream",
     "text": [
      "Enter you name? jkdshf\n"
     ]
    },
    {
     "data": {
      "text/plain": [
       "'jkdshf'"
      ]
     },
     "execution_count": 11,
     "metadata": {},
     "output_type": "execute_result"
    }
   ],
   "source": [
    "input(\"Enter you name?\")"
   ]
  },
  {
   "cell_type": "code",
   "execution_count": 12,
   "id": "b995b2bd-d28e-4a23-a83f-2709462f680b",
   "metadata": {},
   "outputs": [
    {
     "name": "stdin",
     "output_type": "stream",
     "text": [
      "enter your age 34\n"
     ]
    }
   ],
   "source": [
    "a = input(\"enter your age\")"
   ]
  },
  {
   "cell_type": "code",
   "execution_count": 13,
   "id": "3e4b66a6-dd61-43b4-b6b4-18168d8e7303",
   "metadata": {},
   "outputs": [
    {
     "data": {
      "text/plain": [
       "'34'"
      ]
     },
     "execution_count": 13,
     "metadata": {},
     "output_type": "execute_result"
    }
   ],
   "source": [
    "a"
   ]
  },
  {
   "cell_type": "code",
   "execution_count": 14,
   "id": "374ac194-ecf2-40cd-b2d7-2495ea681b3d",
   "metadata": {},
   "outputs": [],
   "source": [
    "a = int(a)"
   ]
  },
  {
   "cell_type": "code",
   "execution_count": 15,
   "id": "50e7b4e6-3119-4d18-b324-7c950a19a17f",
   "metadata": {},
   "outputs": [
    {
     "data": {
      "text/plain": [
       "34"
      ]
     },
     "execution_count": 15,
     "metadata": {},
     "output_type": "execute_result"
    }
   ],
   "source": [
    "a"
   ]
  },
  {
   "cell_type": "code",
   "execution_count": 16,
   "id": "c4ed6a21-39f3-4513-b10e-1db857eddf8a",
   "metadata": {},
   "outputs": [
    {
     "name": "stdin",
     "output_type": "stream",
     "text": [
      "Enter age guy\n"
     ]
    }
   ],
   "source": [
    "a = input(\"Enter age\")"
   ]
  },
  {
   "cell_type": "code",
   "execution_count": 17,
   "id": "c4625c20-1af0-457d-b51a-2fdad9c55207",
   "metadata": {},
   "outputs": [
    {
     "ename": "ValueError",
     "evalue": "invalid literal for int() with base 10: 'guy'",
     "output_type": "error",
     "traceback": [
      "\u001b[1;31m---------------------------------------------------------------------------\u001b[0m",
      "\u001b[1;31mValueError\u001b[0m                                Traceback (most recent call last)",
      "Cell \u001b[1;32mIn[17], line 1\u001b[0m\n\u001b[1;32m----> 1\u001b[0m a \u001b[38;5;241m=\u001b[39m \u001b[38;5;28mint\u001b[39m(a)\n",
      "\u001b[1;31mValueError\u001b[0m: invalid literal for int() with base 10: 'guy'"
     ]
    }
   ],
   "source": [
    "a = int(a)"
   ]
  },
  {
   "cell_type": "markdown",
   "id": "84c7601e-84c6-4812-99eb-163328759973",
   "metadata": {
    "jp-MarkdownHeadingCollapsed": true
   },
   "source": [
    "# type casting"
   ]
  },
  {
   "cell_type": "code",
   "execution_count": 1,
   "id": "c276f57b-5575-4fa0-8479-cc7e28b1083d",
   "metadata": {},
   "outputs": [
    {
     "data": {
      "text/plain": [
       "'823'"
      ]
     },
     "execution_count": 1,
     "metadata": {},
     "output_type": "execute_result"
    }
   ],
   "source": [
    "str(823)"
   ]
  },
  {
   "cell_type": "code",
   "execution_count": 2,
   "id": "ebfe6084-bc19-45c0-86cd-704530d1dfd4",
   "metadata": {},
   "outputs": [
    {
     "data": {
      "text/plain": [
       "50"
      ]
     },
     "execution_count": 2,
     "metadata": {},
     "output_type": "execute_result"
    }
   ],
   "source": [
    "int(50.6)"
   ]
  },
  {
   "cell_type": "code",
   "execution_count": 3,
   "id": "16b9f574-671a-4038-addc-751f98eba67d",
   "metadata": {},
   "outputs": [
    {
     "ename": "ValueError",
     "evalue": "invalid literal for int() with base 10: '30.4'",
     "output_type": "error",
     "traceback": [
      "\u001b[1;31m---------------------------------------------------------------------------\u001b[0m",
      "\u001b[1;31mValueError\u001b[0m                                Traceback (most recent call last)",
      "Cell \u001b[1;32mIn[3], line 1\u001b[0m\n\u001b[1;32m----> 1\u001b[0m \u001b[38;5;28mint\u001b[39m(\u001b[38;5;124m'\u001b[39m\u001b[38;5;124m30.4\u001b[39m\u001b[38;5;124m'\u001b[39m)\n",
      "\u001b[1;31mValueError\u001b[0m: invalid literal for int() with base 10: '30.4'"
     ]
    }
   ],
   "source": [
    "int('30.4')"
   ]
  },
  {
   "cell_type": "code",
   "execution_count": 4,
   "id": "11edf953-fe16-4df7-93de-a497e0c9aec6",
   "metadata": {},
   "outputs": [
    {
     "data": {
      "text/plain": [
       "30"
      ]
     },
     "execution_count": 4,
     "metadata": {},
     "output_type": "execute_result"
    }
   ],
   "source": [
    "int(float(30.5))"
   ]
  },
  {
   "cell_type": "markdown",
   "id": "aa73c9fb-9bab-46d7-886b-f20f76f690df",
   "metadata": {},
   "source": [
    "# print"
   ]
  },
  {
   "cell_type": "code",
   "execution_count": 5,
   "id": "46c8fa8c-a558-43e0-8ce1-932af69e2be2",
   "metadata": {},
   "outputs": [
    {
     "ename": "NameError",
     "evalue": "name 'none' is not defined",
     "output_type": "error",
     "traceback": [
      "\u001b[1;31m---------------------------------------------------------------------------\u001b[0m",
      "\u001b[1;31mNameError\u001b[0m                                 Traceback (most recent call last)",
      "Cell \u001b[1;32mIn[5], line 1\u001b[0m\n\u001b[1;32m----> 1\u001b[0m a \u001b[38;5;241m=\u001b[39m none\n",
      "\u001b[1;31mNameError\u001b[0m: name 'none' is not defined"
     ]
    }
   ],
   "source": [
    "a = none"
   ]
  },
  {
   "cell_type": "code",
   "execution_count": 6,
   "id": "c8b83f41-7ad1-4cc6-9e15-28fbf7f657cb",
   "metadata": {},
   "outputs": [],
   "source": [
    "a = None"
   ]
  },
  {
   "cell_type": "code",
   "execution_count": 7,
   "id": "7b85ebf1-c706-434a-a3cb-067e975e18ab",
   "metadata": {},
   "outputs": [
    {
     "ename": "NameError",
     "evalue": "name 'none' is not defined",
     "output_type": "error",
     "traceback": [
      "\u001b[1;31m---------------------------------------------------------------------------\u001b[0m",
      "\u001b[1;31mNameError\u001b[0m                                 Traceback (most recent call last)",
      "Cell \u001b[1;32mIn[7], line 1\u001b[0m\n\u001b[1;32m----> 1\u001b[0m a \u001b[38;5;241m=\u001b[39m none\n",
      "\u001b[1;31mNameError\u001b[0m: name 'none' is not defined"
     ]
    }
   ],
   "source": [
    "a = none"
   ]
  },
  {
   "cell_type": "code",
   "execution_count": 8,
   "id": "b759ebb4-0634-44ed-8edb-2dfdfda25254",
   "metadata": {},
   "outputs": [],
   "source": [
    "a = None"
   ]
  },
  {
   "cell_type": "code",
   "execution_count": 9,
   "id": "94dd8ce0-d00c-4554-8951-5dc7fbc28eab",
   "metadata": {},
   "outputs": [
    {
     "name": "stdout",
     "output_type": "stream",
     "text": [
      "5 3 shubham singh\n"
     ]
    }
   ],
   "source": [
    "print(5,3,'shubham','singh')"
   ]
  },
  {
   "cell_type": "code",
   "execution_count": 10,
   "id": "ca447d46-eab6-42f0-80c8-13fcc65e5b89",
   "metadata": {},
   "outputs": [
    {
     "name": "stdout",
     "output_type": "stream",
     "text": [
      "5 * 3 * shubham * singh\n"
     ]
    }
   ],
   "source": [
    "print(5,3,'shubham','singh' , sep=\" * \")"
   ]
  },
  {
   "cell_type": "code",
   "execution_count": 11,
   "id": "6e7bd205-fc12-4aa4-b047-0bb5fab5e65b",
   "metadata": {},
   "outputs": [
    {
     "name": "stdout",
     "output_type": "stream",
     "text": [
      "5/3/shubham/singh\n"
     ]
    }
   ],
   "source": [
    "print(5,3,'shubham','singh', sep=\"/\")"
   ]
  },
  {
   "cell_type": "code",
   "execution_count": 12,
   "id": "3607f1bd-3158-4375-b34b-8914bc2a5358",
   "metadata": {},
   "outputs": [
    {
     "name": "stdout",
     "output_type": "stream",
     "text": [
      "34\n",
      "53\n"
     ]
    }
   ],
   "source": [
    "print(34)\n",
    "print(53)"
   ]
  },
  {
   "cell_type": "code",
   "execution_count": 13,
   "id": "ecac8507-e057-410a-8fd3-0e1c1ef6c5fa",
   "metadata": {},
   "outputs": [
    {
     "name": "stdout",
     "output_type": "stream",
     "text": [
      "34 * 53\n"
     ]
    }
   ],
   "source": [
    "print(34, end=\" * \")\n",
    "print(53)"
   ]
  },
  {
   "cell_type": "code",
   "execution_count": 15,
   "id": "3aec3f59-ac16-425c-b114-0d9d3c0b5772",
   "metadata": {},
   "outputs": [
    {
     "name": "stdout",
     "output_type": "stream",
     "text": [
      "34\n",
      "*\n",
      "53\n"
     ]
    }
   ],
   "source": [
    "print(34, end = \"\\n*\\n\")\n",
    "print(53)"
   ]
  },
  {
   "cell_type": "raw",
   "id": "8518a549-8d57-48d1-9cb0-02e53ca8d56a",
   "metadata": {},
   "source": [
    "a = 'hello'\n",
    "b = 34\n",
    "print(f'{a} {b}')"
   ]
  },
  {
   "cell_type": "code",
   "execution_count": 16,
   "id": "1f2148a6-ca0f-481b-8850-6d074eb2367d",
   "metadata": {},
   "outputs": [
    {
     "name": "stdout",
     "output_type": "stream",
     "text": [
      "hello 34\n"
     ]
    }
   ],
   "source": [
    "a = 'hello'\n",
    "b = 34\n",
    "print(f'{a} {b}')"
   ]
  },
  {
   "cell_type": "code",
   "execution_count": 17,
   "id": "0d648086-818a-4e95-9ff3-f78ece99153d",
   "metadata": {},
   "outputs": [
    {
     "name": "stdout",
     "output_type": "stream",
     "text": [
      "34\n",
      "*\n",
      "53\n"
     ]
    }
   ],
   "source": [
    "print(34, end = \"\\n*\\n\")\n",
    "print(53)"
   ]
  },
  {
   "cell_type": "code",
   "execution_count": 18,
   "id": "5d3ec397-7a47-4dd3-b772-b856dcec0253",
   "metadata": {},
   "outputs": [
    {
     "name": "stdout",
     "output_type": "stream",
     "text": [
      "hello 34\n"
     ]
    }
   ],
   "source": [
    "a = 'hello'\n",
    "b = 34\n",
    "print(f'{a} {b}')"
   ]
  },
  {
   "cell_type": "code",
   "execution_count": 27,
   "id": "56d0f886-9d1a-436a-87b3-26f0815c5096",
   "metadata": {},
   "outputs": [],
   "source": [
    "a = \"hello shub\\tham\"\n",
    "b = \"hello shub\\nham\""
   ]
  },
  {
   "cell_type": "code",
   "execution_count": 30,
   "id": "9d171dfc-1418-45ae-b9c4-ee8c60a30328",
   "metadata": {},
   "outputs": [
    {
     "name": "stdout",
     "output_type": "stream",
     "text": [
      "hello shub\tham\n"
     ]
    }
   ],
   "source": [
    "print(a)"
   ]
  },
  {
   "cell_type": "code",
   "execution_count": 32,
   "id": "061fa726-7f56-4e31-9e15-820dc201ffb8",
   "metadata": {},
   "outputs": [
    {
     "name": "stdout",
     "output_type": "stream",
     "text": [
      "hello shub\n",
      "ham\n"
     ]
    }
   ],
   "source": [
    "print(b)"
   ]
  },
  {
   "cell_type": "code",
   "execution_count": 33,
   "id": "c36e878f-bbfc-4e8d-aebf-426b035148b1",
   "metadata": {},
   "outputs": [
    {
     "name": "stdout",
     "output_type": "stream",
     "text": [
      "a\\         b\n"
     ]
    }
   ],
   "source": [
    "print('a\\\\         b')"
   ]
  },
  {
   "cell_type": "code",
   "execution_count": 36,
   "id": "f9a78e92-8833-4304-8530-b14a708170b1",
   "metadata": {},
   "outputs": [
    {
     "data": {
      "text/plain": [
       "97"
      ]
     },
     "execution_count": 36,
     "metadata": {},
     "output_type": "execute_result"
    }
   ],
   "source": [
    "ord('a')"
   ]
  },
  {
   "cell_type": "code",
   "execution_count": 37,
   "id": "35df9d2c-5995-4ae0-a443-4ef28066e1a5",
   "metadata": {},
   "outputs": [
    {
     "data": {
      "text/plain": [
       "140734013812704"
      ]
     },
     "execution_count": 37,
     "metadata": {},
     "output_type": "execute_result"
    }
   ],
   "source": [
    "id('a')"
   ]
  },
  {
   "cell_type": "code",
   "execution_count": null,
   "id": "50c916a3-bcf5-447a-9e06-1baf89730e9e",
   "metadata": {},
   "outputs": [],
   "source": []
  }
 ],
 "metadata": {
  "kernelspec": {
   "display_name": "Python 3 (ipykernel)",
   "language": "python",
   "name": "python3"
  },
  "language_info": {
   "codemirror_mode": {
    "name": "ipython",
    "version": 3
   },
   "file_extension": ".py",
   "mimetype": "text/x-python",
   "name": "python",
   "nbconvert_exporter": "python",
   "pygments_lexer": "ipython3",
   "version": "3.13.5"
  }
 },
 "nbformat": 4,
 "nbformat_minor": 5
}
