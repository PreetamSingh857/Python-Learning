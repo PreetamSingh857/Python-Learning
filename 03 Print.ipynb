{
 "cells": [
  {
   "cell_type": "code",
   "execution_count": 1,
   "id": "476373b4-b8be-4f1d-80c9-ed2f8d05f61f",
   "metadata": {},
   "outputs": [],
   "source": [
    "a = 5\n",
    "b=6"
   ]
  },
  {
   "cell_type": "code",
   "execution_count": 2,
   "id": "97fdaa30-083d-4c41-9b25-797d64206b85",
   "metadata": {},
   "outputs": [
    {
     "data": {
      "text/plain": [
       "5"
      ]
     },
     "execution_count": 2,
     "metadata": {},
     "output_type": "execute_result"
    }
   ],
   "source": [
    "a"
   ]
  },
  {
   "cell_type": "code",
   "execution_count": 3,
   "id": "a92cd3d3-d2ee-4fcc-82a0-6d4bfb58eaac",
   "metadata": {},
   "outputs": [
    {
     "data": {
      "text/plain": [
       "6"
      ]
     },
     "execution_count": 3,
     "metadata": {},
     "output_type": "execute_result"
    }
   ],
   "source": [
    "b"
   ]
  },
  {
   "cell_type": "code",
   "execution_count": 4,
   "id": "482f1e5a-05c3-45aa-a9d1-eaa34daaedc0",
   "metadata": {},
   "outputs": [
    {
     "name": "stdout",
     "output_type": "stream",
     "text": [
      "5\n"
     ]
    }
   ],
   "source": [
    "print(a)"
   ]
  },
  {
   "cell_type": "code",
   "execution_count": 5,
   "id": "5f7ac272-9e1f-4af4-87c1-cae7f915bf0d",
   "metadata": {},
   "outputs": [
    {
     "name": "stdout",
     "output_type": "stream",
     "text": [
      "4\n"
     ]
    }
   ],
   "source": [
    "c = print(4)"
   ]
  },
  {
   "cell_type": "code",
   "execution_count": 6,
   "id": "4e0da564-9d32-41e0-8f1a-b6c78b65598e",
   "metadata": {},
   "outputs": [],
   "source": [
    "c"
   ]
  },
  {
   "cell_type": "code",
   "execution_count": 7,
   "id": "624ac845-3f8b-4dfb-80db-7cdffebfb2a2",
   "metadata": {},
   "outputs": [
    {
     "name": "stdout",
     "output_type": "stream",
     "text": [
      "None\n"
     ]
    }
   ],
   "source": [
    "print(c)"
   ]
  },
  {
   "cell_type": "code",
   "execution_count": 8,
   "id": "d3999516-51ef-4afa-b291-836be8fe377e",
   "metadata": {},
   "outputs": [
    {
     "data": {
      "text/plain": [
       "NoneType"
      ]
     },
     "execution_count": 8,
     "metadata": {},
     "output_type": "execute_result"
    }
   ],
   "source": [
    "type(c)"
   ]
  },
  {
   "cell_type": "code",
   "execution_count": 10,
   "id": "de1f7662-ec49-4b26-bb8b-f11336503b3f",
   "metadata": {},
   "outputs": [
    {
     "name": "stdin",
     "output_type": "stream",
     "text": [
      " d\n"
     ]
    },
    {
     "data": {
      "text/plain": [
       "'d'"
      ]
     },
     "execution_count": 10,
     "metadata": {},
     "output_type": "execute_result"
    }
   ],
   "source": [
    "input()"
   ]
  },
  {
   "cell_type": "markdown",
   "id": "8d64c52e-d487-4834-ab6b-1534607b7db9",
   "metadata": {},
   "source": [
    "# Imput Statement"
   ]
  },
  {
   "cell_type": "code",
   "execution_count": 11,
   "id": "e2a7b5a1-f0b3-4285-b202-5ac92823177e",
   "metadata": {},
   "outputs": [
    {
     "name": "stdin",
     "output_type": "stream",
     "text": [
      "Enter you name? jkdshf\n"
     ]
    },
    {
     "data": {
      "text/plain": [
       "'jkdshf'"
      ]
     },
     "execution_count": 11,
     "metadata": {},
     "output_type": "execute_result"
    }
   ],
   "source": [
    "input(\"Enter you name?\")"
   ]
  },
  {
   "cell_type": "code",
   "execution_count": 12,
   "id": "b995b2bd-d28e-4a23-a83f-2709462f680b",
   "metadata": {},
   "outputs": [
    {
     "name": "stdin",
     "output_type": "stream",
     "text": [
      "enter your age 34\n"
     ]
    }
   ],
   "source": [
    "a = input(\"enter your age\")"
   ]
  },
  {
   "cell_type": "code",
   "execution_count": 13,
   "id": "3e4b66a6-dd61-43b4-b6b4-18168d8e7303",
   "metadata": {},
   "outputs": [
    {
     "data": {
      "text/plain": [
       "'34'"
      ]
     },
     "execution_count": 13,
     "metadata": {},
     "output_type": "execute_result"
    }
   ],
   "source": [
    "a"
   ]
  },
  {
   "cell_type": "code",
   "execution_count": 14,
   "id": "374ac194-ecf2-40cd-b2d7-2495ea681b3d",
   "metadata": {},
   "outputs": [],
   "source": [
    "a = int(a)"
   ]
  },
  {
   "cell_type": "code",
   "execution_count": 15,
   "id": "50e7b4e6-3119-4d18-b324-7c950a19a17f",
   "metadata": {},
   "outputs": [
    {
     "data": {
      "text/plain": [
       "34"
      ]
     },
     "execution_count": 15,
     "metadata": {},
     "output_type": "execute_result"
    }
   ],
   "source": [
    "a"
   ]
  },
  {
   "cell_type": "code",
   "execution_count": 16,
   "id": "c4ed6a21-39f3-4513-b10e-1db857eddf8a",
   "metadata": {},
   "outputs": [
    {
     "name": "stdin",
     "output_type": "stream",
     "text": [
      "Enter age guy\n"
     ]
    }
   ],
   "source": [
    "a = input(\"Enter age\")"
   ]
  },
  {
   "cell_type": "code",
   "execution_count": 17,
   "id": "c4625c20-1af0-457d-b51a-2fdad9c55207",
   "metadata": {},
   "outputs": [
    {
     "ename": "ValueError",
     "evalue": "invalid literal for int() with base 10: 'guy'",
     "output_type": "error",
     "traceback": [
      "\u001b[1;31m---------------------------------------------------------------------------\u001b[0m",
      "\u001b[1;31mValueError\u001b[0m                                Traceback (most recent call last)",
      "Cell \u001b[1;32mIn[17], line 1\u001b[0m\n\u001b[1;32m----> 1\u001b[0m a \u001b[38;5;241m=\u001b[39m \u001b[38;5;28mint\u001b[39m(a)\n",
      "\u001b[1;31mValueError\u001b[0m: invalid literal for int() with base 10: 'guy'"
     ]
    }
   ],
   "source": [
    "a = int(a)"
   ]
  },
  {
   "cell_type": "code",
   "execution_count": null,
   "id": "106a6ee7-9b3d-4d45-a587-129b9c98131a",
   "metadata": {},
   "outputs": [],
   "source": []
  }
 ],
 "metadata": {
  "kernelspec": {
   "display_name": "Python 3 (ipykernel)",
   "language": "python",
   "name": "python3"
  },
  "language_info": {
   "codemirror_mode": {
    "name": "ipython",
    "version": 3
   },
   "file_extension": ".py",
   "mimetype": "text/x-python",
   "name": "python",
   "nbconvert_exporter": "python",
   "pygments_lexer": "ipython3",
   "version": "3.13.5"
  }
 },
 "nbformat": 4,
 "nbformat_minor": 5
}
